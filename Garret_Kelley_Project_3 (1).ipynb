{
  "cells": [
    {
      "cell_type": "markdown",
      "metadata": {
        "id": "p2r5o8SR4rqH"
      },
      "source": [
        "# Supervised Learning - Foundations Project: ReCell "
      ]
    },
    {
      "cell_type": "markdown",
      "metadata": {
        "id": "3SntBY974rqJ"
      },
      "source": [
        "## Problem Statement"
      ]
    },
    {
      "cell_type": "markdown",
      "metadata": {
        "id": "RA_GXJwuhmVz"
      },
      "source": [
        "### Business Context\n",
        "\n",
        "Buying and selling used phones and tablets used to be something that happened on a handful of online marketplace sites. But the used and refurbished device market has grown considerably over the past decade, and a new IDC (International Data Corporation) forecast predicts that the used phone market would be worth \\\\$52.7bn by 2023 with a compound annual growth rate (CAGR) of 13.6% from 2018 to 2023. This growth can be attributed to an uptick in demand for used phones and tablets that offer considerable savings compared with new models.\n",
        "\n",
        "Refurbished and used devices continue to provide cost-effective alternatives to both consumers and businesses that are looking to save money when purchasing one. There are plenty of other benefits associated with the used device market. Used and refurbished devices can be sold with warranties and can also be insured with proof of purchase. Third-party vendors/platforms, such as Verizon, Amazon, etc., provide attractive offers to customers for refurbished devices. Maximizing the longevity of devices through second-hand trade also reduces their environmental impact and helps in recycling and reducing waste. The impact of the COVID-19 outbreak may further boost this segment as consumers cut back on discretionary spending and buy phones and tablets only for immediate needs.\n",
        "\n",
        " \n",
        "### Objective\n",
        "\n",
        "The rising potential of this comparatively under-the-radar market fuels the need for an ML-based solution to develop a dynamic pricing strategy for used and refurbished devices. ReCell, a startup aiming to tap the potential in this market, has hired you as a data scientist. They want you to analyze the data provided and build a linear regression model to predict the price of a used phone/tablet and identify factors that significantly influence it.\n",
        "\n",
        " \n",
        "### Data Description\n",
        "\n",
        "The data contains the different attributes of used/refurbished phones and tablets. The data was collected in the year 2021. The detailed data dictionary is given below.\n",
        "\n",
        "\n",
        "- brand_name: Name of manufacturing brand\n",
        "- os: OS on which the device runs\n",
        "- screen_size: Size of the screen in cm\n",
        "- 4g: Whether 4G is available or not\n",
        "- 5g: Whether 5G is available or not\n",
        "- main_camera_mp: Resolution of the rear camera in megapixels\n",
        "- selfie_camera_mp: Resolution of the front camera in megapixels\n",
        "- int_memory: Amount of internal memory (ROM) in GB\n",
        "- ram: Amount of RAM in GB\n",
        "- battery: Energy capacity of the device battery in mAh\n",
        "- weight: Weight of the device in grams\n",
        "- release_year: Year when the device model was released\n",
        "- days_used: Number of days the used/refurbished device has been used\n",
        "- normalized_new_price: Normalized price of a new device of the same model in euros\n",
        "- normalized_used_price: Normalized price of the used/refurbished device in euros"
      ]
    },
    {
      "cell_type": "markdown",
      "metadata": {
        "id": "v_-uuGqH-qTt"
      },
      "source": [
        "## Importing necessary libraries"
      ]
    },
    {
      "cell_type": "code",
      "execution_count": null,
      "metadata": {
        "id": "zeF8YaNKDPyK",
        "colab": {
          "base_uri": "https://localhost:8080/"
        },
        "outputId": "923a92fa-e76a-42e8-cac2-922208518564"
      },
      "outputs": [
        {
          "output_type": "stream",
          "name": "stderr",
          "text": [
            "/usr/local/lib/python3.7/dist-packages/statsmodels/tools/_testing.py:19: FutureWarning: pandas.util.testing is deprecated. Use the functions in the public API at pandas.testing instead.\n",
            "  import pandas.util.testing as tm\n"
          ]
        }
      ],
      "source": [
        "# Import all the neccessary libraries\n",
        "import numpy as np\n",
        "import pandas as pd\n",
        "\n",
        "import matplotlib.pyplot as plt\n",
        "import seaborn as sns\n",
        "\n",
        "# Splits the data into train and test\n",
        "from sklearn.model_selection import train_test_split\n",
        "\n",
        "# We use this to build linear regression_model\n",
        "from sklearn.linear_model import LinearRegression\n",
        "\n",
        "# This is for checking model performance\n",
        "from sklearn.metrics import mean_absolute_error, mean_squared_error, r2_score\n",
        "\n",
        "# Used to build linear regression models using stats models\n",
        "import statsmodels.api as sm\n",
        "\n",
        "# Used to compute VIF\n",
        "from statsmodels.stats.outliers_influence import variance_inflation_factor"
      ]
    },
    {
      "cell_type": "code",
      "source": [
        "# Connecting my google drive\n",
        "from google.colab import drive\n",
        "drive.mount('/content/drive')"
      ],
      "metadata": {
        "colab": {
          "base_uri": "https://localhost:8080/"
        },
        "id": "KG3a8VD_O9hY",
        "outputId": "eabd225a-417c-4c69-a4dc-f59b02ac0eda"
      },
      "execution_count": null,
      "outputs": [
        {
          "output_type": "stream",
          "name": "stdout",
          "text": [
            "Drive already mounted at /content/drive; to attempt to forcibly remount, call drive.mount(\"/content/drive\", force_remount=True).\n"
          ]
        }
      ]
    },
    {
      "cell_type": "markdown",
      "metadata": {
        "id": "xxhpZv9y-qTw"
      },
      "source": [
        "## Loading the dataset"
      ]
    },
    {
      "cell_type": "code",
      "execution_count": null,
      "metadata": {
        "id": "ZJwX9wuc4rqL",
        "colab": {
          "base_uri": "https://localhost:8080/",
          "height": 363
        },
        "outputId": "9072c6d8-52cd-4fb3-b833-e383f61ccfe3"
      },
      "outputs": [
        {
          "output_type": "execute_result",
          "data": {
            "text/plain": [
              "  brand_name       os  screen_size   4g   5g  main_camera_mp  \\\n",
              "0      Honor  Android        14.50  yes   no            13.0   \n",
              "1      Honor  Android        17.30  yes  yes            13.0   \n",
              "2      Honor  Android        16.69  yes  yes            13.0   \n",
              "3      Honor  Android        25.50  yes  yes            13.0   \n",
              "4      Honor  Android        15.32  yes   no            13.0   \n",
              "5      Honor  Android        16.23  yes   no            13.0   \n",
              "6      Honor  Android        13.84  yes   no             8.0   \n",
              "7      Honor  Android        15.77  yes   no            13.0   \n",
              "8      Honor  Android        15.32  yes   no            13.0   \n",
              "9      Honor  Android        16.23  yes   no            13.0   \n",
              "\n",
              "   selfie_camera_mp  int_memory  ram  battery  weight  release_year  \\\n",
              "0               5.0        64.0  3.0   3020.0   146.0          2020   \n",
              "1              16.0       128.0  8.0   4300.0   213.0          2020   \n",
              "2               8.0       128.0  8.0   4200.0   213.0          2020   \n",
              "3               8.0        64.0  6.0   7250.0   480.0          2020   \n",
              "4               8.0        64.0  3.0   5000.0   185.0          2020   \n",
              "5               8.0        64.0  4.0   4000.0   176.0          2020   \n",
              "6               5.0        32.0  2.0   3020.0   144.0          2020   \n",
              "7               8.0        64.0  4.0   3400.0   164.0          2020   \n",
              "8              16.0       128.0  6.0   4000.0   165.0          2020   \n",
              "9               8.0       128.0  6.0   4000.0   176.0          2020   \n",
              "\n",
              "   days_used  normalized_used_price  normalized_new_price  \n",
              "0        127               4.307572              4.715100  \n",
              "1        325               5.162097              5.519018  \n",
              "2        162               5.111084              5.884631  \n",
              "3        345               5.135387              5.630961  \n",
              "4        293               4.389995              4.947837  \n",
              "5        223               4.413889              5.060694  \n",
              "6        234               3.878259              4.518958  \n",
              "7        219               4.729421              5.188726  \n",
              "8        161               4.886054              5.299916  \n",
              "9        327               4.773224              5.073610  "
            ],
            "text/html": [
              "\n",
              "  <div id=\"df-dad2e518-1e5a-40cf-a57f-39fcac08a7c6\">\n",
              "    <div class=\"colab-df-container\">\n",
              "      <div>\n",
              "<style scoped>\n",
              "    .dataframe tbody tr th:only-of-type {\n",
              "        vertical-align: middle;\n",
              "    }\n",
              "\n",
              "    .dataframe tbody tr th {\n",
              "        vertical-align: top;\n",
              "    }\n",
              "\n",
              "    .dataframe thead th {\n",
              "        text-align: right;\n",
              "    }\n",
              "</style>\n",
              "<table border=\"1\" class=\"dataframe\">\n",
              "  <thead>\n",
              "    <tr style=\"text-align: right;\">\n",
              "      <th></th>\n",
              "      <th>brand_name</th>\n",
              "      <th>os</th>\n",
              "      <th>screen_size</th>\n",
              "      <th>4g</th>\n",
              "      <th>5g</th>\n",
              "      <th>main_camera_mp</th>\n",
              "      <th>selfie_camera_mp</th>\n",
              "      <th>int_memory</th>\n",
              "      <th>ram</th>\n",
              "      <th>battery</th>\n",
              "      <th>weight</th>\n",
              "      <th>release_year</th>\n",
              "      <th>days_used</th>\n",
              "      <th>normalized_used_price</th>\n",
              "      <th>normalized_new_price</th>\n",
              "    </tr>\n",
              "  </thead>\n",
              "  <tbody>\n",
              "    <tr>\n",
              "      <th>0</th>\n",
              "      <td>Honor</td>\n",
              "      <td>Android</td>\n",
              "      <td>14.50</td>\n",
              "      <td>yes</td>\n",
              "      <td>no</td>\n",
              "      <td>13.0</td>\n",
              "      <td>5.0</td>\n",
              "      <td>64.0</td>\n",
              "      <td>3.0</td>\n",
              "      <td>3020.0</td>\n",
              "      <td>146.0</td>\n",
              "      <td>2020</td>\n",
              "      <td>127</td>\n",
              "      <td>4.307572</td>\n",
              "      <td>4.715100</td>\n",
              "    </tr>\n",
              "    <tr>\n",
              "      <th>1</th>\n",
              "      <td>Honor</td>\n",
              "      <td>Android</td>\n",
              "      <td>17.30</td>\n",
              "      <td>yes</td>\n",
              "      <td>yes</td>\n",
              "      <td>13.0</td>\n",
              "      <td>16.0</td>\n",
              "      <td>128.0</td>\n",
              "      <td>8.0</td>\n",
              "      <td>4300.0</td>\n",
              "      <td>213.0</td>\n",
              "      <td>2020</td>\n",
              "      <td>325</td>\n",
              "      <td>5.162097</td>\n",
              "      <td>5.519018</td>\n",
              "    </tr>\n",
              "    <tr>\n",
              "      <th>2</th>\n",
              "      <td>Honor</td>\n",
              "      <td>Android</td>\n",
              "      <td>16.69</td>\n",
              "      <td>yes</td>\n",
              "      <td>yes</td>\n",
              "      <td>13.0</td>\n",
              "      <td>8.0</td>\n",
              "      <td>128.0</td>\n",
              "      <td>8.0</td>\n",
              "      <td>4200.0</td>\n",
              "      <td>213.0</td>\n",
              "      <td>2020</td>\n",
              "      <td>162</td>\n",
              "      <td>5.111084</td>\n",
              "      <td>5.884631</td>\n",
              "    </tr>\n",
              "    <tr>\n",
              "      <th>3</th>\n",
              "      <td>Honor</td>\n",
              "      <td>Android</td>\n",
              "      <td>25.50</td>\n",
              "      <td>yes</td>\n",
              "      <td>yes</td>\n",
              "      <td>13.0</td>\n",
              "      <td>8.0</td>\n",
              "      <td>64.0</td>\n",
              "      <td>6.0</td>\n",
              "      <td>7250.0</td>\n",
              "      <td>480.0</td>\n",
              "      <td>2020</td>\n",
              "      <td>345</td>\n",
              "      <td>5.135387</td>\n",
              "      <td>5.630961</td>\n",
              "    </tr>\n",
              "    <tr>\n",
              "      <th>4</th>\n",
              "      <td>Honor</td>\n",
              "      <td>Android</td>\n",
              "      <td>15.32</td>\n",
              "      <td>yes</td>\n",
              "      <td>no</td>\n",
              "      <td>13.0</td>\n",
              "      <td>8.0</td>\n",
              "      <td>64.0</td>\n",
              "      <td>3.0</td>\n",
              "      <td>5000.0</td>\n",
              "      <td>185.0</td>\n",
              "      <td>2020</td>\n",
              "      <td>293</td>\n",
              "      <td>4.389995</td>\n",
              "      <td>4.947837</td>\n",
              "    </tr>\n",
              "    <tr>\n",
              "      <th>5</th>\n",
              "      <td>Honor</td>\n",
              "      <td>Android</td>\n",
              "      <td>16.23</td>\n",
              "      <td>yes</td>\n",
              "      <td>no</td>\n",
              "      <td>13.0</td>\n",
              "      <td>8.0</td>\n",
              "      <td>64.0</td>\n",
              "      <td>4.0</td>\n",
              "      <td>4000.0</td>\n",
              "      <td>176.0</td>\n",
              "      <td>2020</td>\n",
              "      <td>223</td>\n",
              "      <td>4.413889</td>\n",
              "      <td>5.060694</td>\n",
              "    </tr>\n",
              "    <tr>\n",
              "      <th>6</th>\n",
              "      <td>Honor</td>\n",
              "      <td>Android</td>\n",
              "      <td>13.84</td>\n",
              "      <td>yes</td>\n",
              "      <td>no</td>\n",
              "      <td>8.0</td>\n",
              "      <td>5.0</td>\n",
              "      <td>32.0</td>\n",
              "      <td>2.0</td>\n",
              "      <td>3020.0</td>\n",
              "      <td>144.0</td>\n",
              "      <td>2020</td>\n",
              "      <td>234</td>\n",
              "      <td>3.878259</td>\n",
              "      <td>4.518958</td>\n",
              "    </tr>\n",
              "    <tr>\n",
              "      <th>7</th>\n",
              "      <td>Honor</td>\n",
              "      <td>Android</td>\n",
              "      <td>15.77</td>\n",
              "      <td>yes</td>\n",
              "      <td>no</td>\n",
              "      <td>13.0</td>\n",
              "      <td>8.0</td>\n",
              "      <td>64.0</td>\n",
              "      <td>4.0</td>\n",
              "      <td>3400.0</td>\n",
              "      <td>164.0</td>\n",
              "      <td>2020</td>\n",
              "      <td>219</td>\n",
              "      <td>4.729421</td>\n",
              "      <td>5.188726</td>\n",
              "    </tr>\n",
              "    <tr>\n",
              "      <th>8</th>\n",
              "      <td>Honor</td>\n",
              "      <td>Android</td>\n",
              "      <td>15.32</td>\n",
              "      <td>yes</td>\n",
              "      <td>no</td>\n",
              "      <td>13.0</td>\n",
              "      <td>16.0</td>\n",
              "      <td>128.0</td>\n",
              "      <td>6.0</td>\n",
              "      <td>4000.0</td>\n",
              "      <td>165.0</td>\n",
              "      <td>2020</td>\n",
              "      <td>161</td>\n",
              "      <td>4.886054</td>\n",
              "      <td>5.299916</td>\n",
              "    </tr>\n",
              "    <tr>\n",
              "      <th>9</th>\n",
              "      <td>Honor</td>\n",
              "      <td>Android</td>\n",
              "      <td>16.23</td>\n",
              "      <td>yes</td>\n",
              "      <td>no</td>\n",
              "      <td>13.0</td>\n",
              "      <td>8.0</td>\n",
              "      <td>128.0</td>\n",
              "      <td>6.0</td>\n",
              "      <td>4000.0</td>\n",
              "      <td>176.0</td>\n",
              "      <td>2020</td>\n",
              "      <td>327</td>\n",
              "      <td>4.773224</td>\n",
              "      <td>5.073610</td>\n",
              "    </tr>\n",
              "  </tbody>\n",
              "</table>\n",
              "</div>\n",
              "      <button class=\"colab-df-convert\" onclick=\"convertToInteractive('df-dad2e518-1e5a-40cf-a57f-39fcac08a7c6')\"\n",
              "              title=\"Convert this dataframe to an interactive table.\"\n",
              "              style=\"display:none;\">\n",
              "        \n",
              "  <svg xmlns=\"http://www.w3.org/2000/svg\" height=\"24px\"viewBox=\"0 0 24 24\"\n",
              "       width=\"24px\">\n",
              "    <path d=\"M0 0h24v24H0V0z\" fill=\"none\"/>\n",
              "    <path d=\"M18.56 5.44l.94 2.06.94-2.06 2.06-.94-2.06-.94-.94-2.06-.94 2.06-2.06.94zm-11 1L8.5 8.5l.94-2.06 2.06-.94-2.06-.94L8.5 2.5l-.94 2.06-2.06.94zm10 10l.94 2.06.94-2.06 2.06-.94-2.06-.94-.94-2.06-.94 2.06-2.06.94z\"/><path d=\"M17.41 7.96l-1.37-1.37c-.4-.4-.92-.59-1.43-.59-.52 0-1.04.2-1.43.59L10.3 9.45l-7.72 7.72c-.78.78-.78 2.05 0 2.83L4 21.41c.39.39.9.59 1.41.59.51 0 1.02-.2 1.41-.59l7.78-7.78 2.81-2.81c.8-.78.8-2.07 0-2.86zM5.41 20L4 18.59l7.72-7.72 1.47 1.35L5.41 20z\"/>\n",
              "  </svg>\n",
              "      </button>\n",
              "      \n",
              "  <style>\n",
              "    .colab-df-container {\n",
              "      display:flex;\n",
              "      flex-wrap:wrap;\n",
              "      gap: 12px;\n",
              "    }\n",
              "\n",
              "    .colab-df-convert {\n",
              "      background-color: #E8F0FE;\n",
              "      border: none;\n",
              "      border-radius: 50%;\n",
              "      cursor: pointer;\n",
              "      display: none;\n",
              "      fill: #1967D2;\n",
              "      height: 32px;\n",
              "      padding: 0 0 0 0;\n",
              "      width: 32px;\n",
              "    }\n",
              "\n",
              "    .colab-df-convert:hover {\n",
              "      background-color: #E2EBFA;\n",
              "      box-shadow: 0px 1px 2px rgba(60, 64, 67, 0.3), 0px 1px 3px 1px rgba(60, 64, 67, 0.15);\n",
              "      fill: #174EA6;\n",
              "    }\n",
              "\n",
              "    [theme=dark] .colab-df-convert {\n",
              "      background-color: #3B4455;\n",
              "      fill: #D2E3FC;\n",
              "    }\n",
              "\n",
              "    [theme=dark] .colab-df-convert:hover {\n",
              "      background-color: #434B5C;\n",
              "      box-shadow: 0px 1px 3px 1px rgba(0, 0, 0, 0.15);\n",
              "      filter: drop-shadow(0px 1px 2px rgba(0, 0, 0, 0.3));\n",
              "      fill: #FFFFFF;\n",
              "    }\n",
              "  </style>\n",
              "\n",
              "      <script>\n",
              "        const buttonEl =\n",
              "          document.querySelector('#df-dad2e518-1e5a-40cf-a57f-39fcac08a7c6 button.colab-df-convert');\n",
              "        buttonEl.style.display =\n",
              "          google.colab.kernel.accessAllowed ? 'block' : 'none';\n",
              "\n",
              "        async function convertToInteractive(key) {\n",
              "          const element = document.querySelector('#df-dad2e518-1e5a-40cf-a57f-39fcac08a7c6');\n",
              "          const dataTable =\n",
              "            await google.colab.kernel.invokeFunction('convertToInteractive',\n",
              "                                                     [key], {});\n",
              "          if (!dataTable) return;\n",
              "\n",
              "          const docLinkHtml = 'Like what you see? Visit the ' +\n",
              "            '<a target=\"_blank\" href=https://colab.research.google.com/notebooks/data_table.ipynb>data table notebook</a>'\n",
              "            + ' to learn more about interactive tables.';\n",
              "          element.innerHTML = '';\n",
              "          dataTable['output_type'] = 'display_data';\n",
              "          await google.colab.output.renderOutput(dataTable, element);\n",
              "          const docLink = document.createElement('div');\n",
              "          docLink.innerHTML = docLinkHtml;\n",
              "          element.appendChild(docLink);\n",
              "        }\n",
              "      </script>\n",
              "    </div>\n",
              "  </div>\n",
              "  "
            ]
          },
          "metadata": {},
          "execution_count": 3
        }
      ],
      "source": [
        "# Read the data and make sure it is the correct data and it works\n",
        "data = pd.read_csv('/content/drive/MyDrive/Colab/used_device_data.csv')\n",
        "# returns the first 10 rows\n",
        "data.head(10)"
      ]
    },
    {
      "cell_type": "markdown",
      "metadata": {
        "id": "UvpMDcaaMKtI"
      },
      "source": [
        "## Data Overview"
      ]
    },
    {
      "cell_type": "markdown",
      "source": [
        "- Observations\n",
        "- Sanity checks"
      ],
      "metadata": {
        "id": "tIiCRwqZ54_C"
      }
    },
    {
      "cell_type": "code",
      "execution_count": null,
      "metadata": {
        "id": "01hJQ7EfMKtK",
        "colab": {
          "base_uri": "https://localhost:8080/"
        },
        "outputId": "1a34cab4-8954-4b05-bfab-bafa55e26eae"
      },
      "outputs": [
        {
          "output_type": "execute_result",
          "data": {
            "text/plain": [
              "(3454, 15)"
            ]
          },
          "metadata": {},
          "execution_count": 6
        }
      ],
      "source": [
        "# Finding the shape of the data, 3454 rows and 15 columns\n",
        "data.shape"
      ]
    },
    {
      "cell_type": "code",
      "source": [
        "# Information about the data more importantly the type of data. For instance, object, int64, or float64\n",
        "data.info()"
      ],
      "metadata": {
        "colab": {
          "base_uri": "https://localhost:8080/"
        },
        "id": "5WH6CsgHPejg",
        "outputId": "7b397b98-b521-427d-dbc2-719e4bea6633"
      },
      "execution_count": null,
      "outputs": [
        {
          "output_type": "stream",
          "name": "stdout",
          "text": [
            "<class 'pandas.core.frame.DataFrame'>\n",
            "RangeIndex: 3454 entries, 0 to 3453\n",
            "Data columns (total 15 columns):\n",
            " #   Column                 Non-Null Count  Dtype  \n",
            "---  ------                 --------------  -----  \n",
            " 0   brand_name             3454 non-null   object \n",
            " 1   os                     3454 non-null   object \n",
            " 2   screen_size            3454 non-null   float64\n",
            " 3   4g                     3454 non-null   object \n",
            " 4   5g                     3454 non-null   object \n",
            " 5   main_camera_mp         3275 non-null   float64\n",
            " 6   selfie_camera_mp       3452 non-null   float64\n",
            " 7   int_memory             3450 non-null   float64\n",
            " 8   ram                    3450 non-null   float64\n",
            " 9   battery                3448 non-null   float64\n",
            " 10  weight                 3447 non-null   float64\n",
            " 11  release_year           3454 non-null   int64  \n",
            " 12  days_used              3454 non-null   int64  \n",
            " 13  normalized_used_price  3454 non-null   float64\n",
            " 14  normalized_new_price   3454 non-null   float64\n",
            "dtypes: float64(9), int64(2), object(4)\n",
            "memory usage: 404.9+ KB\n"
          ]
        }
      ]
    },
    {
      "cell_type": "code",
      "source": [
        "# Use this to find missing values in each column\n",
        "data.isnull().sum()\n",
        "# We can see that there are some missing values in the rows main_camera_mp, selfie camera_mp, in_memory, ram, battery, and weight"
      ],
      "metadata": {
        "colab": {
          "base_uri": "https://localhost:8080/"
        },
        "id": "9uR8Y0WLPkPR",
        "outputId": "aef78aa6-9bea-43d1-ff61-07a9ff1d998c"
      },
      "execution_count": null,
      "outputs": [
        {
          "output_type": "execute_result",
          "data": {
            "text/plain": [
              "brand_name                 0\n",
              "os                         0\n",
              "screen_size                0\n",
              "4g                         0\n",
              "5g                         0\n",
              "main_camera_mp           179\n",
              "selfie_camera_mp           2\n",
              "int_memory                 4\n",
              "ram                        4\n",
              "battery                    6\n",
              "weight                     7\n",
              "release_year               0\n",
              "days_used                  0\n",
              "normalized_used_price      0\n",
              "normalized_new_price       0\n",
              "dtype: int64"
            ]
          },
          "metadata": {},
          "execution_count": 14
        }
      ]
    },
    {
      "cell_type": "code",
      "source": [
        "# Use this to find duplicate entries in the dataset\n",
        "data.duplicated().sum()\n",
        "# In this dataset we have no duplicates"
      ],
      "metadata": {
        "colab": {
          "base_uri": "https://localhost:8080/"
        },
        "id": "myrm1TR3Px3V",
        "outputId": "2872b66b-9740-4870-976c-8e26657e71ba"
      },
      "execution_count": null,
      "outputs": [
        {
          "output_type": "execute_result",
          "data": {
            "text/plain": [
              "0"
            ]
          },
          "metadata": {},
          "execution_count": 15
        }
      ]
    },
    {
      "cell_type": "code",
      "source": [
        "# Use this to find statistical data about the numerical variables\n",
        "data.describe(include = 'all').T"
      ],
      "metadata": {
        "colab": {
          "base_uri": "https://localhost:8080/",
          "height": 583
        },
        "id": "9TfutTblQNO6",
        "outputId": "0399fbb9-efc9-4b4d-cb80-2276f28bd62b"
      },
      "execution_count": null,
      "outputs": [
        {
          "output_type": "execute_result",
          "data": {
            "text/plain": [
              "                        count unique      top  freq         mean          std  \\\n",
              "brand_name               3454     34   Others   502          NaN          NaN   \n",
              "os                       3454      4  Android  3214          NaN          NaN   \n",
              "screen_size            3454.0    NaN      NaN   NaN    13.713115      3.80528   \n",
              "4g                       3454      2      yes  2335          NaN          NaN   \n",
              "5g                       3454      2       no  3302          NaN          NaN   \n",
              "main_camera_mp         3275.0    NaN      NaN   NaN     9.460208     4.815461   \n",
              "selfie_camera_mp       3452.0    NaN      NaN   NaN     6.554229     6.970372   \n",
              "int_memory             3450.0    NaN      NaN   NaN    54.573099    84.972371   \n",
              "ram                    3450.0    NaN      NaN   NaN     4.036122     1.365105   \n",
              "battery                3448.0    NaN      NaN   NaN  3133.402697  1299.682844   \n",
              "weight                 3447.0    NaN      NaN   NaN   182.751871    88.413228   \n",
              "release_year           3454.0    NaN      NaN   NaN  2015.965258     2.298455   \n",
              "days_used              3454.0    NaN      NaN   NaN   674.869716   248.580166   \n",
              "normalized_used_price  3454.0    NaN      NaN   NaN     4.364712     0.588914   \n",
              "normalized_new_price   3454.0    NaN      NaN   NaN     5.233107     0.683637   \n",
              "\n",
              "                            min       25%       50%       75%       max  \n",
              "brand_name                  NaN       NaN       NaN       NaN       NaN  \n",
              "os                          NaN       NaN       NaN       NaN       NaN  \n",
              "screen_size                5.08      12.7     12.83     15.34     30.71  \n",
              "4g                          NaN       NaN       NaN       NaN       NaN  \n",
              "5g                          NaN       NaN       NaN       NaN       NaN  \n",
              "main_camera_mp             0.08       5.0       8.0      13.0      48.0  \n",
              "selfie_camera_mp            0.0       2.0       5.0       8.0      32.0  \n",
              "int_memory                 0.01      16.0      32.0      64.0    1024.0  \n",
              "ram                        0.02       4.0       4.0       4.0      12.0  \n",
              "battery                   500.0    2100.0    3000.0    4000.0    9720.0  \n",
              "weight                     69.0     142.0     160.0     185.0     855.0  \n",
              "release_year             2013.0    2014.0    2015.5    2018.0    2020.0  \n",
              "days_used                  91.0     533.5     690.5    868.75    1094.0  \n",
              "normalized_used_price  1.536867  4.033931  4.405133    4.7557  6.619433  \n",
              "normalized_new_price   2.901422  4.790342  5.245892  5.673718  7.847841  "
            ],
            "text/html": [
              "\n",
              "  <div id=\"df-34b59bf0-8a86-4380-9863-83dc70444cb6\">\n",
              "    <div class=\"colab-df-container\">\n",
              "      <div>\n",
              "<style scoped>\n",
              "    .dataframe tbody tr th:only-of-type {\n",
              "        vertical-align: middle;\n",
              "    }\n",
              "\n",
              "    .dataframe tbody tr th {\n",
              "        vertical-align: top;\n",
              "    }\n",
              "\n",
              "    .dataframe thead th {\n",
              "        text-align: right;\n",
              "    }\n",
              "</style>\n",
              "<table border=\"1\" class=\"dataframe\">\n",
              "  <thead>\n",
              "    <tr style=\"text-align: right;\">\n",
              "      <th></th>\n",
              "      <th>count</th>\n",
              "      <th>unique</th>\n",
              "      <th>top</th>\n",
              "      <th>freq</th>\n",
              "      <th>mean</th>\n",
              "      <th>std</th>\n",
              "      <th>min</th>\n",
              "      <th>25%</th>\n",
              "      <th>50%</th>\n",
              "      <th>75%</th>\n",
              "      <th>max</th>\n",
              "    </tr>\n",
              "  </thead>\n",
              "  <tbody>\n",
              "    <tr>\n",
              "      <th>brand_name</th>\n",
              "      <td>3454</td>\n",
              "      <td>34</td>\n",
              "      <td>Others</td>\n",
              "      <td>502</td>\n",
              "      <td>NaN</td>\n",
              "      <td>NaN</td>\n",
              "      <td>NaN</td>\n",
              "      <td>NaN</td>\n",
              "      <td>NaN</td>\n",
              "      <td>NaN</td>\n",
              "      <td>NaN</td>\n",
              "    </tr>\n",
              "    <tr>\n",
              "      <th>os</th>\n",
              "      <td>3454</td>\n",
              "      <td>4</td>\n",
              "      <td>Android</td>\n",
              "      <td>3214</td>\n",
              "      <td>NaN</td>\n",
              "      <td>NaN</td>\n",
              "      <td>NaN</td>\n",
              "      <td>NaN</td>\n",
              "      <td>NaN</td>\n",
              "      <td>NaN</td>\n",
              "      <td>NaN</td>\n",
              "    </tr>\n",
              "    <tr>\n",
              "      <th>screen_size</th>\n",
              "      <td>3454.0</td>\n",
              "      <td>NaN</td>\n",
              "      <td>NaN</td>\n",
              "      <td>NaN</td>\n",
              "      <td>13.713115</td>\n",
              "      <td>3.80528</td>\n",
              "      <td>5.08</td>\n",
              "      <td>12.7</td>\n",
              "      <td>12.83</td>\n",
              "      <td>15.34</td>\n",
              "      <td>30.71</td>\n",
              "    </tr>\n",
              "    <tr>\n",
              "      <th>4g</th>\n",
              "      <td>3454</td>\n",
              "      <td>2</td>\n",
              "      <td>yes</td>\n",
              "      <td>2335</td>\n",
              "      <td>NaN</td>\n",
              "      <td>NaN</td>\n",
              "      <td>NaN</td>\n",
              "      <td>NaN</td>\n",
              "      <td>NaN</td>\n",
              "      <td>NaN</td>\n",
              "      <td>NaN</td>\n",
              "    </tr>\n",
              "    <tr>\n",
              "      <th>5g</th>\n",
              "      <td>3454</td>\n",
              "      <td>2</td>\n",
              "      <td>no</td>\n",
              "      <td>3302</td>\n",
              "      <td>NaN</td>\n",
              "      <td>NaN</td>\n",
              "      <td>NaN</td>\n",
              "      <td>NaN</td>\n",
              "      <td>NaN</td>\n",
              "      <td>NaN</td>\n",
              "      <td>NaN</td>\n",
              "    </tr>\n",
              "    <tr>\n",
              "      <th>main_camera_mp</th>\n",
              "      <td>3275.0</td>\n",
              "      <td>NaN</td>\n",
              "      <td>NaN</td>\n",
              "      <td>NaN</td>\n",
              "      <td>9.460208</td>\n",
              "      <td>4.815461</td>\n",
              "      <td>0.08</td>\n",
              "      <td>5.0</td>\n",
              "      <td>8.0</td>\n",
              "      <td>13.0</td>\n",
              "      <td>48.0</td>\n",
              "    </tr>\n",
              "    <tr>\n",
              "      <th>selfie_camera_mp</th>\n",
              "      <td>3452.0</td>\n",
              "      <td>NaN</td>\n",
              "      <td>NaN</td>\n",
              "      <td>NaN</td>\n",
              "      <td>6.554229</td>\n",
              "      <td>6.970372</td>\n",
              "      <td>0.0</td>\n",
              "      <td>2.0</td>\n",
              "      <td>5.0</td>\n",
              "      <td>8.0</td>\n",
              "      <td>32.0</td>\n",
              "    </tr>\n",
              "    <tr>\n",
              "      <th>int_memory</th>\n",
              "      <td>3450.0</td>\n",
              "      <td>NaN</td>\n",
              "      <td>NaN</td>\n",
              "      <td>NaN</td>\n",
              "      <td>54.573099</td>\n",
              "      <td>84.972371</td>\n",
              "      <td>0.01</td>\n",
              "      <td>16.0</td>\n",
              "      <td>32.0</td>\n",
              "      <td>64.0</td>\n",
              "      <td>1024.0</td>\n",
              "    </tr>\n",
              "    <tr>\n",
              "      <th>ram</th>\n",
              "      <td>3450.0</td>\n",
              "      <td>NaN</td>\n",
              "      <td>NaN</td>\n",
              "      <td>NaN</td>\n",
              "      <td>4.036122</td>\n",
              "      <td>1.365105</td>\n",
              "      <td>0.02</td>\n",
              "      <td>4.0</td>\n",
              "      <td>4.0</td>\n",
              "      <td>4.0</td>\n",
              "      <td>12.0</td>\n",
              "    </tr>\n",
              "    <tr>\n",
              "      <th>battery</th>\n",
              "      <td>3448.0</td>\n",
              "      <td>NaN</td>\n",
              "      <td>NaN</td>\n",
              "      <td>NaN</td>\n",
              "      <td>3133.402697</td>\n",
              "      <td>1299.682844</td>\n",
              "      <td>500.0</td>\n",
              "      <td>2100.0</td>\n",
              "      <td>3000.0</td>\n",
              "      <td>4000.0</td>\n",
              "      <td>9720.0</td>\n",
              "    </tr>\n",
              "    <tr>\n",
              "      <th>weight</th>\n",
              "      <td>3447.0</td>\n",
              "      <td>NaN</td>\n",
              "      <td>NaN</td>\n",
              "      <td>NaN</td>\n",
              "      <td>182.751871</td>\n",
              "      <td>88.413228</td>\n",
              "      <td>69.0</td>\n",
              "      <td>142.0</td>\n",
              "      <td>160.0</td>\n",
              "      <td>185.0</td>\n",
              "      <td>855.0</td>\n",
              "    </tr>\n",
              "    <tr>\n",
              "      <th>release_year</th>\n",
              "      <td>3454.0</td>\n",
              "      <td>NaN</td>\n",
              "      <td>NaN</td>\n",
              "      <td>NaN</td>\n",
              "      <td>2015.965258</td>\n",
              "      <td>2.298455</td>\n",
              "      <td>2013.0</td>\n",
              "      <td>2014.0</td>\n",
              "      <td>2015.5</td>\n",
              "      <td>2018.0</td>\n",
              "      <td>2020.0</td>\n",
              "    </tr>\n",
              "    <tr>\n",
              "      <th>days_used</th>\n",
              "      <td>3454.0</td>\n",
              "      <td>NaN</td>\n",
              "      <td>NaN</td>\n",
              "      <td>NaN</td>\n",
              "      <td>674.869716</td>\n",
              "      <td>248.580166</td>\n",
              "      <td>91.0</td>\n",
              "      <td>533.5</td>\n",
              "      <td>690.5</td>\n",
              "      <td>868.75</td>\n",
              "      <td>1094.0</td>\n",
              "    </tr>\n",
              "    <tr>\n",
              "      <th>normalized_used_price</th>\n",
              "      <td>3454.0</td>\n",
              "      <td>NaN</td>\n",
              "      <td>NaN</td>\n",
              "      <td>NaN</td>\n",
              "      <td>4.364712</td>\n",
              "      <td>0.588914</td>\n",
              "      <td>1.536867</td>\n",
              "      <td>4.033931</td>\n",
              "      <td>4.405133</td>\n",
              "      <td>4.7557</td>\n",
              "      <td>6.619433</td>\n",
              "    </tr>\n",
              "    <tr>\n",
              "      <th>normalized_new_price</th>\n",
              "      <td>3454.0</td>\n",
              "      <td>NaN</td>\n",
              "      <td>NaN</td>\n",
              "      <td>NaN</td>\n",
              "      <td>5.233107</td>\n",
              "      <td>0.683637</td>\n",
              "      <td>2.901422</td>\n",
              "      <td>4.790342</td>\n",
              "      <td>5.245892</td>\n",
              "      <td>5.673718</td>\n",
              "      <td>7.847841</td>\n",
              "    </tr>\n",
              "  </tbody>\n",
              "</table>\n",
              "</div>\n",
              "      <button class=\"colab-df-convert\" onclick=\"convertToInteractive('df-34b59bf0-8a86-4380-9863-83dc70444cb6')\"\n",
              "              title=\"Convert this dataframe to an interactive table.\"\n",
              "              style=\"display:none;\">\n",
              "        \n",
              "  <svg xmlns=\"http://www.w3.org/2000/svg\" height=\"24px\"viewBox=\"0 0 24 24\"\n",
              "       width=\"24px\">\n",
              "    <path d=\"M0 0h24v24H0V0z\" fill=\"none\"/>\n",
              "    <path d=\"M18.56 5.44l.94 2.06.94-2.06 2.06-.94-2.06-.94-.94-2.06-.94 2.06-2.06.94zm-11 1L8.5 8.5l.94-2.06 2.06-.94-2.06-.94L8.5 2.5l-.94 2.06-2.06.94zm10 10l.94 2.06.94-2.06 2.06-.94-2.06-.94-.94-2.06-.94 2.06-2.06.94z\"/><path d=\"M17.41 7.96l-1.37-1.37c-.4-.4-.92-.59-1.43-.59-.52 0-1.04.2-1.43.59L10.3 9.45l-7.72 7.72c-.78.78-.78 2.05 0 2.83L4 21.41c.39.39.9.59 1.41.59.51 0 1.02-.2 1.41-.59l7.78-7.78 2.81-2.81c.8-.78.8-2.07 0-2.86zM5.41 20L4 18.59l7.72-7.72 1.47 1.35L5.41 20z\"/>\n",
              "  </svg>\n",
              "      </button>\n",
              "      \n",
              "  <style>\n",
              "    .colab-df-container {\n",
              "      display:flex;\n",
              "      flex-wrap:wrap;\n",
              "      gap: 12px;\n",
              "    }\n",
              "\n",
              "    .colab-df-convert {\n",
              "      background-color: #E8F0FE;\n",
              "      border: none;\n",
              "      border-radius: 50%;\n",
              "      cursor: pointer;\n",
              "      display: none;\n",
              "      fill: #1967D2;\n",
              "      height: 32px;\n",
              "      padding: 0 0 0 0;\n",
              "      width: 32px;\n",
              "    }\n",
              "\n",
              "    .colab-df-convert:hover {\n",
              "      background-color: #E2EBFA;\n",
              "      box-shadow: 0px 1px 2px rgba(60, 64, 67, 0.3), 0px 1px 3px 1px rgba(60, 64, 67, 0.15);\n",
              "      fill: #174EA6;\n",
              "    }\n",
              "\n",
              "    [theme=dark] .colab-df-convert {\n",
              "      background-color: #3B4455;\n",
              "      fill: #D2E3FC;\n",
              "    }\n",
              "\n",
              "    [theme=dark] .colab-df-convert:hover {\n",
              "      background-color: #434B5C;\n",
              "      box-shadow: 0px 1px 3px 1px rgba(0, 0, 0, 0.15);\n",
              "      filter: drop-shadow(0px 1px 2px rgba(0, 0, 0, 0.3));\n",
              "      fill: #FFFFFF;\n",
              "    }\n",
              "  </style>\n",
              "\n",
              "      <script>\n",
              "        const buttonEl =\n",
              "          document.querySelector('#df-34b59bf0-8a86-4380-9863-83dc70444cb6 button.colab-df-convert');\n",
              "        buttonEl.style.display =\n",
              "          google.colab.kernel.accessAllowed ? 'block' : 'none';\n",
              "\n",
              "        async function convertToInteractive(key) {\n",
              "          const element = document.querySelector('#df-34b59bf0-8a86-4380-9863-83dc70444cb6');\n",
              "          const dataTable =\n",
              "            await google.colab.kernel.invokeFunction('convertToInteractive',\n",
              "                                                     [key], {});\n",
              "          if (!dataTable) return;\n",
              "\n",
              "          const docLinkHtml = 'Like what you see? Visit the ' +\n",
              "            '<a target=\"_blank\" href=https://colab.research.google.com/notebooks/data_table.ipynb>data table notebook</a>'\n",
              "            + ' to learn more about interactive tables.';\n",
              "          element.innerHTML = '';\n",
              "          dataTable['output_type'] = 'display_data';\n",
              "          await google.colab.output.renderOutput(dataTable, element);\n",
              "          const docLink = document.createElement('div');\n",
              "          docLink.innerHTML = docLinkHtml;\n",
              "          element.appendChild(docLink);\n",
              "        }\n",
              "      </script>\n",
              "    </div>\n",
              "  </div>\n",
              "  "
            ]
          },
          "metadata": {},
          "execution_count": 138
        }
      ]
    },
    {
      "cell_type": "code",
      "source": [
        "# Making a copy of the original just incase we have to make changes\n",
        "df = data.copy()"
      ],
      "metadata": {
        "id": "IxS2AOhbQYKm"
      },
      "execution_count": null,
      "outputs": []
    },
    {
      "cell_type": "markdown",
      "metadata": {
        "id": "__7ciGcIDPyk"
      },
      "source": [
        "## Exploratory Data Analysis (EDA)"
      ]
    },
    {
      "cell_type": "markdown",
      "source": [
        "- EDA is an important part of any project involving data.\n",
        "- It is important to investigate and understand the data better before building a model with it.\n",
        "- A few questions have been mentioned below which will help you approach the analysis in the right manner and generate insights from the data.\n",
        "- A thorough analysis of the data, in addition to the questions mentioned below, should be done."
      ],
      "metadata": {
        "id": "3bGVKmh75ri8"
      }
    },
    {
      "cell_type": "markdown",
      "metadata": {
        "id": "oEyqzdJBb0jU"
      },
      "source": [
        "**Questions**:\n",
        "\n",
        "1. What does the distribution of normalized used device prices look like?\n",
        "2. What percentage of the used device market is dominated by Android devices?\n",
        "3. The amount of RAM is important for the smooth functioning of a device. How does the amount of RAM vary with the brand?\n",
        "4. A large battery often increases a device's weight, making it feel uncomfortable in the hands. How does the weight vary for phones and tablets offering large batteries (more than 4500 mAh)?\n",
        "5. Bigger screens are desirable for entertainment purposes as they offer a better viewing experience. How many phones and tablets are available across different brands with a screen size larger than 6 inches?\n",
        "6. A lot of devices nowadays offer great selfie cameras, allowing us to capture our favorite moments with loved ones. What is the distribution of devices offering greater than 8MP selfie cameras across brands?\n",
        "7. Which attributes are highly correlated with the normalized price of a used device?"
      ]
    },
    {
      "cell_type": "markdown",
      "source": [
        "### Univariate Analysis"
      ],
      "metadata": {
        "id": "E6ZKywD5b9kt"
      }
    },
    {
      "cell_type": "markdown",
      "source": [
        "#### Numerical Variables"
      ],
      "metadata": {
        "id": "TS1NGy4TcZPz"
      }
    },
    {
      "cell_type": "code",
      "execution_count": null,
      "metadata": {
        "id": "cN1lyueHttwW"
      },
      "outputs": [],
      "source": [
        "# In order to get a good idea of the distribution of these variable, a histogram or/and box plot would be the best. \n",
        "f, (ax_box, ax_hist) = plt.subplots(2, sharex = True, figsize = (15,10))\n",
        "\n",
        "sns.boxplot(df['normalized_used_price'], ax = ax_box, color = 'mistyrose', showmeans = True)\n",
        "sns.histplot(data = df, x = 'normalized_used_price', ax = ax_hist, color = \"coral\", )\n",
        "\n",
        "ax_hist.axvline(df['normalized_used_price'].mean())\n",
        "\n",
        "ax_box.set(xlabel='')\n",
        "plt.show()"
      ]
    },
    {
      "cell_type": "code",
      "source": [
        "# That was a lot of code for one image, so lets make it a function so we can reproduce it for the other variables.\n",
        "def combo_hist_box(df, variable):\n",
        "\n",
        "  f, (ax_box, ax_hist) = plt.subplots(2, sharex = True, figsize = (12,8))\n",
        "\n",
        "  sns.boxplot(df[variable], ax = ax_box, color = 'mistyrose', showmeans = True)\n",
        "  sns.histplot(data = df, x = variable, ax = ax_hist, color = \"coral\", )\n",
        "\n",
        "  ax_hist.axvline(df[variable].mean())\n",
        "\n",
        "  ax_box.set(xlabel='')\n",
        "  plt.show();"
      ],
      "metadata": {
        "id": "4NII0YOCPeDu"
      },
      "execution_count": null,
      "outputs": []
    },
    {
      "cell_type": "code",
      "source": [
        "combo_hist_box(df, 'normalized_used_price')\n",
        "# We can see that the normalized_used_price is indeed normally distributed"
      ],
      "metadata": {
        "colab": {
          "base_uri": "https://localhost:8080/",
          "height": 555
        },
        "id": "Z2IUT1FzaHUX",
        "outputId": "5c630bde-60f2-4328-9b33-4e70e490d80a"
      },
      "execution_count": null,
      "outputs": [
        {
          "output_type": "stream",
          "name": "stderr",
          "text": [
            "/usr/local/lib/python3.7/dist-packages/seaborn/_decorators.py:43: FutureWarning: Pass the following variable as a keyword arg: x. From version 0.12, the only valid positional argument will be `data`, and passing other arguments without an explicit keyword will result in an error or misinterpretation.\n",
            "  FutureWarning\n"
          ]
        },
        {
          "output_type": "display_data",
          "data": {
            "text/plain": [
              "<Figure size 864x576 with 2 Axes>"
            ],
            "image/png": "[encoded data removed]"
          },
          "metadata": {
            "needs_background": "light"
          }
        }
      ]
    },
    {
      "cell_type": "code",
      "source": [
        "combo_hist_box(df, 'normalized_new_price')\n",
        "# We can see that the normalized_new_price is indeed normally distributed"
      ],
      "metadata": {
        "colab": {
          "base_uri": "https://localhost:8080/",
          "height": 555
        },
        "id": "tZi9IlO1aY4-",
        "outputId": "3775fe55-694d-4d68-f11f-94e3ba863f27"
      },
      "execution_count": null,
      "outputs": [
        {
          "output_type": "stream",
          "name": "stderr",
          "text": [
            "/usr/local/lib/python3.7/dist-packages/seaborn/_decorators.py:43: FutureWarning: Pass the following variable as a keyword arg: x. From version 0.12, the only valid positional argument will be `data`, and passing other arguments without an explicit keyword will result in an error or misinterpretation.\n",
            "  FutureWarning\n"
          ]
        },
        {
          "output_type": "display_data",
          "data": {
            "text/plain": [
              "<Figure size 864x576 with 2 Axes>"
            ],
            "image/png": "[encoded data removed]"
          },
          "metadata": {
            "needs_background": "light"
          }
        }
      ]
    },
    {
      "cell_type": "code",
      "source": [
        "combo_hist_box(df, 'screen_size')\n",
        "# We can see from the image that there is one screen size that is pretty popular or maybe they just buy and sell that size a lot"
      ],
      "metadata": {
        "colab": {
          "base_uri": "https://localhost:8080/",
          "height": 555
        },
        "id": "QAXIURCTaZLb",
        "outputId": "56fbac20-1844-4ffb-9e1a-d4db6a662b73"
      },
      "execution_count": null,
      "outputs": [
        {
          "output_type": "stream",
          "name": "stderr",
          "text": [
            "/usr/local/lib/python3.7/dist-packages/seaborn/_decorators.py:43: FutureWarning: Pass the following variable as a keyword arg: x. From version 0.12, the only valid positional argument will be `data`, and passing other arguments without an explicit keyword will result in an error or misinterpretation.\n",
            "  FutureWarning\n"
          ]
        },
        {
          "output_type": "display_data",
          "data": {
            "text/plain": [
              "<Figure size 864x576 with 2 Axes>"
            ],
            "image/png": "[encoded data removed]"
          },
          "metadata": {
            "needs_background": "light"
          }
        }
      ]
    },
    {
      "cell_type": "code",
      "source": [
        "combo_hist_box(df, 'main_camera_mp')\n",
        "# Most cameras are similar with a few outliers of really good quality"
      ],
      "metadata": {
        "colab": {
          "base_uri": "https://localhost:8080/",
          "height": 555
        },
        "id": "btWI5MSWaZTX",
        "outputId": "29285925-3137-4f14-9f52-98a46f7d255f"
      },
      "execution_count": null,
      "outputs": [
        {
          "output_type": "stream",
          "name": "stderr",
          "text": [
            "/usr/local/lib/python3.7/dist-packages/seaborn/_decorators.py:43: FutureWarning: Pass the following variable as a keyword arg: x. From version 0.12, the only valid positional argument will be `data`, and passing other arguments without an explicit keyword will result in an error or misinterpretation.\n",
            "  FutureWarning\n"
          ]
        },
        {
          "output_type": "display_data",
          "data": {
            "text/plain": [
              "<Figure size 864x576 with 2 Axes>"
            ],
            "image/png": "[encoded data removed]"
          },
          "metadata": {
            "needs_background": "light"
          }
        }
      ]
    },
    {
      "cell_type": "code",
      "source": [
        "combo_hist_box(df, 'selfie_camera_mp')\n",
        "# We can compare and see that selfie cameras are not as good as the main camera"
      ],
      "metadata": {
        "colab": {
          "base_uri": "https://localhost:8080/",
          "height": 555
        },
        "id": "8j-eFRLtbUPV",
        "outputId": "6f72b8d0-e3a1-401d-db75-d9118dd3922b"
      },
      "execution_count": null,
      "outputs": [
        {
          "output_type": "stream",
          "name": "stderr",
          "text": [
            "/usr/local/lib/python3.7/dist-packages/seaborn/_decorators.py:43: FutureWarning: Pass the following variable as a keyword arg: x. From version 0.12, the only valid positional argument will be `data`, and passing other arguments without an explicit keyword will result in an error or misinterpretation.\n",
            "  FutureWarning\n"
          ]
        },
        {
          "output_type": "display_data",
          "data": {
            "text/plain": [
              "<Figure size 864x576 with 2 Axes>"
            ],
            "image/png": "[encoded data removed]"
          },
          "metadata": {
            "needs_background": "light"
          }
        }
      ]
    },
    {
      "cell_type": "code",
      "source": [
        "combo_hist_box(df, 'int_memory')"
      ],
      "metadata": {
        "colab": {
          "base_uri": "https://localhost:8080/",
          "height": 555
        },
        "id": "iBzcj_sCbUWN",
        "outputId": "a5593329-ee8e-42d5-e5c3-9d4ab4b21b56"
      },
      "execution_count": null,
      "outputs": [
        {
          "output_type": "stream",
          "name": "stderr",
          "text": [
            "/usr/local/lib/python3.7/dist-packages/seaborn/_decorators.py:43: FutureWarning: Pass the following variable as a keyword arg: x. From version 0.12, the only valid positional argument will be `data`, and passing other arguments without an explicit keyword will result in an error or misinterpretation.\n",
            "  FutureWarning\n"
          ]
        },
        {
          "output_type": "display_data",
          "data": {
            "text/plain": [
              "<Figure size 864x576 with 2 Axes>"
            ],
            "image/png": "[encoded data removed]"
          },
          "metadata": {
            "needs_background": "light"
          }
        }
      ]
    },
    {
      "cell_type": "code",
      "source": [
        "combo_hist_box(df, 'ram')\n",
        "# Most phone used 4 units of ram and its pretty clear to see"
      ],
      "metadata": {
        "colab": {
          "base_uri": "https://localhost:8080/",
          "height": 554
        },
        "id": "f7fDxVT6bUcY",
        "outputId": "93dce6f7-22e0-4237-c8ac-6894f67fc4e1"
      },
      "execution_count": null,
      "outputs": [
        {
          "output_type": "stream",
          "name": "stderr",
          "text": [
            "/usr/local/lib/python3.7/dist-packages/seaborn/_decorators.py:43: FutureWarning: Pass the following variable as a keyword arg: x. From version 0.12, the only valid positional argument will be `data`, and passing other arguments without an explicit keyword will result in an error or misinterpretation.\n",
            "  FutureWarning\n"
          ]
        },
        {
          "output_type": "display_data",
          "data": {
            "text/plain": [
              "<Figure size 864x576 with 2 Axes>"
            ],
            "image/png": "[encoded data removed]"
          },
          "metadata": {
            "needs_background": "light"
          }
        }
      ]
    },
    {
      "cell_type": "code",
      "source": [
        "combo_hist_box(df, 'battery')"
      ],
      "metadata": {
        "colab": {
          "base_uri": "https://localhost:8080/",
          "height": 554
        },
        "id": "0jKwXnb1bUiy",
        "outputId": "cf15e24b-07ae-43e7-f4a2-04ee8c45bfc4"
      },
      "execution_count": null,
      "outputs": [
        {
          "output_type": "stream",
          "name": "stderr",
          "text": [
            "/usr/local/lib/python3.7/dist-packages/seaborn/_decorators.py:43: FutureWarning: Pass the following variable as a keyword arg: x. From version 0.12, the only valid positional argument will be `data`, and passing other arguments without an explicit keyword will result in an error or misinterpretation.\n",
            "  FutureWarning\n"
          ]
        },
        {
          "output_type": "display_data",
          "data": {
            "text/plain": [
              "<Figure size 864x576 with 2 Axes>"
            ],
            "image/png": "[encoded data removed]"
          },
          "metadata": {
            "needs_background": "light"
          }
        }
      ]
    },
    {
      "cell_type": "code",
      "source": [
        "combo_hist_box(df, 'weight')\n",
        "# We can see the majority of phones are in between the range 100 units to 200 units with a long tail of heavier phones"
      ],
      "metadata": {
        "colab": {
          "base_uri": "https://localhost:8080/",
          "height": 554
        },
        "id": "eQn4yuhqbUoy",
        "outputId": "33d9903b-7ecb-4b10-f4f1-2c7099d753a4"
      },
      "execution_count": null,
      "outputs": [
        {
          "output_type": "stream",
          "name": "stderr",
          "text": [
            "/usr/local/lib/python3.7/dist-packages/seaborn/_decorators.py:43: FutureWarning: Pass the following variable as a keyword arg: x. From version 0.12, the only valid positional argument will be `data`, and passing other arguments without an explicit keyword will result in an error or misinterpretation.\n",
            "  FutureWarning\n"
          ]
        },
        {
          "output_type": "display_data",
          "data": {
            "text/plain": [
              "<Figure size 864x576 with 2 Axes>"
            ],
            "image/png": "[encoded data removed]"
          },
          "metadata": {
            "needs_background": "light"
          }
        }
      ]
    },
    {
      "cell_type": "code",
      "source": [
        "combo_hist_box(df, 'days_used')\n",
        "# This is a interesting graph since it somewhat deals with release_year because the longer the phone has been out obviously the more use days."
      ],
      "metadata": {
        "colab": {
          "base_uri": "https://localhost:8080/",
          "height": 555
        },
        "id": "vnu79sxObUu_",
        "outputId": "29cf352f-67f5-4dbd-8927-cfedeb299a9f"
      },
      "execution_count": null,
      "outputs": [
        {
          "output_type": "stream",
          "name": "stderr",
          "text": [
            "/usr/local/lib/python3.7/dist-packages/seaborn/_decorators.py:43: FutureWarning: Pass the following variable as a keyword arg: x. From version 0.12, the only valid positional argument will be `data`, and passing other arguments without an explicit keyword will result in an error or misinterpretation.\n",
            "  FutureWarning\n"
          ]
        },
        {
          "output_type": "display_data",
          "data": {
            "text/plain": [
              "<Figure size 864x576 with 2 Axes>"
            ],
            "image/png": "[encoded data removed]"
          },
          "metadata": {
            "needs_background": "light"
          }
        }
      ]
    },
    {
      "cell_type": "markdown",
      "source": [
        "#### Categorical Variables"
      ],
      "metadata": {
        "id": "c2x1S2w-ciP8"
      }
    },
    {
      "cell_type": "code",
      "source": [
        "plt.figure(figsize=(12,8))\n",
        "plt.xticks(rotation=90)\n",
        "ax = sns.countplot(df[\"brand_name\"], \n",
        "                   order = df[\"brand_name\"].value_counts().index)\n",
        "\n",
        "for p, label in zip(ax.patches, df[\"brand_name\"].value_counts().values):\n",
        "    ax.annotate(label, (p.get_x(), p.get_height()))\n",
        "\n",
        "plt.show()"
      ],
      "metadata": {
        "id": "Y7-T-o7XckKa"
      },
      "execution_count": null,
      "outputs": []
    },
    {
      "cell_type": "code",
      "source": [
        "# Once again a lot of code for one graph so might as well make a function for it\n",
        "def labeled_count (data, variable):\n",
        "\n",
        "  plt.figure(figsize=(12,8))\n",
        "  plt.xticks(rotation=90)\n",
        "  ax = sns.countplot(df[variable], \n",
        "                   order = df[variable].value_counts().index)\n",
        "\n",
        "  for p, label in zip(ax.patches, df[variable].value_counts().values):\n",
        "    ax.annotate(label, (p.get_x(), p.get_height()))\n",
        "\n",
        "  plt.show()"
      ],
      "metadata": {
        "id": "_humoS8zlo8W"
      },
      "execution_count": null,
      "outputs": []
    },
    {
      "cell_type": "code",
      "source": [
        "labeled_count (df, 'brand_name')\n",
        "# A nice graph that shows every how many phones of each brand they traded. With the most besides other being Android by a good lead."
      ],
      "metadata": {
        "colab": {
          "base_uri": "https://localhost:8080/"
        },
        "id": "jpkOnfGRm0cw",
        "outputId": "f0ab0318-b28e-4eae-8ca2-6a65b246916e"
      },
      "execution_count": null,
      "outputs": [
        {
          "output_type": "stream",
          "name": "stderr",
          "text": [
            "/usr/local/lib/python3.7/dist-packages/seaborn/_decorators.py:43: FutureWarning: Pass the following variable as a keyword arg: x. From version 0.12, the only valid positional argument will be `data`, and passing other arguments without an explicit keyword will result in an error or misinterpretation.\n",
            "  FutureWarning\n"
          ]
        },
        {
          "output_type": "display_data",
          "data": {
            "text/plain": [
              "<Figure size 864x576 with 1 Axes>"
            ],
            "image/png": "[encoded data removed]"
          },
          "metadata": {
            "needs_background": "light"
          }
        }
      ]
    },
    {
      "cell_type": "code",
      "source": [
        "labeled_count (df, 'os')"
      ],
      "metadata": {
        "colab": {
          "base_uri": "https://localhost:8080/"
        },
        "id": "BVt0lgImm9UR",
        "outputId": "3f6e7f2f-1638-4415-ba82-8f0567627273"
      },
      "execution_count": null,
      "outputs": [
        {
          "output_type": "stream",
          "name": "stderr",
          "text": [
            "/usr/local/lib/python3.7/dist-packages/seaborn/_decorators.py:43: FutureWarning: Pass the following variable as a keyword arg: x. From version 0.12, the only valid positional argument will be `data`, and passing other arguments without an explicit keyword will result in an error or misinterpretation.\n",
            "  FutureWarning\n"
          ]
        },
        {
          "output_type": "display_data",
          "data": {
            "text/plain": [
              "<Figure size 864x576 with 1 Axes>"
            ],
            "image/png": "[encoded data removed]"
          },
          "metadata": {
            "needs_background": "light"
          }
        }
      ]
    },
    {
      "cell_type": "code",
      "source": [
        "labeled_count (df, '4g')\n",
        "# Good graph, most phones in the past few years have 4g and the graph backs it up"
      ],
      "metadata": {
        "colab": {
          "base_uri": "https://localhost:8080/"
        },
        "id": "OslBoCdym9_F",
        "outputId": "7d4a0e06-06b0-4445-f330-bbf6745aa073"
      },
      "execution_count": null,
      "outputs": [
        {
          "output_type": "stream",
          "name": "stderr",
          "text": [
            "/usr/local/lib/python3.7/dist-packages/seaborn/_decorators.py:43: FutureWarning: Pass the following variable as a keyword arg: x. From version 0.12, the only valid positional argument will be `data`, and passing other arguments without an explicit keyword will result in an error or misinterpretation.\n",
            "  FutureWarning\n"
          ]
        },
        {
          "output_type": "display_data",
          "data": {
            "text/plain": [
              "<Figure size 864x576 with 1 Axes>"
            ],
            "image/png": "[encoded data removed]"
          },
          "metadata": {
            "needs_background": "light"
          }
        }
      ]
    },
    {
      "cell_type": "code",
      "source": [
        "labeled_count (df, '5g')\n",
        "# Since they are most likely dealing with more older phone it would make sense not all of them would have 5g"
      ],
      "metadata": {
        "colab": {
          "base_uri": "https://localhost:8080/"
        },
        "id": "Os5L8lPfm-B9",
        "outputId": "8f98aaec-d83e-40be-b048-2c5c7354cf9e"
      },
      "execution_count": null,
      "outputs": [
        {
          "output_type": "stream",
          "name": "stderr",
          "text": [
            "/usr/local/lib/python3.7/dist-packages/seaborn/_decorators.py:43: FutureWarning: Pass the following variable as a keyword arg: x. From version 0.12, the only valid positional argument will be `data`, and passing other arguments without an explicit keyword will result in an error or misinterpretation.\n",
            "  FutureWarning\n"
          ]
        },
        {
          "output_type": "display_data",
          "data": {
            "text/plain": [
              "<Figure size 864x576 with 1 Axes>"
            ],
            "image/png": "[encoded data removed]"
          },
          "metadata": {
            "needs_background": "light"
          }
        }
      ]
    },
    {
      "cell_type": "code",
      "source": [
        "labeled_count (df, 'release_year')\n",
        "# Makes sense they deal with more older phones because stay with a new phone for a few years."
      ],
      "metadata": {
        "colab": {
          "base_uri": "https://localhost:8080/"
        },
        "id": "gBZH-4aEm-FS",
        "outputId": "53493706-7a03-4d81-af5d-1d72a8f7c658"
      },
      "execution_count": null,
      "outputs": [
        {
          "output_type": "stream",
          "name": "stderr",
          "text": [
            "/usr/local/lib/python3.7/dist-packages/seaborn/_decorators.py:43: FutureWarning: Pass the following variable as a keyword arg: x. From version 0.12, the only valid positional argument will be `data`, and passing other arguments without an explicit keyword will result in an error or misinterpretation.\n",
            "  FutureWarning\n"
          ]
        },
        {
          "output_type": "display_data",
          "data": {
            "text/plain": [
              "<Figure size 864x576 with 1 Axes>"
            ],
            "image/png": "[encoded data removed]"
          },
          "metadata": {
            "needs_background": "light"
          }
        }
      ]
    },
    {
      "cell_type": "markdown",
      "source": [
        "### Bivariate Analysis"
      ],
      "metadata": {
        "id": "cOytR2qOcId-"
      }
    },
    {
      "cell_type": "code",
      "source": [
        "# Lets do a correlation check to see if any of our variables are related.\n",
        "num_cols = data.select_dtypes(include=np.number).columns.tolist()\n",
        "\n",
        "plt.figure(figsize=(12, 7))\n",
        "sns.heatmap(\n",
        "    data[num_cols].corr(), annot=True, vmin=-1, vmax=1, fmt=\".2f\", cmap=\"Spectral\")\n",
        "\n",
        "plt.show()\n",
        "# We can see some relations between variables especially between screen size and weight"
      ],
      "metadata": {
        "id": "WSOI2wm1cMAI",
        "colab": {
          "base_uri": "https://localhost:8080/",
          "height": 537
        },
        "outputId": "4459c66f-15ee-421c-eb22-c0b2caa88be0"
      },
      "execution_count": null,
      "outputs": [
        {
          "output_type": "display_data",
          "data": {
            "text/plain": [
              "<Figure size 864x504 with 2 Axes>"
            ],
            "image/png": "[encoded data removed]"
          },
          "metadata": {
            "needs_background": "light"
          }
        }
      ]
    },
    {
      "cell_type": "code",
      "source": [
        "# Lets take a look at the relationship of release_year and normalized_new_price\n",
        "plt.figure(figsize = (10,5))\n",
        "sns.boxplot(data=data, x = 'release_year', y = 'normalized_new_price')\n",
        "plt.show()\n",
        "# This is kind of expected as newer phones come out they are priced higher"
      ],
      "metadata": {
        "colab": {
          "base_uri": "https://localhost:8080/",
          "height": 335
        },
        "id": "QtibP0Yj8NT9",
        "outputId": "efd9e391-b310-406b-9c45-48092172d279"
      },
      "execution_count": null,
      "outputs": [
        {
          "output_type": "display_data",
          "data": {
            "text/plain": [
              "<Figure size 720x360 with 1 Axes>"
            ],
            "image/png": "[encoded data removed]"
          },
          "metadata": {
            "needs_background": "light"
          }
        }
      ]
    },
    {
      "cell_type": "code",
      "source": [
        "# Lets take a look at brand_name and main_camera_mp\n",
        "plt.figure(figsize = (15,5))\n",
        "sns.boxplot(data=data, x = 'brand_name', y = 'normalized_used_price')\n",
        "plt.xticks(rotation=90)\n",
        "plt.show()\n",
        "# This graph is useful because it can help us determine which phone brand has the highest used resell value\n",
        "# And it looks like on average its Apple"
      ],
      "metadata": {
        "colab": {
          "base_uri": "https://localhost:8080/",
          "height": 379
        },
        "id": "fVYGxJkH9Fnb",
        "outputId": "9c84b1c7-4fca-4b23-cddc-d24a76dbea5f"
      },
      "execution_count": null,
      "outputs": [
        {
          "output_type": "display_data",
          "data": {
            "text/plain": [
              "<Figure size 1080x360 with 1 Axes>"
            ],
            "image/png": "[encoded data removed]"
          },
          "metadata": {
            "needs_background": "light"
          }
        }
      ]
    },
    {
      "cell_type": "code",
      "source": [
        "# Lets take a look at release_year and days_used\n",
        "plt.figure(figsize = (10,5))\n",
        "sns.boxplot(data=data, x = 'release_year', y = 'days_used')\n",
        "plt.show()\n",
        "# Although this graph may seem extremely obvious I think it is interesting that we can clearly see that there is consistent number of days where people tend to stop using their phone"
      ],
      "metadata": {
        "colab": {
          "base_uri": "https://localhost:8080/",
          "height": 335
        },
        "id": "DmzpQ1FG91Fk",
        "outputId": "0be47177-cf70-424c-f60b-607e50bebe62"
      },
      "execution_count": null,
      "outputs": [
        {
          "output_type": "display_data",
          "data": {
            "text/plain": [
              "<Figure size 720x360 with 1 Axes>"
            ],
            "image/png": "[encoded data removed]"
          },
          "metadata": {
            "needs_background": "light"
          }
        }
      ]
    },
    {
      "cell_type": "code",
      "source": [
        "# Finally lets take a look at if 4g or 5g actually makes a difference\n",
        "plt.figure(figsize = (10,8))\n",
        "\n",
        "plt.subplot(121)\n",
        "sns.boxplot(data=data, x = '4g',  y = 'normalized_used_price')\n",
        "plt.subplot(122)\n",
        "sns.boxplot(data=data, x = '5g', y = 'normalized_used_price')\n",
        "\n",
        "plt.show()\n",
        "# It seem like for the phones that have 5g have a higher used price than those who don't."
      ],
      "metadata": {
        "colab": {
          "base_uri": "https://localhost:8080/",
          "height": 497
        },
        "id": "CXRfP4yw-X1d",
        "outputId": "a0af6169-04db-4311-d7b8-d3e39c4e4e07"
      },
      "execution_count": null,
      "outputs": [
        {
          "output_type": "display_data",
          "data": {
            "text/plain": [
              "<Figure size 720x576 with 2 Axes>"
            ],
            "image/png": "[encoded data removed]"
          },
          "metadata": {
            "needs_background": "light"
          }
        }
      ]
    },
    {
      "cell_type": "markdown",
      "metadata": {
        "id": "pVn5toJ7MKte"
      },
      "source": [
        "## Data Preprocessing"
      ]
    },
    {
      "cell_type": "markdown",
      "source": [
        "- Missing value treatment\n",
        "- Feature engineering (if needed)\n",
        "- Outlier detection and treatment (if needed)\n",
        "- Preparing data for modeling\n",
        "- Any other preprocessing steps (if needed)"
      ],
      "metadata": {
        "id": "YcceZiPd5vGV"
      }
    },
    {
      "cell_type": "code",
      "execution_count": null,
      "metadata": {
        "id": "zUi6E9EUMKth",
        "colab": {
          "base_uri": "https://localhost:8080/"
        },
        "outputId": "7bd9a82c-3684-49f3-f278-7ace7e9e563d"
      },
      "outputs": [
        {
          "output_type": "execute_result",
          "data": {
            "text/plain": [
              "brand_name                 0\n",
              "os                         0\n",
              "screen_size                0\n",
              "4g                         0\n",
              "5g                         0\n",
              "main_camera_mp           179\n",
              "selfie_camera_mp           2\n",
              "int_memory                 4\n",
              "ram                        4\n",
              "battery                    6\n",
              "weight                     7\n",
              "release_year               0\n",
              "days_used                  0\n",
              "normalized_used_price      0\n",
              "normalized_new_price       0\n",
              "dtype: int64"
            ]
          },
          "metadata": {},
          "execution_count": 155
        }
      ],
      "source": [
        "# We will be fixing missing values so it's always a good idea to make a copy\n",
        "df2 = df.copy()\n",
        "\n",
        "# Use this to find missing values in each column\n",
        "df2.isnull().sum()\n",
        "# We can see that there are some missing values in the rows main_camera_mp, selfie camera_mp, in_memory, ram, battery, and weight"
      ]
    },
    {
      "cell_type": "code",
      "source": [
        "# Lets make a list of the columns with missing values so we can patch them properly\n",
        "missing_columns = ['main_camera_mp','selfie_camera_mp','battery','weight']\n",
        "\n",
        "# In order to keep the integrity of the currently data set I will fill the missing values with the median.\n",
        "for column in missing_columns:\n",
        "  df2[column] = df2[column].fillna(value = df2.groupby(['release_year','brand_name'])[column].transform('median'))\n",
        "\n",
        "# Check again for missing values\n",
        "df2.isnull().sum()\n",
        "# We have eliminated some of the missing values by inserting the median of the columns\n",
        "# The statistics of the data should not change too much because there were only a very small percentage of missing data."
      ],
      "metadata": {
        "colab": {
          "base_uri": "https://localhost:8080/"
        },
        "id": "Uu4dlS4n15Pu",
        "outputId": "153ce5e8-c1ad-4246-ebc8-d890c5d26bcc"
      },
      "execution_count": null,
      "outputs": [
        {
          "output_type": "execute_result",
          "data": {
            "text/plain": [
              "brand_name                 0\n",
              "os                         0\n",
              "screen_size                0\n",
              "4g                         0\n",
              "5g                         0\n",
              "main_camera_mp           179\n",
              "selfie_camera_mp           2\n",
              "int_memory                 0\n",
              "ram                        0\n",
              "battery                    6\n",
              "weight                     7\n",
              "release_year               0\n",
              "days_used                  0\n",
              "normalized_used_price      0\n",
              "normalized_new_price       0\n",
              "dtype: int64"
            ]
          },
          "metadata": {},
          "execution_count": 157
        }
      ]
    },
    {
      "cell_type": "code",
      "source": [
        "# Replacing more of the missing data this time just grouped by brand name\n",
        "missing_columns = ['main_camera_mp','selfie_camera_mp','battery','weight']\n",
        "\n",
        "for column in missing_columns:\n",
        "  df2[column] = df2[column].fillna(value = df2.groupby(['brand_name'])[column].transform('median'))\n",
        "\n",
        "df2.isnull().sum()\n",
        "# We are almost there only 10 left to fix in main_camera_mp"
      ],
      "metadata": {
        "colab": {
          "base_uri": "https://localhost:8080/"
        },
        "id": "DIvAZ8a0DlGJ",
        "outputId": "280f8bda-2743-434c-d66e-d5f9893ca112"
      },
      "execution_count": null,
      "outputs": [
        {
          "output_type": "execute_result",
          "data": {
            "text/plain": [
              "brand_name                0\n",
              "os                        0\n",
              "screen_size               0\n",
              "4g                        0\n",
              "5g                        0\n",
              "main_camera_mp           10\n",
              "selfie_camera_mp          0\n",
              "int_memory                0\n",
              "ram                       0\n",
              "battery                   0\n",
              "weight                    0\n",
              "release_year              0\n",
              "days_used                 0\n",
              "normalized_used_price     0\n",
              "normalized_new_price      0\n",
              "dtype: int64"
            ]
          },
          "metadata": {},
          "execution_count": 158
        }
      ]
    },
    {
      "cell_type": "code",
      "source": [
        "# Finding the median of the main_camera_mp column (I know you can fill and transform all in one line I just could not get it to work)\n",
        "df2['main_camera_mp'].median()"
      ],
      "metadata": {
        "colab": {
          "base_uri": "https://localhost:8080/"
        },
        "id": "CFbSLrtVHHQ9",
        "outputId": "29e128d5-fe2c-42df-a476-017fd13143da"
      },
      "execution_count": null,
      "outputs": [
        {
          "output_type": "execute_result",
          "data": {
            "text/plain": [
              "8.0"
            ]
          },
          "metadata": {},
          "execution_count": 164
        }
      ]
    },
    {
      "cell_type": "code",
      "source": [
        "# Using the median to fill in the missing values\n",
        "df2['main_camera_mp'] = df2['main_camera_mp'].fillna(8)\n",
        "\n",
        "df2.isnull().sum()\n",
        "# As you can see we now have no missing values in our data frame"
      ],
      "metadata": {
        "colab": {
          "base_uri": "https://localhost:8080/"
        },
        "id": "2hxCzWHwEy0t",
        "outputId": "37357c76-562e-40f3-9102-353a6b290641"
      },
      "execution_count": null,
      "outputs": [
        {
          "output_type": "execute_result",
          "data": {
            "text/plain": [
              "brand_name               0\n",
              "os                       0\n",
              "screen_size              0\n",
              "4g                       0\n",
              "5g                       0\n",
              "main_camera_mp           0\n",
              "selfie_camera_mp         0\n",
              "int_memory               0\n",
              "ram                      0\n",
              "battery                  0\n",
              "weight                   0\n",
              "release_year             0\n",
              "days_used                0\n",
              "normalized_used_price    0\n",
              "normalized_new_price     0\n",
              "dtype: int64"
            ]
          },
          "metadata": {},
          "execution_count": 165
        }
      ]
    },
    {
      "cell_type": "markdown",
      "source": [
        "### Outlier Detection"
      ],
      "metadata": {
        "id": "u6aiqQxNF1TD"
      }
    },
    {
      "cell_type": "code",
      "source": [
        "# We can use multiple box plots in order to look for outliers in our data. \n",
        "# By seting up a for loop we can cycle through each element of the list and make a boxplot for it\n",
        "numeric_columns = ['screen_size', 'main_camera_mp', 'selfie_camera_mp', 'int_memory', 'ram','battery','weight', 'release_year', 'days_used', 'normalized_used_price', 'normalized_new_price']\n",
        "plt.figure(figsize=(15, 15))\n",
        "\n",
        "for i, variable in enumerate(numeric_columns):\n",
        "    plt.subplot(4, 3, i + 1)\n",
        "    sns.boxplot(data=df2, x=variable)\n",
        "    plt.tight_layout(pad=2)\n",
        "\n",
        "plt.show()\n",
        "# There are some outliers that could appear strange, but are accurate."
      ],
      "metadata": {
        "colab": {
          "base_uri": "https://localhost:8080/",
          "height": 960
        },
        "id": "0Wt94Z5iHJfG",
        "outputId": "1c1e494d-982e-49aa-d2cb-551b2ec14420"
      },
      "execution_count": null,
      "outputs": [
        {
          "output_type": "display_data",
          "data": {
            "text/plain": [
              "<Figure size 1080x1080 with 11 Axes>"
            ],
            "image/png": "[encoded data removed]"
          },
          "metadata": {
            "needs_background": "light"
          }
        }
      ]
    },
    {
      "cell_type": "code",
      "source": [
        "# It does not appear that there are an extreme outliers that need further investigation"
      ],
      "metadata": {
        "id": "4uxeN0GPHsP6"
      },
      "execution_count": null,
      "outputs": []
    },
    {
      "cell_type": "markdown",
      "metadata": {
        "id": "KNzFis7eEaXj"
      },
      "source": [
        "## EDA"
      ]
    },
    {
      "cell_type": "markdown",
      "source": [
        "- It is a good idea to explore the data once again after manipulating it."
      ],
      "metadata": {
        "id": "ZkYW8xGS5xdR"
      }
    },
    {
      "cell_type": "code",
      "execution_count": null,
      "metadata": {
        "id": "4lcDTGi9EZ1M",
        "colab": {
          "base_uri": "https://localhost:8080/",
          "height": 364
        },
        "outputId": "489112c5-6c46-4427-fae3-e8e0d1905ba7"
      },
      "outputs": [
        {
          "output_type": "execute_result",
          "data": {
            "text/plain": [
              "       screen_size  main_camera_mp  selfie_camera_mp   int_memory  \\\n",
              "count  3454.000000     3275.000000       3452.000000  3450.000000   \n",
              "mean     13.713115        9.460208          6.554229    54.573099   \n",
              "std       3.805280        4.815461          6.970372    84.972371   \n",
              "min       5.080000        0.080000          0.000000     0.010000   \n",
              "25%      12.700000        5.000000          2.000000    16.000000   \n",
              "50%      12.830000        8.000000          5.000000    32.000000   \n",
              "75%      15.340000       13.000000          8.000000    64.000000   \n",
              "max      30.710000       48.000000         32.000000  1024.000000   \n",
              "\n",
              "               ram      battery       weight  release_year    days_used  \\\n",
              "count  3450.000000  3448.000000  3447.000000   3454.000000  3454.000000   \n",
              "mean      4.036122  3133.402697   182.751871   2015.965258   674.869716   \n",
              "std       1.365105  1299.682844    88.413228      2.298455   248.580166   \n",
              "min       0.020000   500.000000    69.000000   2013.000000    91.000000   \n",
              "25%       4.000000  2100.000000   142.000000   2014.000000   533.500000   \n",
              "50%       4.000000  3000.000000   160.000000   2015.500000   690.500000   \n",
              "75%       4.000000  4000.000000   185.000000   2018.000000   868.750000   \n",
              "max      12.000000  9720.000000   855.000000   2020.000000  1094.000000   \n",
              "\n",
              "       normalized_used_price  normalized_new_price  \n",
              "count            3454.000000           3454.000000  \n",
              "mean                4.364712              5.233107  \n",
              "std                 0.588914              0.683637  \n",
              "min                 1.536867              2.901422  \n",
              "25%                 4.033931              4.790342  \n",
              "50%                 4.405133              5.245892  \n",
              "75%                 4.755700              5.673718  \n",
              "max                 6.619433              7.847841  "
            ],
            "text/html": [
              "\n",
              "  <div id=\"df-fa2133b4-f180-4c78-a2ad-2d2a14ce2147\">\n",
              "    <div class=\"colab-df-container\">\n",
              "      <div>\n",
              "<style scoped>\n",
              "    .dataframe tbody tr th:only-of-type {\n",
              "        vertical-align: middle;\n",
              "    }\n",
              "\n",
              "    .dataframe tbody tr th {\n",
              "        vertical-align: top;\n",
              "    }\n",
              "\n",
              "    .dataframe thead th {\n",
              "        text-align: right;\n",
              "    }\n",
              "</style>\n",
              "<table border=\"1\" class=\"dataframe\">\n",
              "  <thead>\n",
              "    <tr style=\"text-align: right;\">\n",
              "      <th></th>\n",
              "      <th>screen_size</th>\n",
              "      <th>main_camera_mp</th>\n",
              "      <th>selfie_camera_mp</th>\n",
              "      <th>int_memory</th>\n",
              "      <th>ram</th>\n",
              "      <th>battery</th>\n",
              "      <th>weight</th>\n",
              "      <th>release_year</th>\n",
              "      <th>days_used</th>\n",
              "      <th>normalized_used_price</th>\n",
              "      <th>normalized_new_price</th>\n",
              "    </tr>\n",
              "  </thead>\n",
              "  <tbody>\n",
              "    <tr>\n",
              "      <th>count</th>\n",
              "      <td>3454.000000</td>\n",
              "      <td>3275.000000</td>\n",
              "      <td>3452.000000</td>\n",
              "      <td>3450.000000</td>\n",
              "      <td>3450.000000</td>\n",
              "      <td>3448.000000</td>\n",
              "      <td>3447.000000</td>\n",
              "      <td>3454.000000</td>\n",
              "      <td>3454.000000</td>\n",
              "      <td>3454.000000</td>\n",
              "      <td>3454.000000</td>\n",
              "    </tr>\n",
              "    <tr>\n",
              "      <th>mean</th>\n",
              "      <td>13.713115</td>\n",
              "      <td>9.460208</td>\n",
              "      <td>6.554229</td>\n",
              "      <td>54.573099</td>\n",
              "      <td>4.036122</td>\n",
              "      <td>3133.402697</td>\n",
              "      <td>182.751871</td>\n",
              "      <td>2015.965258</td>\n",
              "      <td>674.869716</td>\n",
              "      <td>4.364712</td>\n",
              "      <td>5.233107</td>\n",
              "    </tr>\n",
              "    <tr>\n",
              "      <th>std</th>\n",
              "      <td>3.805280</td>\n",
              "      <td>4.815461</td>\n",
              "      <td>6.970372</td>\n",
              "      <td>84.972371</td>\n",
              "      <td>1.365105</td>\n",
              "      <td>1299.682844</td>\n",
              "      <td>88.413228</td>\n",
              "      <td>2.298455</td>\n",
              "      <td>248.580166</td>\n",
              "      <td>0.588914</td>\n",
              "      <td>0.683637</td>\n",
              "    </tr>\n",
              "    <tr>\n",
              "      <th>min</th>\n",
              "      <td>5.080000</td>\n",
              "      <td>0.080000</td>\n",
              "      <td>0.000000</td>\n",
              "      <td>0.010000</td>\n",
              "      <td>0.020000</td>\n",
              "      <td>500.000000</td>\n",
              "      <td>69.000000</td>\n",
              "      <td>2013.000000</td>\n",
              "      <td>91.000000</td>\n",
              "      <td>1.536867</td>\n",
              "      <td>2.901422</td>\n",
              "    </tr>\n",
              "    <tr>\n",
              "      <th>25%</th>\n",
              "      <td>12.700000</td>\n",
              "      <td>5.000000</td>\n",
              "      <td>2.000000</td>\n",
              "      <td>16.000000</td>\n",
              "      <td>4.000000</td>\n",
              "      <td>2100.000000</td>\n",
              "      <td>142.000000</td>\n",
              "      <td>2014.000000</td>\n",
              "      <td>533.500000</td>\n",
              "      <td>4.033931</td>\n",
              "      <td>4.790342</td>\n",
              "    </tr>\n",
              "    <tr>\n",
              "      <th>50%</th>\n",
              "      <td>12.830000</td>\n",
              "      <td>8.000000</td>\n",
              "      <td>5.000000</td>\n",
              "      <td>32.000000</td>\n",
              "      <td>4.000000</td>\n",
              "      <td>3000.000000</td>\n",
              "      <td>160.000000</td>\n",
              "      <td>2015.500000</td>\n",
              "      <td>690.500000</td>\n",
              "      <td>4.405133</td>\n",
              "      <td>5.245892</td>\n",
              "    </tr>\n",
              "    <tr>\n",
              "      <th>75%</th>\n",
              "      <td>15.340000</td>\n",
              "      <td>13.000000</td>\n",
              "      <td>8.000000</td>\n",
              "      <td>64.000000</td>\n",
              "      <td>4.000000</td>\n",
              "      <td>4000.000000</td>\n",
              "      <td>185.000000</td>\n",
              "      <td>2018.000000</td>\n",
              "      <td>868.750000</td>\n",
              "      <td>4.755700</td>\n",
              "      <td>5.673718</td>\n",
              "    </tr>\n",
              "    <tr>\n",
              "      <th>max</th>\n",
              "      <td>30.710000</td>\n",
              "      <td>48.000000</td>\n",
              "      <td>32.000000</td>\n",
              "      <td>1024.000000</td>\n",
              "      <td>12.000000</td>\n",
              "      <td>9720.000000</td>\n",
              "      <td>855.000000</td>\n",
              "      <td>2020.000000</td>\n",
              "      <td>1094.000000</td>\n",
              "      <td>6.619433</td>\n",
              "      <td>7.847841</td>\n",
              "    </tr>\n",
              "  </tbody>\n",
              "</table>\n",
              "</div>\n",
              "      <button class=\"colab-df-convert\" onclick=\"convertToInteractive('df-fa2133b4-f180-4c78-a2ad-2d2a14ce2147')\"\n",
              "              title=\"Convert this dataframe to an interactive table.\"\n",
              "              style=\"display:none;\">\n",
              "        \n",
              "  <svg xmlns=\"http://www.w3.org/2000/svg\" height=\"24px\"viewBox=\"0 0 24 24\"\n",
              "       width=\"24px\">\n",
              "    <path d=\"M0 0h24v24H0V0z\" fill=\"none\"/>\n",
              "    <path d=\"M18.56 5.44l.94 2.06.94-2.06 2.06-.94-2.06-.94-.94-2.06-.94 2.06-2.06.94zm-11 1L8.5 8.5l.94-2.06 2.06-.94-2.06-.94L8.5 2.5l-.94 2.06-2.06.94zm10 10l.94 2.06.94-2.06 2.06-.94-2.06-.94-.94-2.06-.94 2.06-2.06.94z\"/><path d=\"M17.41 7.96l-1.37-1.37c-.4-.4-.92-.59-1.43-.59-.52 0-1.04.2-1.43.59L10.3 9.45l-7.72 7.72c-.78.78-.78 2.05 0 2.83L4 21.41c.39.39.9.59 1.41.59.51 0 1.02-.2 1.41-.59l7.78-7.78 2.81-2.81c.8-.78.8-2.07 0-2.86zM5.41 20L4 18.59l7.72-7.72 1.47 1.35L5.41 20z\"/>\n",
              "  </svg>\n",
              "      </button>\n",
              "      \n",
              "  <style>\n",
              "    .colab-df-container {\n",
              "      display:flex;\n",
              "      flex-wrap:wrap;\n",
              "      gap: 12px;\n",
              "    }\n",
              "\n",
              "    .colab-df-convert {\n",
              "      background-color: #E8F0FE;\n",
              "      border: none;\n",
              "      border-radius: 50%;\n",
              "      cursor: pointer;\n",
              "      display: none;\n",
              "      fill: #1967D2;\n",
              "      height: 32px;\n",
              "      padding: 0 0 0 0;\n",
              "      width: 32px;\n",
              "    }\n",
              "\n",
              "    .colab-df-convert:hover {\n",
              "      background-color: #E2EBFA;\n",
              "      box-shadow: 0px 1px 2px rgba(60, 64, 67, 0.3), 0px 1px 3px 1px rgba(60, 64, 67, 0.15);\n",
              "      fill: #174EA6;\n",
              "    }\n",
              "\n",
              "    [theme=dark] .colab-df-convert {\n",
              "      background-color: #3B4455;\n",
              "      fill: #D2E3FC;\n",
              "    }\n",
              "\n",
              "    [theme=dark] .colab-df-convert:hover {\n",
              "      background-color: #434B5C;\n",
              "      box-shadow: 0px 1px 3px 1px rgba(0, 0, 0, 0.15);\n",
              "      filter: drop-shadow(0px 1px 2px rgba(0, 0, 0, 0.3));\n",
              "      fill: #FFFFFF;\n",
              "    }\n",
              "  </style>\n",
              "\n",
              "      <script>\n",
              "        const buttonEl =\n",
              "          document.querySelector('#df-fa2133b4-f180-4c78-a2ad-2d2a14ce2147 button.colab-df-convert');\n",
              "        buttonEl.style.display =\n",
              "          google.colab.kernel.accessAllowed ? 'block' : 'none';\n",
              "\n",
              "        async function convertToInteractive(key) {\n",
              "          const element = document.querySelector('#df-fa2133b4-f180-4c78-a2ad-2d2a14ce2147');\n",
              "          const dataTable =\n",
              "            await google.colab.kernel.invokeFunction('convertToInteractive',\n",
              "                                                     [key], {});\n",
              "          if (!dataTable) return;\n",
              "\n",
              "          const docLinkHtml = 'Like what you see? Visit the ' +\n",
              "            '<a target=\"_blank\" href=https://colab.research.google.com/notebooks/data_table.ipynb>data table notebook</a>'\n",
              "            + ' to learn more about interactive tables.';\n",
              "          element.innerHTML = '';\n",
              "          dataTable['output_type'] = 'display_data';\n",
              "          await google.colab.output.renderOutput(dataTable, element);\n",
              "          const docLink = document.createElement('div');\n",
              "          docLink.innerHTML = docLinkHtml;\n",
              "          element.appendChild(docLink);\n",
              "        }\n",
              "      </script>\n",
              "    </div>\n",
              "  </div>\n",
              "  "
            ]
          },
          "metadata": {},
          "execution_count": 240
        }
      ],
      "source": [
        "# This is the original description of the data with missing values\n",
        "data.describe()"
      ]
    },
    {
      "cell_type": "code",
      "source": [
        "# This is the newly altered data frame\n",
        "df2.describe()\n",
        "# By comparing the two data tables you can see that the means of the ammended columns have changed ever so slightly.\n",
        "# This was expected, but nothing to worry about."
      ],
      "metadata": {
        "colab": {
          "base_uri": "https://localhost:8080/",
          "height": 364
        },
        "id": "-12OXy6d7HLL",
        "outputId": "6e23b85b-69ef-4e7d-e999-14a5e1c13ab0"
      },
      "execution_count": null,
      "outputs": [
        {
          "output_type": "execute_result",
          "data": {
            "text/plain": [
              "       screen_size  main_camera_mp  selfie_camera_mp   int_memory  \\\n",
              "count  3454.000000     3454.000000       3454.000000  3454.000000   \n",
              "mean     13.713115        9.617597          6.555067    54.528474   \n",
              "std       3.805280        4.749438          6.968440    84.934991   \n",
              "min       5.080000        0.080000          0.000000     0.010000   \n",
              "25%      12.700000        5.000000          2.000000    16.000000   \n",
              "50%      12.830000        8.000000          5.000000    32.000000   \n",
              "75%      15.340000       13.000000          8.000000    64.000000   \n",
              "max      30.710000       48.000000         32.000000  1024.000000   \n",
              "\n",
              "               ram      battery       weight  release_year    days_used  \\\n",
              "count  3454.000000  3454.000000  3454.000000   3454.000000  3454.000000   \n",
              "mean      4.032620  3132.577446   182.636856   2015.965258   674.869716   \n",
              "std       1.368598  1298.884193    88.360445      2.298455   248.580166   \n",
              "min       0.020000   500.000000    69.000000   2013.000000    91.000000   \n",
              "25%       4.000000  2100.000000   142.000000   2014.000000   533.500000   \n",
              "50%       4.000000  3000.000000   160.000000   2015.500000   690.500000   \n",
              "75%       4.000000  4000.000000   185.000000   2018.000000   868.750000   \n",
              "max      12.000000  9720.000000   855.000000   2020.000000  1094.000000   \n",
              "\n",
              "       normalized_used_price  normalized_new_price  \n",
              "count            3454.000000           3454.000000  \n",
              "mean                4.364712              5.233107  \n",
              "std                 0.588914              0.683637  \n",
              "min                 1.536867              2.901422  \n",
              "25%                 4.033931              4.790342  \n",
              "50%                 4.405133              5.245892  \n",
              "75%                 4.755700              5.673718  \n",
              "max                 6.619433              7.847841  "
            ],
            "text/html": [
              "\n",
              "  <div id=\"df-a4615bf5-91d4-484a-97ae-1d6347f1598a\">\n",
              "    <div class=\"colab-df-container\">\n",
              "      <div>\n",
              "<style scoped>\n",
              "    .dataframe tbody tr th:only-of-type {\n",
              "        vertical-align: middle;\n",
              "    }\n",
              "\n",
              "    .dataframe tbody tr th {\n",
              "        vertical-align: top;\n",
              "    }\n",
              "\n",
              "    .dataframe thead th {\n",
              "        text-align: right;\n",
              "    }\n",
              "</style>\n",
              "<table border=\"1\" class=\"dataframe\">\n",
              "  <thead>\n",
              "    <tr style=\"text-align: right;\">\n",
              "      <th></th>\n",
              "      <th>screen_size</th>\n",
              "      <th>main_camera_mp</th>\n",
              "      <th>selfie_camera_mp</th>\n",
              "      <th>int_memory</th>\n",
              "      <th>ram</th>\n",
              "      <th>battery</th>\n",
              "      <th>weight</th>\n",
              "      <th>release_year</th>\n",
              "      <th>days_used</th>\n",
              "      <th>normalized_used_price</th>\n",
              "      <th>normalized_new_price</th>\n",
              "    </tr>\n",
              "  </thead>\n",
              "  <tbody>\n",
              "    <tr>\n",
              "      <th>count</th>\n",
              "      <td>3454.000000</td>\n",
              "      <td>3454.000000</td>\n",
              "      <td>3454.000000</td>\n",
              "      <td>3454.000000</td>\n",
              "      <td>3454.000000</td>\n",
              "      <td>3454.000000</td>\n",
              "      <td>3454.000000</td>\n",
              "      <td>3454.000000</td>\n",
              "      <td>3454.000000</td>\n",
              "      <td>3454.000000</td>\n",
              "      <td>3454.000000</td>\n",
              "    </tr>\n",
              "    <tr>\n",
              "      <th>mean</th>\n",
              "      <td>13.713115</td>\n",
              "      <td>9.617597</td>\n",
              "      <td>6.555067</td>\n",
              "      <td>54.528474</td>\n",
              "      <td>4.032620</td>\n",
              "      <td>3132.577446</td>\n",
              "      <td>182.636856</td>\n",
              "      <td>2015.965258</td>\n",
              "      <td>674.869716</td>\n",
              "      <td>4.364712</td>\n",
              "      <td>5.233107</td>\n",
              "    </tr>\n",
              "    <tr>\n",
              "      <th>std</th>\n",
              "      <td>3.805280</td>\n",
              "      <td>4.749438</td>\n",
              "      <td>6.968440</td>\n",
              "      <td>84.934991</td>\n",
              "      <td>1.368598</td>\n",
              "      <td>1298.884193</td>\n",
              "      <td>88.360445</td>\n",
              "      <td>2.298455</td>\n",
              "      <td>248.580166</td>\n",
              "      <td>0.588914</td>\n",
              "      <td>0.683637</td>\n",
              "    </tr>\n",
              "    <tr>\n",
              "      <th>min</th>\n",
              "      <td>5.080000</td>\n",
              "      <td>0.080000</td>\n",
              "      <td>0.000000</td>\n",
              "      <td>0.010000</td>\n",
              "      <td>0.020000</td>\n",
              "      <td>500.000000</td>\n",
              "      <td>69.000000</td>\n",
              "      <td>2013.000000</td>\n",
              "      <td>91.000000</td>\n",
              "      <td>1.536867</td>\n",
              "      <td>2.901422</td>\n",
              "    </tr>\n",
              "    <tr>\n",
              "      <th>25%</th>\n",
              "      <td>12.700000</td>\n",
              "      <td>5.000000</td>\n",
              "      <td>2.000000</td>\n",
              "      <td>16.000000</td>\n",
              "      <td>4.000000</td>\n",
              "      <td>2100.000000</td>\n",
              "      <td>142.000000</td>\n",
              "      <td>2014.000000</td>\n",
              "      <td>533.500000</td>\n",
              "      <td>4.033931</td>\n",
              "      <td>4.790342</td>\n",
              "    </tr>\n",
              "    <tr>\n",
              "      <th>50%</th>\n",
              "      <td>12.830000</td>\n",
              "      <td>8.000000</td>\n",
              "      <td>5.000000</td>\n",
              "      <td>32.000000</td>\n",
              "      <td>4.000000</td>\n",
              "      <td>3000.000000</td>\n",
              "      <td>160.000000</td>\n",
              "      <td>2015.500000</td>\n",
              "      <td>690.500000</td>\n",
              "      <td>4.405133</td>\n",
              "      <td>5.245892</td>\n",
              "    </tr>\n",
              "    <tr>\n",
              "      <th>75%</th>\n",
              "      <td>15.340000</td>\n",
              "      <td>13.000000</td>\n",
              "      <td>8.000000</td>\n",
              "      <td>64.000000</td>\n",
              "      <td>4.000000</td>\n",
              "      <td>4000.000000</td>\n",
              "      <td>185.000000</td>\n",
              "      <td>2018.000000</td>\n",
              "      <td>868.750000</td>\n",
              "      <td>4.755700</td>\n",
              "      <td>5.673718</td>\n",
              "    </tr>\n",
              "    <tr>\n",
              "      <th>max</th>\n",
              "      <td>30.710000</td>\n",
              "      <td>48.000000</td>\n",
              "      <td>32.000000</td>\n",
              "      <td>1024.000000</td>\n",
              "      <td>12.000000</td>\n",
              "      <td>9720.000000</td>\n",
              "      <td>855.000000</td>\n",
              "      <td>2020.000000</td>\n",
              "      <td>1094.000000</td>\n",
              "      <td>6.619433</td>\n",
              "      <td>7.847841</td>\n",
              "    </tr>\n",
              "  </tbody>\n",
              "</table>\n",
              "</div>\n",
              "      <button class=\"colab-df-convert\" onclick=\"convertToInteractive('df-a4615bf5-91d4-484a-97ae-1d6347f1598a')\"\n",
              "              title=\"Convert this dataframe to an interactive table.\"\n",
              "              style=\"display:none;\">\n",
              "        \n",
              "  <svg xmlns=\"http://www.w3.org/2000/svg\" height=\"24px\"viewBox=\"0 0 24 24\"\n",
              "       width=\"24px\">\n",
              "    <path d=\"M0 0h24v24H0V0z\" fill=\"none\"/>\n",
              "    <path d=\"M18.56 5.44l.94 2.06.94-2.06 2.06-.94-2.06-.94-.94-2.06-.94 2.06-2.06.94zm-11 1L8.5 8.5l.94-2.06 2.06-.94-2.06-.94L8.5 2.5l-.94 2.06-2.06.94zm10 10l.94 2.06.94-2.06 2.06-.94-2.06-.94-.94-2.06-.94 2.06-2.06.94z\"/><path d=\"M17.41 7.96l-1.37-1.37c-.4-.4-.92-.59-1.43-.59-.52 0-1.04.2-1.43.59L10.3 9.45l-7.72 7.72c-.78.78-.78 2.05 0 2.83L4 21.41c.39.39.9.59 1.41.59.51 0 1.02-.2 1.41-.59l7.78-7.78 2.81-2.81c.8-.78.8-2.07 0-2.86zM5.41 20L4 18.59l7.72-7.72 1.47 1.35L5.41 20z\"/>\n",
              "  </svg>\n",
              "      </button>\n",
              "      \n",
              "  <style>\n",
              "    .colab-df-container {\n",
              "      display:flex;\n",
              "      flex-wrap:wrap;\n",
              "      gap: 12px;\n",
              "    }\n",
              "\n",
              "    .colab-df-convert {\n",
              "      background-color: #E8F0FE;\n",
              "      border: none;\n",
              "      border-radius: 50%;\n",
              "      cursor: pointer;\n",
              "      display: none;\n",
              "      fill: #1967D2;\n",
              "      height: 32px;\n",
              "      padding: 0 0 0 0;\n",
              "      width: 32px;\n",
              "    }\n",
              "\n",
              "    .colab-df-convert:hover {\n",
              "      background-color: #E2EBFA;\n",
              "      box-shadow: 0px 1px 2px rgba(60, 64, 67, 0.3), 0px 1px 3px 1px rgba(60, 64, 67, 0.15);\n",
              "      fill: #174EA6;\n",
              "    }\n",
              "\n",
              "    [theme=dark] .colab-df-convert {\n",
              "      background-color: #3B4455;\n",
              "      fill: #D2E3FC;\n",
              "    }\n",
              "\n",
              "    [theme=dark] .colab-df-convert:hover {\n",
              "      background-color: #434B5C;\n",
              "      box-shadow: 0px 1px 3px 1px rgba(0, 0, 0, 0.15);\n",
              "      filter: drop-shadow(0px 1px 2px rgba(0, 0, 0, 0.3));\n",
              "      fill: #FFFFFF;\n",
              "    }\n",
              "  </style>\n",
              "\n",
              "      <script>\n",
              "        const buttonEl =\n",
              "          document.querySelector('#df-a4615bf5-91d4-484a-97ae-1d6347f1598a button.colab-df-convert');\n",
              "        buttonEl.style.display =\n",
              "          google.colab.kernel.accessAllowed ? 'block' : 'none';\n",
              "\n",
              "        async function convertToInteractive(key) {\n",
              "          const element = document.querySelector('#df-a4615bf5-91d4-484a-97ae-1d6347f1598a');\n",
              "          const dataTable =\n",
              "            await google.colab.kernel.invokeFunction('convertToInteractive',\n",
              "                                                     [key], {});\n",
              "          if (!dataTable) return;\n",
              "\n",
              "          const docLinkHtml = 'Like what you see? Visit the ' +\n",
              "            '<a target=\"_blank\" href=https://colab.research.google.com/notebooks/data_table.ipynb>data table notebook</a>'\n",
              "            + ' to learn more about interactive tables.';\n",
              "          element.innerHTML = '';\n",
              "          dataTable['output_type'] = 'display_data';\n",
              "          await google.colab.output.renderOutput(dataTable, element);\n",
              "          const docLink = document.createElement('div');\n",
              "          docLink.innerHTML = docLinkHtml;\n",
              "          element.appendChild(docLink);\n",
              "        }\n",
              "      </script>\n",
              "    </div>\n",
              "  </div>\n",
              "  "
            ]
          },
          "metadata": {},
          "execution_count": 168
        }
      ]
    },
    {
      "cell_type": "code",
      "source": [
        "# Lets take a look at the graph of the new main_camera_mp since that was the one with the most missing values compared to the old graph\n",
        "combo_hist_box(df, 'main_camera_mp')"
      ],
      "metadata": {
        "colab": {
          "base_uri": "https://localhost:8080/",
          "height": 555
        },
        "id": "ntbt68U47HNX",
        "outputId": "7b7cf761-cb20-46b3-c0d8-572fa5fa7c1b"
      },
      "execution_count": null,
      "outputs": [
        {
          "output_type": "stream",
          "name": "stderr",
          "text": [
            "/usr/local/lib/python3.7/dist-packages/seaborn/_decorators.py:43: FutureWarning: Pass the following variable as a keyword arg: x. From version 0.12, the only valid positional argument will be `data`, and passing other arguments without an explicit keyword will result in an error or misinterpretation.\n",
            "  FutureWarning\n"
          ]
        },
        {
          "output_type": "display_data",
          "data": {
            "text/plain": [
              "<Figure size 864x576 with 2 Axes>"
            ],
            "image/png": "[encoded data removed]"
          },
          "metadata": {
            "needs_background": "light"
          }
        }
      ]
    },
    {
      "cell_type": "code",
      "source": [
        "combo_hist_box(df2, 'main_camera_mp')\n",
        "# You can see some changes with the histogram, but like we can see that the mean basically stays the same"
      ],
      "metadata": {
        "colab": {
          "base_uri": "https://localhost:8080/",
          "height": 555
        },
        "id": "qkGQiDCI7HPa",
        "outputId": "d1ffcbce-6d4c-4a5a-9156-903ce6f8a14d"
      },
      "execution_count": null,
      "outputs": [
        {
          "output_type": "stream",
          "name": "stderr",
          "text": [
            "/usr/local/lib/python3.7/dist-packages/seaborn/_decorators.py:43: FutureWarning: Pass the following variable as a keyword arg: x. From version 0.12, the only valid positional argument will be `data`, and passing other arguments without an explicit keyword will result in an error or misinterpretation.\n",
            "  FutureWarning\n"
          ]
        },
        {
          "output_type": "display_data",
          "data": {
            "text/plain": [
              "<Figure size 864x576 with 2 Axes>"
            ],
            "image/png": "[encoded data removed]"
          },
          "metadata": {
            "needs_background": "light"
          }
        }
      ]
    },
    {
      "cell_type": "markdown",
      "source": [
        "## Data Preparation"
      ],
      "metadata": {
        "id": "bFKpO5knV5ak"
      }
    },
    {
      "cell_type": "code",
      "source": [
        "# We need to prepare our data and define and X and a Y or independent and dependent \n",
        "# Since we are trying to predict the normalized price of used devices we take everything but the used_price as X\n",
        "# and just the normalized_used_price as the Y\n",
        "X = df2.drop(['normalized_used_price'], axis=1)\n",
        "y = df2['normalized_used_price']\n",
        "\n",
        "print(X.head())\n",
        "print(y.head())\n",
        "# And we print them just to check that they work"
      ],
      "metadata": {
        "colab": {
          "base_uri": "https://localhost:8080/"
        },
        "id": "cq7WkQU1V8P-",
        "outputId": "94f5c4bf-b1be-4281-c4c7-e70bab0b432a"
      },
      "execution_count": null,
      "outputs": [
        {
          "output_type": "stream",
          "name": "stdout",
          "text": [
            "  brand_name       os  screen_size   4g   5g  main_camera_mp  \\\n",
            "0      Honor  Android        14.50  yes   no            13.0   \n",
            "1      Honor  Android        17.30  yes  yes            13.0   \n",
            "2      Honor  Android        16.69  yes  yes            13.0   \n",
            "3      Honor  Android        25.50  yes  yes            13.0   \n",
            "4      Honor  Android        15.32  yes   no            13.0   \n",
            "\n",
            "   selfie_camera_mp  int_memory  ram  battery  weight  release_year  \\\n",
            "0               5.0        64.0  3.0   3020.0   146.0          2020   \n",
            "1              16.0       128.0  8.0   4300.0   213.0          2020   \n",
            "2               8.0       128.0  8.0   4200.0   213.0          2020   \n",
            "3               8.0        64.0  6.0   7250.0   480.0          2020   \n",
            "4               8.0        64.0  3.0   5000.0   185.0          2020   \n",
            "\n",
            "   days_used  normalized_new_price  \n",
            "0        127              4.715100  \n",
            "1        325              5.519018  \n",
            "2        162              5.884631  \n",
            "3        345              5.630961  \n",
            "4        293              4.947837  \n",
            "0    4.307572\n",
            "1    5.162097\n",
            "2    5.111084\n",
            "3    5.135387\n",
            "4    4.389995\n",
            "Name: normalized_used_price, dtype: float64\n"
          ]
        }
      ]
    },
    {
      "cell_type": "code",
      "source": [
        "# This adds the intercept to the data\n",
        "X = sm.add_constant(X)"
      ],
      "metadata": {
        "colab": {
          "base_uri": "https://localhost:8080/",
          "height": 190
        },
        "id": "0TE7DYhKV8WV",
        "outputId": "6051cfe4-fef3-4753-c513-4d7ad8375c64"
      },
      "execution_count": null,
      "outputs": [
        {
          "output_type": "error",
          "ename": "NameError",
          "evalue": "ignored",
          "traceback": [
            "\u001b[0;31m---------------------------------------------------------------------------\u001b[0m",
            "\u001b[0;31mNameError\u001b[0m                                 Traceback (most recent call last)",
            "\u001b[0;32m<ipython-input-23-f8570a2a6789>\u001b[0m in \u001b[0;36m<module>\u001b[0;34m()\u001b[0m\n\u001b[1;32m      1\u001b[0m \u001b[0;31m# This adds the intercept to the data\u001b[0m\u001b[0;34m\u001b[0m\u001b[0;34m\u001b[0m\u001b[0;34m\u001b[0m\u001b[0m\n\u001b[0;32m----> 2\u001b[0;31m \u001b[0mX\u001b[0m \u001b[0;34m=\u001b[0m \u001b[0msm\u001b[0m\u001b[0;34m.\u001b[0m\u001b[0madd_constant\u001b[0m\u001b[0;34m(\u001b[0m\u001b[0mX\u001b[0m\u001b[0;34m)\u001b[0m\u001b[0;34m\u001b[0m\u001b[0;34m\u001b[0m\u001b[0m\n\u001b[0m",
            "\u001b[0;31mNameError\u001b[0m: name 'X' is not defined"
          ]
        }
      ]
    },
    {
      "cell_type": "code",
      "source": [
        "# Creating dummy variables\n",
        "X = pd.get_dummies(X, columns=X.select_dtypes(include=[\"object\", \"category\"]).columns.tolist(), drop_first=True,)\n",
        "\n",
        "X.head()"
      ],
      "metadata": {
        "colab": {
          "base_uri": "https://localhost:8080/",
          "height": 299
        },
        "id": "TbP5jZJVWi5A",
        "outputId": "ae8375c9-52f5-43a9-ad99-237b100bd4d7"
      },
      "execution_count": null,
      "outputs": [
        {
          "output_type": "execute_result",
          "data": {
            "text/plain": [
              "   const  screen_size  main_camera_mp  selfie_camera_mp  int_memory  ram  \\\n",
              "0    1.0        14.50            13.0               5.0        64.0  3.0   \n",
              "1    1.0        17.30            13.0              16.0       128.0  8.0   \n",
              "2    1.0        16.69            13.0               8.0       128.0  8.0   \n",
              "3    1.0        25.50            13.0               8.0        64.0  6.0   \n",
              "4    1.0        15.32            13.0               8.0        64.0  3.0   \n",
              "\n",
              "   battery  weight  release_year  days_used  ...  brand_name_Spice  \\\n",
              "0   3020.0   146.0          2020        127  ...                 0   \n",
              "1   4300.0   213.0          2020        325  ...                 0   \n",
              "2   4200.0   213.0          2020        162  ...                 0   \n",
              "3   7250.0   480.0          2020        345  ...                 0   \n",
              "4   5000.0   185.0          2020        293  ...                 0   \n",
              "\n",
              "   brand_name_Vivo  brand_name_XOLO  brand_name_Xiaomi  brand_name_ZTE  \\\n",
              "0                0                0                  0               0   \n",
              "1                0                0                  0               0   \n",
              "2                0                0                  0               0   \n",
              "3                0                0                  0               0   \n",
              "4                0                0                  0               0   \n",
              "\n",
              "   os_Others  os_Windows  os_iOS  4g_yes  5g_yes  \n",
              "0          0           0       0       1       0  \n",
              "1          0           0       0       1       1  \n",
              "2          0           0       0       1       1  \n",
              "3          0           0       0       1       1  \n",
              "4          0           0       0       1       0  \n",
              "\n",
              "[5 rows x 49 columns]"
            ],
            "text/html": [
              "\n",
              "  <div id=\"df-6eaf4075-85eb-44a4-9f7d-8ddb7b84188a\">\n",
              "    <div class=\"colab-df-container\">\n",
              "      <div>\n",
              "<style scoped>\n",
              "    .dataframe tbody tr th:only-of-type {\n",
              "        vertical-align: middle;\n",
              "    }\n",
              "\n",
              "    .dataframe tbody tr th {\n",
              "        vertical-align: top;\n",
              "    }\n",
              "\n",
              "    .dataframe thead th {\n",
              "        text-align: right;\n",
              "    }\n",
              "</style>\n",
              "<table border=\"1\" class=\"dataframe\">\n",
              "  <thead>\n",
              "    <tr style=\"text-align: right;\">\n",
              "      <th></th>\n",
              "      <th>const</th>\n",
              "      <th>screen_size</th>\n",
              "      <th>main_camera_mp</th>\n",
              "      <th>selfie_camera_mp</th>\n",
              "      <th>int_memory</th>\n",
              "      <th>ram</th>\n",
              "      <th>battery</th>\n",
              "      <th>weight</th>\n",
              "      <th>release_year</th>\n",
              "      <th>days_used</th>\n",
              "      <th>...</th>\n",
              "      <th>brand_name_Spice</th>\n",
              "      <th>brand_name_Vivo</th>\n",
              "      <th>brand_name_XOLO</th>\n",
              "      <th>brand_name_Xiaomi</th>\n",
              "      <th>brand_name_ZTE</th>\n",
              "      <th>os_Others</th>\n",
              "      <th>os_Windows</th>\n",
              "      <th>os_iOS</th>\n",
              "      <th>4g_yes</th>\n",
              "      <th>5g_yes</th>\n",
              "    </tr>\n",
              "  </thead>\n",
              "  <tbody>\n",
              "    <tr>\n",
              "      <th>0</th>\n",
              "      <td>1.0</td>\n",
              "      <td>14.50</td>\n",
              "      <td>13.0</td>\n",
              "      <td>5.0</td>\n",
              "      <td>64.0</td>\n",
              "      <td>3.0</td>\n",
              "      <td>3020.0</td>\n",
              "      <td>146.0</td>\n",
              "      <td>2020</td>\n",
              "      <td>127</td>\n",
              "      <td>...</td>\n",
              "      <td>0</td>\n",
              "      <td>0</td>\n",
              "      <td>0</td>\n",
              "      <td>0</td>\n",
              "      <td>0</td>\n",
              "      <td>0</td>\n",
              "      <td>0</td>\n",
              "      <td>0</td>\n",
              "      <td>1</td>\n",
              "      <td>0</td>\n",
              "    </tr>\n",
              "    <tr>\n",
              "      <th>1</th>\n",
              "      <td>1.0</td>\n",
              "      <td>17.30</td>\n",
              "      <td>13.0</td>\n",
              "      <td>16.0</td>\n",
              "      <td>128.0</td>\n",
              "      <td>8.0</td>\n",
              "      <td>4300.0</td>\n",
              "      <td>213.0</td>\n",
              "      <td>2020</td>\n",
              "      <td>325</td>\n",
              "      <td>...</td>\n",
              "      <td>0</td>\n",
              "      <td>0</td>\n",
              "      <td>0</td>\n",
              "      <td>0</td>\n",
              "      <td>0</td>\n",
              "      <td>0</td>\n",
              "      <td>0</td>\n",
              "      <td>0</td>\n",
              "      <td>1</td>\n",
              "      <td>1</td>\n",
              "    </tr>\n",
              "    <tr>\n",
              "      <th>2</th>\n",
              "      <td>1.0</td>\n",
              "      <td>16.69</td>\n",
              "      <td>13.0</td>\n",
              "      <td>8.0</td>\n",
              "      <td>128.0</td>\n",
              "      <td>8.0</td>\n",
              "      <td>4200.0</td>\n",
              "      <td>213.0</td>\n",
              "      <td>2020</td>\n",
              "      <td>162</td>\n",
              "      <td>...</td>\n",
              "      <td>0</td>\n",
              "      <td>0</td>\n",
              "      <td>0</td>\n",
              "      <td>0</td>\n",
              "      <td>0</td>\n",
              "      <td>0</td>\n",
              "      <td>0</td>\n",
              "      <td>0</td>\n",
              "      <td>1</td>\n",
              "      <td>1</td>\n",
              "    </tr>\n",
              "    <tr>\n",
              "      <th>3</th>\n",
              "      <td>1.0</td>\n",
              "      <td>25.50</td>\n",
              "      <td>13.0</td>\n",
              "      <td>8.0</td>\n",
              "      <td>64.0</td>\n",
              "      <td>6.0</td>\n",
              "      <td>7250.0</td>\n",
              "      <td>480.0</td>\n",
              "      <td>2020</td>\n",
              "      <td>345</td>\n",
              "      <td>...</td>\n",
              "      <td>0</td>\n",
              "      <td>0</td>\n",
              "      <td>0</td>\n",
              "      <td>0</td>\n",
              "      <td>0</td>\n",
              "      <td>0</td>\n",
              "      <td>0</td>\n",
              "      <td>0</td>\n",
              "      <td>1</td>\n",
              "      <td>1</td>\n",
              "    </tr>\n",
              "    <tr>\n",
              "      <th>4</th>\n",
              "      <td>1.0</td>\n",
              "      <td>15.32</td>\n",
              "      <td>13.0</td>\n",
              "      <td>8.0</td>\n",
              "      <td>64.0</td>\n",
              "      <td>3.0</td>\n",
              "      <td>5000.0</td>\n",
              "      <td>185.0</td>\n",
              "      <td>2020</td>\n",
              "      <td>293</td>\n",
              "      <td>...</td>\n",
              "      <td>0</td>\n",
              "      <td>0</td>\n",
              "      <td>0</td>\n",
              "      <td>0</td>\n",
              "      <td>0</td>\n",
              "      <td>0</td>\n",
              "      <td>0</td>\n",
              "      <td>0</td>\n",
              "      <td>1</td>\n",
              "      <td>0</td>\n",
              "    </tr>\n",
              "  </tbody>\n",
              "</table>\n",
              "<p>5 rows × 49 columns</p>\n",
              "</div>\n",
              "      <button class=\"colab-df-convert\" onclick=\"convertToInteractive('df-6eaf4075-85eb-44a4-9f7d-8ddb7b84188a')\"\n",
              "              title=\"Convert this dataframe to an interactive table.\"\n",
              "              style=\"display:none;\">\n",
              "        \n",
              "  <svg xmlns=\"http://www.w3.org/2000/svg\" height=\"24px\"viewBox=\"0 0 24 24\"\n",
              "       width=\"24px\">\n",
              "    <path d=\"M0 0h24v24H0V0z\" fill=\"none\"/>\n",
              "    <path d=\"M18.56 5.44l.94 2.06.94-2.06 2.06-.94-2.06-.94-.94-2.06-.94 2.06-2.06.94zm-11 1L8.5 8.5l.94-2.06 2.06-.94-2.06-.94L8.5 2.5l-.94 2.06-2.06.94zm10 10l.94 2.06.94-2.06 2.06-.94-2.06-.94-.94-2.06-.94 2.06-2.06.94z\"/><path d=\"M17.41 7.96l-1.37-1.37c-.4-.4-.92-.59-1.43-.59-.52 0-1.04.2-1.43.59L10.3 9.45l-7.72 7.72c-.78.78-.78 2.05 0 2.83L4 21.41c.39.39.9.59 1.41.59.51 0 1.02-.2 1.41-.59l7.78-7.78 2.81-2.81c.8-.78.8-2.07 0-2.86zM5.41 20L4 18.59l7.72-7.72 1.47 1.35L5.41 20z\"/>\n",
              "  </svg>\n",
              "      </button>\n",
              "      \n",
              "  <style>\n",
              "    .colab-df-container {\n",
              "      display:flex;\n",
              "      flex-wrap:wrap;\n",
              "      gap: 12px;\n",
              "    }\n",
              "\n",
              "    .colab-df-convert {\n",
              "      background-color: #E8F0FE;\n",
              "      border: none;\n",
              "      border-radius: 50%;\n",
              "      cursor: pointer;\n",
              "      display: none;\n",
              "      fill: #1967D2;\n",
              "      height: 32px;\n",
              "      padding: 0 0 0 0;\n",
              "      width: 32px;\n",
              "    }\n",
              "\n",
              "    .colab-df-convert:hover {\n",
              "      background-color: #E2EBFA;\n",
              "      box-shadow: 0px 1px 2px rgba(60, 64, 67, 0.3), 0px 1px 3px 1px rgba(60, 64, 67, 0.15);\n",
              "      fill: #174EA6;\n",
              "    }\n",
              "\n",
              "    [theme=dark] .colab-df-convert {\n",
              "      background-color: #3B4455;\n",
              "      fill: #D2E3FC;\n",
              "    }\n",
              "\n",
              "    [theme=dark] .colab-df-convert:hover {\n",
              "      background-color: #434B5C;\n",
              "      box-shadow: 0px 1px 3px 1px rgba(0, 0, 0, 0.15);\n",
              "      filter: drop-shadow(0px 1px 2px rgba(0, 0, 0, 0.3));\n",
              "      fill: #FFFFFF;\n",
              "    }\n",
              "  </style>\n",
              "\n",
              "      <script>\n",
              "        const buttonEl =\n",
              "          document.querySelector('#df-6eaf4075-85eb-44a4-9f7d-8ddb7b84188a button.colab-df-convert');\n",
              "        buttonEl.style.display =\n",
              "          google.colab.kernel.accessAllowed ? 'block' : 'none';\n",
              "\n",
              "        async function convertToInteractive(key) {\n",
              "          const element = document.querySelector('#df-6eaf4075-85eb-44a4-9f7d-8ddb7b84188a');\n",
              "          const dataTable =\n",
              "            await google.colab.kernel.invokeFunction('convertToInteractive',\n",
              "                                                     [key], {});\n",
              "          if (!dataTable) return;\n",
              "\n",
              "          const docLinkHtml = 'Like what you see? Visit the ' +\n",
              "            '<a target=\"_blank\" href=https://colab.research.google.com/notebooks/data_table.ipynb>data table notebook</a>'\n",
              "            + ' to learn more about interactive tables.';\n",
              "          element.innerHTML = '';\n",
              "          dataTable['output_type'] = 'display_data';\n",
              "          await google.colab.output.renderOutput(dataTable, element);\n",
              "          const docLink = document.createElement('div');\n",
              "          docLink.innerHTML = docLinkHtml;\n",
              "          element.appendChild(docLink);\n",
              "        }\n",
              "      </script>\n",
              "    </div>\n",
              "  </div>\n",
              "  "
            ]
          },
          "metadata": {},
          "execution_count": 209
        }
      ]
    },
    {
      "cell_type": "code",
      "source": [
        "# Use this to split the data in 70:30 ratio for train to test data\n",
        "x_train, x_test, y_train, y_test = train_test_split(X, y, test_size=0.3, random_state=1)"
      ],
      "metadata": {
        "id": "aaMqU8ZDW0eY"
      },
      "execution_count": null,
      "outputs": []
    },
    {
      "cell_type": "code",
      "source": [
        "# Print it out and make sure everything looks right\n",
        "print(\"Number of rows in train data =\", x_train.shape[0])\n",
        "print(\"Number of rows in test data =\", x_test.shape[0])"
      ],
      "metadata": {
        "colab": {
          "base_uri": "https://localhost:8080/"
        },
        "id": "-IvN2jscW0gq",
        "outputId": "9de3dbe5-8c45-4602-8713-2a2ab7d39a1d"
      },
      "execution_count": null,
      "outputs": [
        {
          "output_type": "stream",
          "name": "stdout",
          "text": [
            "Number of rows in train data = 2417\n",
            "Number of rows in test data = 1037\n"
          ]
        }
      ]
    },
    {
      "cell_type": "markdown",
      "metadata": {
        "id": "HeUzI1OB4rqM"
      },
      "source": [
        "## Model Building - Linear Regression"
      ]
    },
    {
      "cell_type": "code",
      "execution_count": null,
      "metadata": {
        "id": "ZNRiMg0wMKth",
        "colab": {
          "base_uri": "https://localhost:8080/"
        },
        "outputId": "7ab8438f-8a63-4dbc-ecab-ba7c3e6778d6"
      },
      "outputs": [
        {
          "output_type": "stream",
          "name": "stdout",
          "text": [
            "                              OLS Regression Results                             \n",
            "=================================================================================\n",
            "Dep. Variable:     normalized_used_price   R-squared:                       0.845\n",
            "Model:                               OLS   Adj. R-squared:                  0.842\n",
            "Method:                    Least Squares   F-statistic:                     268.7\n",
            "Date:                   Fri, 27 May 2022   Prob (F-statistic):               0.00\n",
            "Time:                           23:04:59   Log-Likelihood:                 123.85\n",
            "No. Observations:                   2417   AIC:                            -149.7\n",
            "Df Residuals:                       2368   BIC:                             134.0\n",
            "Df Model:                             48                                         \n",
            "Covariance Type:               nonrobust                                         \n",
            "=========================================================================================\n",
            "                            coef    std err          t      P>|t|      [0.025      0.975]\n",
            "-----------------------------------------------------------------------------------------\n",
            "const                   -46.5094      9.199     -5.056      0.000     -64.548     -28.471\n",
            "screen_size               0.0244      0.003      7.163      0.000       0.018       0.031\n",
            "main_camera_mp            0.0208      0.002     13.848      0.000       0.018       0.024\n",
            "selfie_camera_mp          0.0135      0.001     11.997      0.000       0.011       0.016\n",
            "int_memory                0.0001   6.97e-05      1.651      0.099   -2.16e-05       0.000\n",
            "ram                       0.0230      0.005      4.451      0.000       0.013       0.033\n",
            "battery               -1.689e-05   7.27e-06     -2.321      0.020   -3.12e-05   -2.62e-06\n",
            "weight                    0.0010      0.000      7.480      0.000       0.001       0.001\n",
            "release_year              0.0237      0.005      5.193      0.000       0.015       0.033\n",
            "days_used              4.216e-05   3.09e-05      1.366      0.172   -1.84e-05       0.000\n",
            "normalized_new_price      0.4311      0.012     35.147      0.000       0.407       0.455\n",
            "brand_name_Alcatel        0.0154      0.048      0.323      0.747      -0.078       0.109\n",
            "brand_name_Apple         -0.0038      0.147     -0.026      0.980      -0.292       0.285\n",
            "brand_name_Asus           0.0151      0.048      0.314      0.753      -0.079       0.109\n",
            "brand_name_BlackBerry    -0.0300      0.070     -0.427      0.669      -0.168       0.108\n",
            "brand_name_Celkon        -0.0468      0.066     -0.707      0.480      -0.177       0.083\n",
            "brand_name_Coolpad        0.0209      0.073      0.287      0.774      -0.122       0.164\n",
            "brand_name_Gionee         0.0448      0.058      0.775      0.438      -0.068       0.158\n",
            "brand_name_Google        -0.0326      0.085     -0.385      0.700      -0.199       0.133\n",
            "brand_name_HTC           -0.0130      0.048     -0.270      0.787      -0.108       0.081\n",
            "brand_name_Honor          0.0317      0.049      0.644      0.520      -0.065       0.128\n",
            "brand_name_Huawei        -0.0020      0.044     -0.046      0.964      -0.089       0.085\n",
            "brand_name_Infinix        0.1633      0.093      1.752      0.080      -0.019       0.346\n",
            "brand_name_Karbonn        0.0943      0.067      1.405      0.160      -0.037       0.226\n",
            "brand_name_LG            -0.0132      0.045     -0.291      0.771      -0.102       0.076\n",
            "brand_name_Lava           0.0332      0.062      0.533      0.594      -0.089       0.155\n",
            "brand_name_Lenovo         0.0454      0.045      1.004      0.316      -0.043       0.134\n",
            "brand_name_Meizu         -0.0129      0.056     -0.230      0.818      -0.123       0.097\n",
            "brand_name_Micromax      -0.0337      0.048     -0.704      0.481      -0.128       0.060\n",
            "brand_name_Microsoft      0.0952      0.088      1.078      0.281      -0.078       0.268\n",
            "brand_name_Motorola      -0.0112      0.050     -0.226      0.821      -0.109       0.086\n",
            "brand_name_Nokia          0.0719      0.052      1.387      0.166      -0.030       0.174\n",
            "brand_name_OnePlus        0.0709      0.077      0.916      0.360      -0.081       0.223\n",
            "brand_name_Oppo           0.0124      0.048      0.261      0.794      -0.081       0.106\n",
            "brand_name_Others        -0.0080      0.042     -0.190      0.849      -0.091       0.075\n",
            "brand_name_Panasonic      0.0563      0.056      1.008      0.314      -0.053       0.166\n",
            "brand_name_Realme         0.0319      0.062      0.518      0.605      -0.089       0.153\n",
            "brand_name_Samsung       -0.0313      0.043     -0.725      0.469      -0.116       0.053\n",
            "brand_name_Sony          -0.0616      0.050     -1.220      0.223      -0.161       0.037\n",
            "brand_name_Spice         -0.0147      0.063     -0.233      0.816      -0.139       0.109\n",
            "brand_name_Vivo          -0.0154      0.048     -0.318      0.750      -0.110       0.080\n",
            "brand_name_XOLO           0.0152      0.055      0.277      0.782      -0.092       0.123\n",
            "brand_name_Xiaomi         0.0869      0.048      1.806      0.071      -0.007       0.181\n",
            "brand_name_ZTE           -0.0057      0.047     -0.121      0.904      -0.099       0.087\n",
            "os_Others                -0.0510      0.033     -1.555      0.120      -0.115       0.013\n",
            "os_Windows               -0.0207      0.045     -0.459      0.646      -0.109       0.068\n",
            "os_iOS                   -0.0663      0.146     -0.453      0.651      -0.354       0.221\n",
            "4g_yes                    0.0528      0.016      3.326      0.001       0.022       0.084\n",
            "5g_yes                   -0.0714      0.031     -2.268      0.023      -0.133      -0.010\n",
            "==============================================================================\n",
            "Omnibus:                      223.612   Durbin-Watson:                   1.910\n",
            "Prob(Omnibus):                  0.000   Jarque-Bera (JB):              422.275\n",
            "Skew:                          -0.620   Prob(JB):                     2.01e-92\n",
            "Kurtosis:                       4.630   Cond. No.                     7.70e+06\n",
            "==============================================================================\n",
            "\n",
            "Warnings:\n",
            "[1] Standard Errors assume that the covariance matrix of the errors is correctly specified.\n",
            "[2] The condition number is large, 7.7e+06. This might indicate that there are\n",
            "strong multicollinearity or other numerical problems.\n"
          ]
        }
      ],
      "source": [
        "# Code to fit OLS model\n",
        "olsmodel = sm.OLS(y_train, x_train).fit()\n",
        "print(olsmodel.summary())"
      ]
    },
    {
      "cell_type": "markdown",
      "metadata": {
        "id": "jvoU3F6oMKti"
      },
      "source": [
        "## Model Performance Check"
      ]
    },
    {
      "cell_type": "code",
      "execution_count": null,
      "metadata": {
        "id": "k3e6gzxdMKti"
      },
      "outputs": [],
      "source": [
        "# function to compute adjusted R-squared\n",
        "def adj_r2_score(predictors, targets, predictions):\n",
        "    r2 = r2_score(targets, predictions)\n",
        "    n = predictors.shape[0]\n",
        "    k = predictors.shape[1]\n",
        "    return 1 - ((1 - r2) * (n - 1) / (n - k - 1))\n",
        "\n",
        "\n",
        "# function to compute MAPE\n",
        "def mape_score(targets, predictions):\n",
        "    return np.mean(np.abs(targets - predictions) / targets) * 100\n",
        "\n",
        "# function to compute different metrics to check performance of a regression model \n",
        "def model_performance_regression(model, predictors, target):\n",
        "  # predicting using the independent variables\n",
        "    pred = model.predict(predictors)\n",
        "\n",
        "    r2 = r2_score(target, pred)  # to compute R-squared\n",
        "    adjr2 = adj_r2_score(predictors, target, pred)  # to compute adjusted R-squared\n",
        "    rmse = np.sqrt(mean_squared_error(target, pred))  # to compute RMSE\n",
        "    mae = mean_absolute_error(target, pred)  # to compute MAE\n",
        "    mape = mape_score(target, pred)  # to compute MAPE\n",
        "\n",
        "    # creating a dataframe of metrics\n",
        "    df_perf = pd.DataFrame(\n",
        "        {\n",
        "            \"RMSE\": rmse,\n",
        "            \"MAE\": mae,\n",
        "            \"R-squared\": r2,\n",
        "            \"Adj. R-squared\": adjr2,\n",
        "            \"MAPE\": mape,\n",
        "        },\n",
        "        index=[0],\n",
        "    )\n",
        "\n",
        "    return df_perf"
      ]
    },
    {
      "cell_type": "code",
      "source": [
        "print(\"Training Performance\\n\")\n",
        "olsmodel_train_perf = model_performance_regression(olsmodel, x_train, y_train)\n",
        "olsmodel_train_perf"
      ],
      "metadata": {
        "colab": {
          "base_uri": "https://localhost:8080/",
          "height": 118
        },
        "id": "cZNwgIptci0j",
        "outputId": "e14ac306-8528-43fa-ce08-b7f42676a3f6"
      },
      "execution_count": null,
      "outputs": [
        {
          "output_type": "stream",
          "name": "stdout",
          "text": [
            "Training Performance\n",
            "\n"
          ]
        },
        {
          "output_type": "execute_result",
          "data": {
            "text/plain": [
              "       RMSE       MAE  R-squared  Adj. R-squared      MAPE\n",
              "0  0.229884  0.180326   0.844886        0.841675  4.326841"
            ],
            "text/html": [
              "\n",
              "  <div id=\"df-ab48bc78-ecff-4208-8a25-3b9f1cab535a\">\n",
              "    <div class=\"colab-df-container\">\n",
              "      <div>\n",
              "<style scoped>\n",
              "    .dataframe tbody tr th:only-of-type {\n",
              "        vertical-align: middle;\n",
              "    }\n",
              "\n",
              "    .dataframe tbody tr th {\n",
              "        vertical-align: top;\n",
              "    }\n",
              "\n",
              "    .dataframe thead th {\n",
              "        text-align: right;\n",
              "    }\n",
              "</style>\n",
              "<table border=\"1\" class=\"dataframe\">\n",
              "  <thead>\n",
              "    <tr style=\"text-align: right;\">\n",
              "      <th></th>\n",
              "      <th>RMSE</th>\n",
              "      <th>MAE</th>\n",
              "      <th>R-squared</th>\n",
              "      <th>Adj. R-squared</th>\n",
              "      <th>MAPE</th>\n",
              "    </tr>\n",
              "  </thead>\n",
              "  <tbody>\n",
              "    <tr>\n",
              "      <th>0</th>\n",
              "      <td>0.229884</td>\n",
              "      <td>0.180326</td>\n",
              "      <td>0.844886</td>\n",
              "      <td>0.841675</td>\n",
              "      <td>4.326841</td>\n",
              "    </tr>\n",
              "  </tbody>\n",
              "</table>\n",
              "</div>\n",
              "      <button class=\"colab-df-convert\" onclick=\"convertToInteractive('df-ab48bc78-ecff-4208-8a25-3b9f1cab535a')\"\n",
              "              title=\"Convert this dataframe to an interactive table.\"\n",
              "              style=\"display:none;\">\n",
              "        \n",
              "  <svg xmlns=\"http://www.w3.org/2000/svg\" height=\"24px\"viewBox=\"0 0 24 24\"\n",
              "       width=\"24px\">\n",
              "    <path d=\"M0 0h24v24H0V0z\" fill=\"none\"/>\n",
              "    <path d=\"M18.56 5.44l.94 2.06.94-2.06 2.06-.94-2.06-.94-.94-2.06-.94 2.06-2.06.94zm-11 1L8.5 8.5l.94-2.06 2.06-.94-2.06-.94L8.5 2.5l-.94 2.06-2.06.94zm10 10l.94 2.06.94-2.06 2.06-.94-2.06-.94-.94-2.06-.94 2.06-2.06.94z\"/><path d=\"M17.41 7.96l-1.37-1.37c-.4-.4-.92-.59-1.43-.59-.52 0-1.04.2-1.43.59L10.3 9.45l-7.72 7.72c-.78.78-.78 2.05 0 2.83L4 21.41c.39.39.9.59 1.41.59.51 0 1.02-.2 1.41-.59l7.78-7.78 2.81-2.81c.8-.78.8-2.07 0-2.86zM5.41 20L4 18.59l7.72-7.72 1.47 1.35L5.41 20z\"/>\n",
              "  </svg>\n",
              "      </button>\n",
              "      \n",
              "  <style>\n",
              "    .colab-df-container {\n",
              "      display:flex;\n",
              "      flex-wrap:wrap;\n",
              "      gap: 12px;\n",
              "    }\n",
              "\n",
              "    .colab-df-convert {\n",
              "      background-color: #E8F0FE;\n",
              "      border: none;\n",
              "      border-radius: 50%;\n",
              "      cursor: pointer;\n",
              "      display: none;\n",
              "      fill: #1967D2;\n",
              "      height: 32px;\n",
              "      padding: 0 0 0 0;\n",
              "      width: 32px;\n",
              "    }\n",
              "\n",
              "    .colab-df-convert:hover {\n",
              "      background-color: #E2EBFA;\n",
              "      box-shadow: 0px 1px 2px rgba(60, 64, 67, 0.3), 0px 1px 3px 1px rgba(60, 64, 67, 0.15);\n",
              "      fill: #174EA6;\n",
              "    }\n",
              "\n",
              "    [theme=dark] .colab-df-convert {\n",
              "      background-color: #3B4455;\n",
              "      fill: #D2E3FC;\n",
              "    }\n",
              "\n",
              "    [theme=dark] .colab-df-convert:hover {\n",
              "      background-color: #434B5C;\n",
              "      box-shadow: 0px 1px 3px 1px rgba(0, 0, 0, 0.15);\n",
              "      filter: drop-shadow(0px 1px 2px rgba(0, 0, 0, 0.3));\n",
              "      fill: #FFFFFF;\n",
              "    }\n",
              "  </style>\n",
              "\n",
              "      <script>\n",
              "        const buttonEl =\n",
              "          document.querySelector('#df-ab48bc78-ecff-4208-8a25-3b9f1cab535a button.colab-df-convert');\n",
              "        buttonEl.style.display =\n",
              "          google.colab.kernel.accessAllowed ? 'block' : 'none';\n",
              "\n",
              "        async function convertToInteractive(key) {\n",
              "          const element = document.querySelector('#df-ab48bc78-ecff-4208-8a25-3b9f1cab535a');\n",
              "          const dataTable =\n",
              "            await google.colab.kernel.invokeFunction('convertToInteractive',\n",
              "                                                     [key], {});\n",
              "          if (!dataTable) return;\n",
              "\n",
              "          const docLinkHtml = 'Like what you see? Visit the ' +\n",
              "            '<a target=\"_blank\" href=https://colab.research.google.com/notebooks/data_table.ipynb>data table notebook</a>'\n",
              "            + ' to learn more about interactive tables.';\n",
              "          element.innerHTML = '';\n",
              "          dataTable['output_type'] = 'display_data';\n",
              "          await google.colab.output.renderOutput(dataTable, element);\n",
              "          const docLink = document.createElement('div');\n",
              "          docLink.innerHTML = docLinkHtml;\n",
              "          element.appendChild(docLink);\n",
              "        }\n",
              "      </script>\n",
              "    </div>\n",
              "  </div>\n",
              "  "
            ]
          },
          "metadata": {},
          "execution_count": 214
        }
      ]
    },
    {
      "cell_type": "code",
      "source": [
        "print(\"Test Performance\\n\")\n",
        "olsmodel_test_perf = model_performance_regression(olsmodel, x_test, y_test)\n",
        "olsmodel_test_perf"
      ],
      "metadata": {
        "colab": {
          "base_uri": "https://localhost:8080/",
          "height": 118
        },
        "id": "neegouTlc54c",
        "outputId": "7f248f8c-5ab8-47b8-ddd3-4aa1473c6227"
      },
      "execution_count": null,
      "outputs": [
        {
          "output_type": "stream",
          "name": "stdout",
          "text": [
            "Test Performance\n",
            "\n"
          ]
        },
        {
          "output_type": "execute_result",
          "data": {
            "text/plain": [
              "       RMSE       MAE  R-squared  Adj. R-squared      MAPE\n",
              "0  0.238358  0.184749   0.842479        0.834659  4.501651"
            ],
            "text/html": [
              "\n",
              "  <div id=\"df-d6a6d441-aa5d-4838-8723-71634b485210\">\n",
              "    <div class=\"colab-df-container\">\n",
              "      <div>\n",
              "<style scoped>\n",
              "    .dataframe tbody tr th:only-of-type {\n",
              "        vertical-align: middle;\n",
              "    }\n",
              "\n",
              "    .dataframe tbody tr th {\n",
              "        vertical-align: top;\n",
              "    }\n",
              "\n",
              "    .dataframe thead th {\n",
              "        text-align: right;\n",
              "    }\n",
              "</style>\n",
              "<table border=\"1\" class=\"dataframe\">\n",
              "  <thead>\n",
              "    <tr style=\"text-align: right;\">\n",
              "      <th></th>\n",
              "      <th>RMSE</th>\n",
              "      <th>MAE</th>\n",
              "      <th>R-squared</th>\n",
              "      <th>Adj. R-squared</th>\n",
              "      <th>MAPE</th>\n",
              "    </tr>\n",
              "  </thead>\n",
              "  <tbody>\n",
              "    <tr>\n",
              "      <th>0</th>\n",
              "      <td>0.238358</td>\n",
              "      <td>0.184749</td>\n",
              "      <td>0.842479</td>\n",
              "      <td>0.834659</td>\n",
              "      <td>4.501651</td>\n",
              "    </tr>\n",
              "  </tbody>\n",
              "</table>\n",
              "</div>\n",
              "      <button class=\"colab-df-convert\" onclick=\"convertToInteractive('df-d6a6d441-aa5d-4838-8723-71634b485210')\"\n",
              "              title=\"Convert this dataframe to an interactive table.\"\n",
              "              style=\"display:none;\">\n",
              "        \n",
              "  <svg xmlns=\"http://www.w3.org/2000/svg\" height=\"24px\"viewBox=\"0 0 24 24\"\n",
              "       width=\"24px\">\n",
              "    <path d=\"M0 0h24v24H0V0z\" fill=\"none\"/>\n",
              "    <path d=\"M18.56 5.44l.94 2.06.94-2.06 2.06-.94-2.06-.94-.94-2.06-.94 2.06-2.06.94zm-11 1L8.5 8.5l.94-2.06 2.06-.94-2.06-.94L8.5 2.5l-.94 2.06-2.06.94zm10 10l.94 2.06.94-2.06 2.06-.94-2.06-.94-.94-2.06-.94 2.06-2.06.94z\"/><path d=\"M17.41 7.96l-1.37-1.37c-.4-.4-.92-.59-1.43-.59-.52 0-1.04.2-1.43.59L10.3 9.45l-7.72 7.72c-.78.78-.78 2.05 0 2.83L4 21.41c.39.39.9.59 1.41.59.51 0 1.02-.2 1.41-.59l7.78-7.78 2.81-2.81c.8-.78.8-2.07 0-2.86zM5.41 20L4 18.59l7.72-7.72 1.47 1.35L5.41 20z\"/>\n",
              "  </svg>\n",
              "      </button>\n",
              "      \n",
              "  <style>\n",
              "    .colab-df-container {\n",
              "      display:flex;\n",
              "      flex-wrap:wrap;\n",
              "      gap: 12px;\n",
              "    }\n",
              "\n",
              "    .colab-df-convert {\n",
              "      background-color: #E8F0FE;\n",
              "      border: none;\n",
              "      border-radius: 50%;\n",
              "      cursor: pointer;\n",
              "      display: none;\n",
              "      fill: #1967D2;\n",
              "      height: 32px;\n",
              "      padding: 0 0 0 0;\n",
              "      width: 32px;\n",
              "    }\n",
              "\n",
              "    .colab-df-convert:hover {\n",
              "      background-color: #E2EBFA;\n",
              "      box-shadow: 0px 1px 2px rgba(60, 64, 67, 0.3), 0px 1px 3px 1px rgba(60, 64, 67, 0.15);\n",
              "      fill: #174EA6;\n",
              "    }\n",
              "\n",
              "    [theme=dark] .colab-df-convert {\n",
              "      background-color: #3B4455;\n",
              "      fill: #D2E3FC;\n",
              "    }\n",
              "\n",
              "    [theme=dark] .colab-df-convert:hover {\n",
              "      background-color: #434B5C;\n",
              "      box-shadow: 0px 1px 3px 1px rgba(0, 0, 0, 0.15);\n",
              "      filter: drop-shadow(0px 1px 2px rgba(0, 0, 0, 0.3));\n",
              "      fill: #FFFFFF;\n",
              "    }\n",
              "  </style>\n",
              "\n",
              "      <script>\n",
              "        const buttonEl =\n",
              "          document.querySelector('#df-d6a6d441-aa5d-4838-8723-71634b485210 button.colab-df-convert');\n",
              "        buttonEl.style.display =\n",
              "          google.colab.kernel.accessAllowed ? 'block' : 'none';\n",
              "\n",
              "        async function convertToInteractive(key) {\n",
              "          const element = document.querySelector('#df-d6a6d441-aa5d-4838-8723-71634b485210');\n",
              "          const dataTable =\n",
              "            await google.colab.kernel.invokeFunction('convertToInteractive',\n",
              "                                                     [key], {});\n",
              "          if (!dataTable) return;\n",
              "\n",
              "          const docLinkHtml = 'Like what you see? Visit the ' +\n",
              "            '<a target=\"_blank\" href=https://colab.research.google.com/notebooks/data_table.ipynb>data table notebook</a>'\n",
              "            + ' to learn more about interactive tables.';\n",
              "          element.innerHTML = '';\n",
              "          dataTable['output_type'] = 'display_data';\n",
              "          await google.colab.output.renderOutput(dataTable, element);\n",
              "          const docLink = document.createElement('div');\n",
              "          docLink.innerHTML = docLinkHtml;\n",
              "          element.appendChild(docLink);\n",
              "        }\n",
              "      </script>\n",
              "    </div>\n",
              "  </div>\n",
              "  "
            ]
          },
          "metadata": {},
          "execution_count": 215
        }
      ]
    },
    {
      "cell_type": "markdown",
      "metadata": {
        "id": "a9GxSQf-qH8e"
      },
      "source": [
        "## Checking Linear Regression Assumptions"
      ]
    },
    {
      "cell_type": "markdown",
      "source": [
        "- In order to make statistical inferences from a linear regression model, it is important to ensure that the assumptions of linear regression are satisfied."
      ],
      "metadata": {
        "id": "UdGv3pQF50xP"
      }
    },
    {
      "cell_type": "markdown",
      "source": [
        "Assumptions of Linear Regression:\n",
        "1. No Multicollinearirty\n",
        "1. Linearity of variables\n",
        "1. Independance of error terms\n",
        "1. Normality of error terms\n",
        "1. No Heteroscedasticity"
      ],
      "metadata": {
        "id": "41363lJJkM1B"
      }
    },
    {
      "cell_type": "markdown",
      "source": [
        "**Test for Multicollnearity**"
      ],
      "metadata": {
        "id": "PAYAbflumJW6"
      }
    },
    {
      "cell_type": "code",
      "execution_count": null,
      "metadata": {
        "id": "naX-iXItqH-b"
      },
      "outputs": [],
      "source": [
        "# Import in the correct test and define the function that will help us\n",
        "from statsmodels.stats.outliers_influence import variance_inflation_factor\n",
        "\n",
        "def checking_vif(predictors):\n",
        "    vif = pd.DataFrame()\n",
        "    vif[\"feature\"] = predictors.columns\n",
        "\n",
        "    # calculating VIF for each feature\n",
        "    vif[\"VIF\"] = [\n",
        "        variance_inflation_factor(predictors.values, i)\n",
        "        for i in range(len(predictors.columns))\n",
        "    ]\n",
        "    return vif"
      ]
    },
    {
      "cell_type": "code",
      "source": [
        "# Use the defined function above to find the VIF\n",
        "checking_vif(x_train)"
      ],
      "metadata": {
        "colab": {
          "base_uri": "https://localhost:8080/",
          "height": 1000
        },
        "id": "mkXhf0QomUcf",
        "outputId": "cd67a6f6-69d9-4c6e-bef5-9fc5ce2ff874"
      },
      "execution_count": null,
      "outputs": [
        {
          "output_type": "execute_result",
          "data": {
            "text/plain": [
              "                  feature           VIF\n",
              "0                   const  3.791593e+06\n",
              "1             screen_size  7.677290e+00\n",
              "2          main_camera_mp  2.285051e+00\n",
              "3        selfie_camera_mp  2.812473e+00\n",
              "4              int_memory  1.364152e+00\n",
              "5                     ram  2.282352e+00\n",
              "6                 battery  4.081780e+00\n",
              "7                  weight  6.396749e+00\n",
              "8            release_year  4.899007e+00\n",
              "9               days_used  2.660269e+00\n",
              "10   normalized_new_price  3.119430e+00\n",
              "11     brand_name_Alcatel  3.405693e+00\n",
              "12       brand_name_Apple  1.305767e+01\n",
              "13        brand_name_Asus  3.332038e+00\n",
              "14  brand_name_BlackBerry  1.632378e+00\n",
              "15      brand_name_Celkon  1.774721e+00\n",
              "16     brand_name_Coolpad  1.468006e+00\n",
              "17      brand_name_Gionee  1.951272e+00\n",
              "18      brand_name_Google  1.321778e+00\n",
              "19         brand_name_HTC  3.410361e+00\n",
              "20       brand_name_Honor  3.340687e+00\n",
              "21      brand_name_Huawei  5.983852e+00\n",
              "22     brand_name_Infinix  1.283955e+00\n",
              "23     brand_name_Karbonn  1.573702e+00\n",
              "24          brand_name_LG  4.849832e+00\n",
              "25        brand_name_Lava  1.711360e+00\n",
              "26      brand_name_Lenovo  4.558941e+00\n",
              "27       brand_name_Meizu  2.179607e+00\n",
              "28    brand_name_Micromax  3.363521e+00\n",
              "29   brand_name_Microsoft  1.869751e+00\n",
              "30    brand_name_Motorola  3.274558e+00\n",
              "31       brand_name_Nokia  3.479849e+00\n",
              "32     brand_name_OnePlus  1.437034e+00\n",
              "33        brand_name_Oppo  3.971194e+00\n",
              "34      brand_name_Others  9.711034e+00\n",
              "35   brand_name_Panasonic  2.105703e+00\n",
              "36      brand_name_Realme  1.946812e+00\n",
              "37     brand_name_Samsung  7.539866e+00\n",
              "38        brand_name_Sony  2.943161e+00\n",
              "39       brand_name_Spice  1.688863e+00\n",
              "40        brand_name_Vivo  3.651437e+00\n",
              "41        brand_name_XOLO  2.138070e+00\n",
              "42      brand_name_Xiaomi  3.719689e+00\n",
              "43         brand_name_ZTE  3.797581e+00\n",
              "44              os_Others  1.859863e+00\n",
              "45             os_Windows  1.596034e+00\n",
              "46                 os_iOS  1.178468e+01\n",
              "47                 4g_yes  2.467681e+00\n",
              "48                 5g_yes  1.813900e+00"
            ],
            "text/html": [
              "\n",
              "  <div id=\"df-c86b76b3-b1a1-4c74-9349-a9cc700a53b3\">\n",
              "    <div class=\"colab-df-container\">\n",
              "      <div>\n",
              "<style scoped>\n",
              "    .dataframe tbody tr th:only-of-type {\n",
              "        vertical-align: middle;\n",
              "    }\n",
              "\n",
              "    .dataframe tbody tr th {\n",
              "        vertical-align: top;\n",
              "    }\n",
              "\n",
              "    .dataframe thead th {\n",
              "        text-align: right;\n",
              "    }\n",
              "</style>\n",
              "<table border=\"1\" class=\"dataframe\">\n",
              "  <thead>\n",
              "    <tr style=\"text-align: right;\">\n",
              "      <th></th>\n",
              "      <th>feature</th>\n",
              "      <th>VIF</th>\n",
              "    </tr>\n",
              "  </thead>\n",
              "  <tbody>\n",
              "    <tr>\n",
              "      <th>0</th>\n",
              "      <td>const</td>\n",
              "      <td>3.791593e+06</td>\n",
              "    </tr>\n",
              "    <tr>\n",
              "      <th>1</th>\n",
              "      <td>screen_size</td>\n",
              "      <td>7.677290e+00</td>\n",
              "    </tr>\n",
              "    <tr>\n",
              "      <th>2</th>\n",
              "      <td>main_camera_mp</td>\n",
              "      <td>2.285051e+00</td>\n",
              "    </tr>\n",
              "    <tr>\n",
              "      <th>3</th>\n",
              "      <td>selfie_camera_mp</td>\n",
              "      <td>2.812473e+00</td>\n",
              "    </tr>\n",
              "    <tr>\n",
              "      <th>4</th>\n",
              "      <td>int_memory</td>\n",
              "      <td>1.364152e+00</td>\n",
              "    </tr>\n",
              "    <tr>\n",
              "      <th>5</th>\n",
              "      <td>ram</td>\n",
              "      <td>2.282352e+00</td>\n",
              "    </tr>\n",
              "    <tr>\n",
              "      <th>6</th>\n",
              "      <td>battery</td>\n",
              "      <td>4.081780e+00</td>\n",
              "    </tr>\n",
              "    <tr>\n",
              "      <th>7</th>\n",
              "      <td>weight</td>\n",
              "      <td>6.396749e+00</td>\n",
              "    </tr>\n",
              "    <tr>\n",
              "      <th>8</th>\n",
              "      <td>release_year</td>\n",
              "      <td>4.899007e+00</td>\n",
              "    </tr>\n",
              "    <tr>\n",
              "      <th>9</th>\n",
              "      <td>days_used</td>\n",
              "      <td>2.660269e+00</td>\n",
              "    </tr>\n",
              "    <tr>\n",
              "      <th>10</th>\n",
              "      <td>normalized_new_price</td>\n",
              "      <td>3.119430e+00</td>\n",
              "    </tr>\n",
              "    <tr>\n",
              "      <th>11</th>\n",
              "      <td>brand_name_Alcatel</td>\n",
              "      <td>3.405693e+00</td>\n",
              "    </tr>\n",
              "    <tr>\n",
              "      <th>12</th>\n",
              "      <td>brand_name_Apple</td>\n",
              "      <td>1.305767e+01</td>\n",
              "    </tr>\n",
              "    <tr>\n",
              "      <th>13</th>\n",
              "      <td>brand_name_Asus</td>\n",
              "      <td>3.332038e+00</td>\n",
              "    </tr>\n",
              "    <tr>\n",
              "      <th>14</th>\n",
              "      <td>brand_name_BlackBerry</td>\n",
              "      <td>1.632378e+00</td>\n",
              "    </tr>\n",
              "    <tr>\n",
              "      <th>15</th>\n",
              "      <td>brand_name_Celkon</td>\n",
              "      <td>1.774721e+00</td>\n",
              "    </tr>\n",
              "    <tr>\n",
              "      <th>16</th>\n",
              "      <td>brand_name_Coolpad</td>\n",
              "      <td>1.468006e+00</td>\n",
              "    </tr>\n",
              "    <tr>\n",
              "      <th>17</th>\n",
              "      <td>brand_name_Gionee</td>\n",
              "      <td>1.951272e+00</td>\n",
              "    </tr>\n",
              "    <tr>\n",
              "      <th>18</th>\n",
              "      <td>brand_name_Google</td>\n",
              "      <td>1.321778e+00</td>\n",
              "    </tr>\n",
              "    <tr>\n",
              "      <th>19</th>\n",
              "      <td>brand_name_HTC</td>\n",
              "      <td>3.410361e+00</td>\n",
              "    </tr>\n",
              "    <tr>\n",
              "      <th>20</th>\n",
              "      <td>brand_name_Honor</td>\n",
              "      <td>3.340687e+00</td>\n",
              "    </tr>\n",
              "    <tr>\n",
              "      <th>21</th>\n",
              "      <td>brand_name_Huawei</td>\n",
              "      <td>5.983852e+00</td>\n",
              "    </tr>\n",
              "    <tr>\n",
              "      <th>22</th>\n",
              "      <td>brand_name_Infinix</td>\n",
              "      <td>1.283955e+00</td>\n",
              "    </tr>\n",
              "    <tr>\n",
              "      <th>23</th>\n",
              "      <td>brand_name_Karbonn</td>\n",
              "      <td>1.573702e+00</td>\n",
              "    </tr>\n",
              "    <tr>\n",
              "      <th>24</th>\n",
              "      <td>brand_name_LG</td>\n",
              "      <td>4.849832e+00</td>\n",
              "    </tr>\n",
              "    <tr>\n",
              "      <th>25</th>\n",
              "      <td>brand_name_Lava</td>\n",
              "      <td>1.711360e+00</td>\n",
              "    </tr>\n",
              "    <tr>\n",
              "      <th>26</th>\n",
              "      <td>brand_name_Lenovo</td>\n",
              "      <td>4.558941e+00</td>\n",
              "    </tr>\n",
              "    <tr>\n",
              "      <th>27</th>\n",
              "      <td>brand_name_Meizu</td>\n",
              "      <td>2.179607e+00</td>\n",
              "    </tr>\n",
              "    <tr>\n",
              "      <th>28</th>\n",
              "      <td>brand_name_Micromax</td>\n",
              "      <td>3.363521e+00</td>\n",
              "    </tr>\n",
              "    <tr>\n",
              "      <th>29</th>\n",
              "      <td>brand_name_Microsoft</td>\n",
              "      <td>1.869751e+00</td>\n",
              "    </tr>\n",
              "    <tr>\n",
              "      <th>30</th>\n",
              "      <td>brand_name_Motorola</td>\n",
              "      <td>3.274558e+00</td>\n",
              "    </tr>\n",
              "    <tr>\n",
              "      <th>31</th>\n",
              "      <td>brand_name_Nokia</td>\n",
              "      <td>3.479849e+00</td>\n",
              "    </tr>\n",
              "    <tr>\n",
              "      <th>32</th>\n",
              "      <td>brand_name_OnePlus</td>\n",
              "      <td>1.437034e+00</td>\n",
              "    </tr>\n",
              "    <tr>\n",
              "      <th>33</th>\n",
              "      <td>brand_name_Oppo</td>\n",
              "      <td>3.971194e+00</td>\n",
              "    </tr>\n",
              "    <tr>\n",
              "      <th>34</th>\n",
              "      <td>brand_name_Others</td>\n",
              "      <td>9.711034e+00</td>\n",
              "    </tr>\n",
              "    <tr>\n",
              "      <th>35</th>\n",
              "      <td>brand_name_Panasonic</td>\n",
              "      <td>2.105703e+00</td>\n",
              "    </tr>\n",
              "    <tr>\n",
              "      <th>36</th>\n",
              "      <td>brand_name_Realme</td>\n",
              "      <td>1.946812e+00</td>\n",
              "    </tr>\n",
              "    <tr>\n",
              "      <th>37</th>\n",
              "      <td>brand_name_Samsung</td>\n",
              "      <td>7.539866e+00</td>\n",
              "    </tr>\n",
              "    <tr>\n",
              "      <th>38</th>\n",
              "      <td>brand_name_Sony</td>\n",
              "      <td>2.943161e+00</td>\n",
              "    </tr>\n",
              "    <tr>\n",
              "      <th>39</th>\n",
              "      <td>brand_name_Spice</td>\n",
              "      <td>1.688863e+00</td>\n",
              "    </tr>\n",
              "    <tr>\n",
              "      <th>40</th>\n",
              "      <td>brand_name_Vivo</td>\n",
              "      <td>3.651437e+00</td>\n",
              "    </tr>\n",
              "    <tr>\n",
              "      <th>41</th>\n",
              "      <td>brand_name_XOLO</td>\n",
              "      <td>2.138070e+00</td>\n",
              "    </tr>\n",
              "    <tr>\n",
              "      <th>42</th>\n",
              "      <td>brand_name_Xiaomi</td>\n",
              "      <td>3.719689e+00</td>\n",
              "    </tr>\n",
              "    <tr>\n",
              "      <th>43</th>\n",
              "      <td>brand_name_ZTE</td>\n",
              "      <td>3.797581e+00</td>\n",
              "    </tr>\n",
              "    <tr>\n",
              "      <th>44</th>\n",
              "      <td>os_Others</td>\n",
              "      <td>1.859863e+00</td>\n",
              "    </tr>\n",
              "    <tr>\n",
              "      <th>45</th>\n",
              "      <td>os_Windows</td>\n",
              "      <td>1.596034e+00</td>\n",
              "    </tr>\n",
              "    <tr>\n",
              "      <th>46</th>\n",
              "      <td>os_iOS</td>\n",
              "      <td>1.178468e+01</td>\n",
              "    </tr>\n",
              "    <tr>\n",
              "      <th>47</th>\n",
              "      <td>4g_yes</td>\n",
              "      <td>2.467681e+00</td>\n",
              "    </tr>\n",
              "    <tr>\n",
              "      <th>48</th>\n",
              "      <td>5g_yes</td>\n",
              "      <td>1.813900e+00</td>\n",
              "    </tr>\n",
              "  </tbody>\n",
              "</table>\n",
              "</div>\n",
              "      <button class=\"colab-df-convert\" onclick=\"convertToInteractive('df-c86b76b3-b1a1-4c74-9349-a9cc700a53b3')\"\n",
              "              title=\"Convert this dataframe to an interactive table.\"\n",
              "              style=\"display:none;\">\n",
              "        \n",
              "  <svg xmlns=\"http://www.w3.org/2000/svg\" height=\"24px\"viewBox=\"0 0 24 24\"\n",
              "       width=\"24px\">\n",
              "    <path d=\"M0 0h24v24H0V0z\" fill=\"none\"/>\n",
              "    <path d=\"M18.56 5.44l.94 2.06.94-2.06 2.06-.94-2.06-.94-.94-2.06-.94 2.06-2.06.94zm-11 1L8.5 8.5l.94-2.06 2.06-.94-2.06-.94L8.5 2.5l-.94 2.06-2.06.94zm10 10l.94 2.06.94-2.06 2.06-.94-2.06-.94-.94-2.06-.94 2.06-2.06.94z\"/><path d=\"M17.41 7.96l-1.37-1.37c-.4-.4-.92-.59-1.43-.59-.52 0-1.04.2-1.43.59L10.3 9.45l-7.72 7.72c-.78.78-.78 2.05 0 2.83L4 21.41c.39.39.9.59 1.41.59.51 0 1.02-.2 1.41-.59l7.78-7.78 2.81-2.81c.8-.78.8-2.07 0-2.86zM5.41 20L4 18.59l7.72-7.72 1.47 1.35L5.41 20z\"/>\n",
              "  </svg>\n",
              "      </button>\n",
              "      \n",
              "  <style>\n",
              "    .colab-df-container {\n",
              "      display:flex;\n",
              "      flex-wrap:wrap;\n",
              "      gap: 12px;\n",
              "    }\n",
              "\n",
              "    .colab-df-convert {\n",
              "      background-color: #E8F0FE;\n",
              "      border: none;\n",
              "      border-radius: 50%;\n",
              "      cursor: pointer;\n",
              "      display: none;\n",
              "      fill: #1967D2;\n",
              "      height: 32px;\n",
              "      padding: 0 0 0 0;\n",
              "      width: 32px;\n",
              "    }\n",
              "\n",
              "    .colab-df-convert:hover {\n",
              "      background-color: #E2EBFA;\n",
              "      box-shadow: 0px 1px 2px rgba(60, 64, 67, 0.3), 0px 1px 3px 1px rgba(60, 64, 67, 0.15);\n",
              "      fill: #174EA6;\n",
              "    }\n",
              "\n",
              "    [theme=dark] .colab-df-convert {\n",
              "      background-color: #3B4455;\n",
              "      fill: #D2E3FC;\n",
              "    }\n",
              "\n",
              "    [theme=dark] .colab-df-convert:hover {\n",
              "      background-color: #434B5C;\n",
              "      box-shadow: 0px 1px 3px 1px rgba(0, 0, 0, 0.15);\n",
              "      filter: drop-shadow(0px 1px 2px rgba(0, 0, 0, 0.3));\n",
              "      fill: #FFFFFF;\n",
              "    }\n",
              "  </style>\n",
              "\n",
              "      <script>\n",
              "        const buttonEl =\n",
              "          document.querySelector('#df-c86b76b3-b1a1-4c74-9349-a9cc700a53b3 button.colab-df-convert');\n",
              "        buttonEl.style.display =\n",
              "          google.colab.kernel.accessAllowed ? 'block' : 'none';\n",
              "\n",
              "        async function convertToInteractive(key) {\n",
              "          const element = document.querySelector('#df-c86b76b3-b1a1-4c74-9349-a9cc700a53b3');\n",
              "          const dataTable =\n",
              "            await google.colab.kernel.invokeFunction('convertToInteractive',\n",
              "                                                     [key], {});\n",
              "          if (!dataTable) return;\n",
              "\n",
              "          const docLinkHtml = 'Like what you see? Visit the ' +\n",
              "            '<a target=\"_blank\" href=https://colab.research.google.com/notebooks/data_table.ipynb>data table notebook</a>'\n",
              "            + ' to learn more about interactive tables.';\n",
              "          element.innerHTML = '';\n",
              "          dataTable['output_type'] = 'display_data';\n",
              "          await google.colab.output.renderOutput(dataTable, element);\n",
              "          const docLink = document.createElement('div');\n",
              "          docLink.innerHTML = docLinkHtml;\n",
              "          element.appendChild(docLink);\n",
              "        }\n",
              "      </script>\n",
              "    </div>\n",
              "  </div>\n",
              "  "
            ]
          },
          "metadata": {},
          "execution_count": 217
        }
      ]
    },
    {
      "cell_type": "markdown",
      "source": [
        "We can see that there are no extreme VIF values, but we should check screen_size and weight since both are greater than 5. And there is no need to check the dummy variables."
      ],
      "metadata": {
        "id": "vGoHh7Da6I08"
      }
    },
    {
      "cell_type": "markdown",
      "source": [
        "### Removing Multicollinearity"
      ],
      "metadata": {
        "id": "5yMIUcZSx6Uo"
      }
    },
    {
      "cell_type": "code",
      "source": [
        "# We can treat multicollinearilty with this useful function\n",
        "def treating_multicollinearity(predictors, target, high_vif_columns):\n",
        "\n",
        "    # empty lists to store adj. R-squared and RMSE values\n",
        "    adj_r2 = []\n",
        "    rmse = []\n",
        "\n",
        "    # build ols models by dropping one of the high VIF columns at a time\n",
        "    # store the adjusted R-squared and RMSE in the lists defined previously\n",
        "    for cols in high_vif_columns:\n",
        "        # defining the new train set\n",
        "        train = predictors.loc[:, ~predictors.columns.str.startswith(cols)]\n",
        "\n",
        "        # create the model\n",
        "        olsmodel = sm.OLS(target, train).fit()\n",
        "\n",
        "        # adding adj. R-squared and RMSE to the lists\n",
        "        adj_r2.append(olsmodel.rsquared_adj)\n",
        "        rmse.append(np.sqrt(olsmodel.mse_resid))\n",
        "\n",
        "    # creating a dataframe for the results\n",
        "    temp = pd.DataFrame(\n",
        "        {\n",
        "            \"col\": high_vif_columns,\n",
        "            \"Adj. R-squared after_dropping col\": adj_r2,\n",
        "            \"RMSE after dropping col\": rmse,\n",
        "        }\n",
        "    ).sort_values(by=\"Adj. R-squared after_dropping col\", ascending=False)\n",
        "    temp.reset_index(drop=True, inplace=True)\n",
        "\n",
        "    return temp"
      ],
      "metadata": {
        "id": "km48PdWRwLSc"
      },
      "execution_count": null,
      "outputs": []
    },
    {
      "cell_type": "code",
      "source": [
        "# We create a column list of the variables that we are going to drop test.\n",
        "col_list = ['screen_size','weight']\n",
        "\n",
        "res = treating_multicollinearity(x_train, y_train, col_list)\n",
        "res"
      ],
      "metadata": {
        "colab": {
          "base_uri": "https://localhost:8080/",
          "height": 112
        },
        "id": "jv9xkki-LCCa",
        "outputId": "808d1ac3-5b2b-4982-92e1-e4b0684dbde6"
      },
      "execution_count": null,
      "outputs": [
        {
          "output_type": "execute_result",
          "data": {
            "text/plain": [
              "           col  Adj. R-squared after_dropping col  RMSE after dropping col\n",
              "0  screen_size                           0.838381                 0.234703\n",
              "1       weight                           0.838071                 0.234928"
            ],
            "text/html": [
              "\n",
              "  <div id=\"df-35fe36ee-6085-4390-89ac-b215e8c000b0\">\n",
              "    <div class=\"colab-df-container\">\n",
              "      <div>\n",
              "<style scoped>\n",
              "    .dataframe tbody tr th:only-of-type {\n",
              "        vertical-align: middle;\n",
              "    }\n",
              "\n",
              "    .dataframe tbody tr th {\n",
              "        vertical-align: top;\n",
              "    }\n",
              "\n",
              "    .dataframe thead th {\n",
              "        text-align: right;\n",
              "    }\n",
              "</style>\n",
              "<table border=\"1\" class=\"dataframe\">\n",
              "  <thead>\n",
              "    <tr style=\"text-align: right;\">\n",
              "      <th></th>\n",
              "      <th>col</th>\n",
              "      <th>Adj. R-squared after_dropping col</th>\n",
              "      <th>RMSE after dropping col</th>\n",
              "    </tr>\n",
              "  </thead>\n",
              "  <tbody>\n",
              "    <tr>\n",
              "      <th>0</th>\n",
              "      <td>screen_size</td>\n",
              "      <td>0.838381</td>\n",
              "      <td>0.234703</td>\n",
              "    </tr>\n",
              "    <tr>\n",
              "      <th>1</th>\n",
              "      <td>weight</td>\n",
              "      <td>0.838071</td>\n",
              "      <td>0.234928</td>\n",
              "    </tr>\n",
              "  </tbody>\n",
              "</table>\n",
              "</div>\n",
              "      <button class=\"colab-df-convert\" onclick=\"convertToInteractive('df-35fe36ee-6085-4390-89ac-b215e8c000b0')\"\n",
              "              title=\"Convert this dataframe to an interactive table.\"\n",
              "              style=\"display:none;\">\n",
              "        \n",
              "  <svg xmlns=\"http://www.w3.org/2000/svg\" height=\"24px\"viewBox=\"0 0 24 24\"\n",
              "       width=\"24px\">\n",
              "    <path d=\"M0 0h24v24H0V0z\" fill=\"none\"/>\n",
              "    <path d=\"M18.56 5.44l.94 2.06.94-2.06 2.06-.94-2.06-.94-.94-2.06-.94 2.06-2.06.94zm-11 1L8.5 8.5l.94-2.06 2.06-.94-2.06-.94L8.5 2.5l-.94 2.06-2.06.94zm10 10l.94 2.06.94-2.06 2.06-.94-2.06-.94-.94-2.06-.94 2.06-2.06.94z\"/><path d=\"M17.41 7.96l-1.37-1.37c-.4-.4-.92-.59-1.43-.59-.52 0-1.04.2-1.43.59L10.3 9.45l-7.72 7.72c-.78.78-.78 2.05 0 2.83L4 21.41c.39.39.9.59 1.41.59.51 0 1.02-.2 1.41-.59l7.78-7.78 2.81-2.81c.8-.78.8-2.07 0-2.86zM5.41 20L4 18.59l7.72-7.72 1.47 1.35L5.41 20z\"/>\n",
              "  </svg>\n",
              "      </button>\n",
              "      \n",
              "  <style>\n",
              "    .colab-df-container {\n",
              "      display:flex;\n",
              "      flex-wrap:wrap;\n",
              "      gap: 12px;\n",
              "    }\n",
              "\n",
              "    .colab-df-convert {\n",
              "      background-color: #E8F0FE;\n",
              "      border: none;\n",
              "      border-radius: 50%;\n",
              "      cursor: pointer;\n",
              "      display: none;\n",
              "      fill: #1967D2;\n",
              "      height: 32px;\n",
              "      padding: 0 0 0 0;\n",
              "      width: 32px;\n",
              "    }\n",
              "\n",
              "    .colab-df-convert:hover {\n",
              "      background-color: #E2EBFA;\n",
              "      box-shadow: 0px 1px 2px rgba(60, 64, 67, 0.3), 0px 1px 3px 1px rgba(60, 64, 67, 0.15);\n",
              "      fill: #174EA6;\n",
              "    }\n",
              "\n",
              "    [theme=dark] .colab-df-convert {\n",
              "      background-color: #3B4455;\n",
              "      fill: #D2E3FC;\n",
              "    }\n",
              "\n",
              "    [theme=dark] .colab-df-convert:hover {\n",
              "      background-color: #434B5C;\n",
              "      box-shadow: 0px 1px 3px 1px rgba(0, 0, 0, 0.15);\n",
              "      filter: drop-shadow(0px 1px 2px rgba(0, 0, 0, 0.3));\n",
              "      fill: #FFFFFF;\n",
              "    }\n",
              "  </style>\n",
              "\n",
              "      <script>\n",
              "        const buttonEl =\n",
              "          document.querySelector('#df-35fe36ee-6085-4390-89ac-b215e8c000b0 button.colab-df-convert');\n",
              "        buttonEl.style.display =\n",
              "          google.colab.kernel.accessAllowed ? 'block' : 'none';\n",
              "\n",
              "        async function convertToInteractive(key) {\n",
              "          const element = document.querySelector('#df-35fe36ee-6085-4390-89ac-b215e8c000b0');\n",
              "          const dataTable =\n",
              "            await google.colab.kernel.invokeFunction('convertToInteractive',\n",
              "                                                     [key], {});\n",
              "          if (!dataTable) return;\n",
              "\n",
              "          const docLinkHtml = 'Like what you see? Visit the ' +\n",
              "            '<a target=\"_blank\" href=https://colab.research.google.com/notebooks/data_table.ipynb>data table notebook</a>'\n",
              "            + ' to learn more about interactive tables.';\n",
              "          element.innerHTML = '';\n",
              "          dataTable['output_type'] = 'display_data';\n",
              "          await google.colab.output.renderOutput(dataTable, element);\n",
              "          const docLink = document.createElement('div');\n",
              "          docLink.innerHTML = docLinkHtml;\n",
              "          element.appendChild(docLink);\n",
              "        }\n",
              "      </script>\n",
              "    </div>\n",
              "  </div>\n",
              "  "
            ]
          },
          "metadata": {},
          "execution_count": 219
        }
      ]
    },
    {
      "cell_type": "code",
      "source": [
        "# First we drop screen_size and see how that affects our data\n",
        "col_to_drop = 'screen_size'\n",
        "x_train2 = x_train.loc[:, ~x_train.columns.str.startswith(col_to_drop)]\n",
        "x_test2 = x_test.loc[:, ~x_test.columns.str.startswith(col_to_drop)]\n",
        "\n",
        "# Check VIF now\n",
        "vif = checking_vif(x_train2)\n",
        "print(\"VIF after dropping \", col_to_drop)\n",
        "vif"
      ],
      "metadata": {
        "colab": {
          "base_uri": "https://localhost:8080/",
          "height": 1000
        },
        "id": "gs77dFOsLRRO",
        "outputId": "7455b7c2-6e6c-47b0-c908-912f9f3f1811"
      },
      "execution_count": null,
      "outputs": [
        {
          "output_type": "stream",
          "name": "stdout",
          "text": [
            "VIF after dropping  screen_size\n"
          ]
        },
        {
          "output_type": "execute_result",
          "data": {
            "text/plain": [
              "                  feature           VIF\n",
              "0                   const  3.664323e+06\n",
              "1          main_camera_mp  2.281835e+00\n",
              "2        selfie_camera_mp  2.809009e+00\n",
              "3              int_memory  1.362043e+00\n",
              "4                     ram  2.282350e+00\n",
              "5                 battery  3.842989e+00\n",
              "6                  weight  2.993855e+00\n",
              "7            release_year  4.730315e+00\n",
              "8               days_used  2.648929e+00\n",
              "9    normalized_new_price  3.077650e+00\n",
              "10     brand_name_Alcatel  3.405533e+00\n",
              "11       brand_name_Apple  1.300034e+01\n",
              "12        brand_name_Asus  3.326698e+00\n",
              "13  brand_name_BlackBerry  1.631042e+00\n",
              "14      brand_name_Celkon  1.774528e+00\n",
              "15     brand_name_Coolpad  1.467719e+00\n",
              "16      brand_name_Gionee  1.941437e+00\n",
              "17      brand_name_Google  1.319334e+00\n",
              "18         brand_name_HTC  3.399980e+00\n",
              "19       brand_name_Honor  3.340354e+00\n",
              "20      brand_name_Huawei  5.981046e+00\n",
              "21     brand_name_Infinix  1.283526e+00\n",
              "22     brand_name_Karbonn  1.573494e+00\n",
              "23          brand_name_LG  4.832548e+00\n",
              "24        brand_name_Lava  1.711092e+00\n",
              "25      brand_name_Lenovo  4.553789e+00\n",
              "26       brand_name_Meizu  2.176424e+00\n",
              "27    brand_name_Micromax  3.358629e+00\n",
              "28   brand_name_Microsoft  1.868243e+00\n",
              "29    brand_name_Motorola  3.262356e+00\n",
              "30       brand_name_Nokia  3.464643e+00\n",
              "31     brand_name_OnePlus  1.437004e+00\n",
              "32        brand_name_Oppo  3.965445e+00\n",
              "33      brand_name_Others  9.652572e+00\n",
              "34   brand_name_Panasonic  2.104853e+00\n",
              "35      brand_name_Realme  1.943845e+00\n",
              "36     brand_name_Samsung  7.523421e+00\n",
              "37        brand_name_Sony  2.937375e+00\n",
              "38       brand_name_Spice  1.683302e+00\n",
              "39        brand_name_Vivo  3.650625e+00\n",
              "40        brand_name_XOLO  2.137844e+00\n",
              "41      brand_name_Xiaomi  3.713988e+00\n",
              "42         brand_name_ZTE  3.788971e+00\n",
              "43              os_Others  1.625212e+00\n",
              "44             os_Windows  1.595936e+00\n",
              "45                 os_iOS  1.167896e+01\n",
              "46                 4g_yes  2.466915e+00\n",
              "47                 5g_yes  1.810289e+00"
            ],
            "text/html": [
              "\n",
              "  <div id=\"df-eb5ace56-2684-4e2d-b8b7-1fb4978f40ab\">\n",
              "    <div class=\"colab-df-container\">\n",
              "      <div>\n",
              "<style scoped>\n",
              "    .dataframe tbody tr th:only-of-type {\n",
              "        vertical-align: middle;\n",
              "    }\n",
              "\n",
              "    .dataframe tbody tr th {\n",
              "        vertical-align: top;\n",
              "    }\n",
              "\n",
              "    .dataframe thead th {\n",
              "        text-align: right;\n",
              "    }\n",
              "</style>\n",
              "<table border=\"1\" class=\"dataframe\">\n",
              "  <thead>\n",
              "    <tr style=\"text-align: right;\">\n",
              "      <th></th>\n",
              "      <th>feature</th>\n",
              "      <th>VIF</th>\n",
              "    </tr>\n",
              "  </thead>\n",
              "  <tbody>\n",
              "    <tr>\n",
              "      <th>0</th>\n",
              "      <td>const</td>\n",
              "      <td>3.664323e+06</td>\n",
              "    </tr>\n",
              "    <tr>\n",
              "      <th>1</th>\n",
              "      <td>main_camera_mp</td>\n",
              "      <td>2.281835e+00</td>\n",
              "    </tr>\n",
              "    <tr>\n",
              "      <th>2</th>\n",
              "      <td>selfie_camera_mp</td>\n",
              "      <td>2.809009e+00</td>\n",
              "    </tr>\n",
              "    <tr>\n",
              "      <th>3</th>\n",
              "      <td>int_memory</td>\n",
              "      <td>1.362043e+00</td>\n",
              "    </tr>\n",
              "    <tr>\n",
              "      <th>4</th>\n",
              "      <td>ram</td>\n",
              "      <td>2.282350e+00</td>\n",
              "    </tr>\n",
              "    <tr>\n",
              "      <th>5</th>\n",
              "      <td>battery</td>\n",
              "      <td>3.842989e+00</td>\n",
              "    </tr>\n",
              "    <tr>\n",
              "      <th>6</th>\n",
              "      <td>weight</td>\n",
              "      <td>2.993855e+00</td>\n",
              "    </tr>\n",
              "    <tr>\n",
              "      <th>7</th>\n",
              "      <td>release_year</td>\n",
              "      <td>4.730315e+00</td>\n",
              "    </tr>\n",
              "    <tr>\n",
              "      <th>8</th>\n",
              "      <td>days_used</td>\n",
              "      <td>2.648929e+00</td>\n",
              "    </tr>\n",
              "    <tr>\n",
              "      <th>9</th>\n",
              "      <td>normalized_new_price</td>\n",
              "      <td>3.077650e+00</td>\n",
              "    </tr>\n",
              "    <tr>\n",
              "      <th>10</th>\n",
              "      <td>brand_name_Alcatel</td>\n",
              "      <td>3.405533e+00</td>\n",
              "    </tr>\n",
              "    <tr>\n",
              "      <th>11</th>\n",
              "      <td>brand_name_Apple</td>\n",
              "      <td>1.300034e+01</td>\n",
              "    </tr>\n",
              "    <tr>\n",
              "      <th>12</th>\n",
              "      <td>brand_name_Asus</td>\n",
              "      <td>3.326698e+00</td>\n",
              "    </tr>\n",
              "    <tr>\n",
              "      <th>13</th>\n",
              "      <td>brand_name_BlackBerry</td>\n",
              "      <td>1.631042e+00</td>\n",
              "    </tr>\n",
              "    <tr>\n",
              "      <th>14</th>\n",
              "      <td>brand_name_Celkon</td>\n",
              "      <td>1.774528e+00</td>\n",
              "    </tr>\n",
              "    <tr>\n",
              "      <th>15</th>\n",
              "      <td>brand_name_Coolpad</td>\n",
              "      <td>1.467719e+00</td>\n",
              "    </tr>\n",
              "    <tr>\n",
              "      <th>16</th>\n",
              "      <td>brand_name_Gionee</td>\n",
              "      <td>1.941437e+00</td>\n",
              "    </tr>\n",
              "    <tr>\n",
              "      <th>17</th>\n",
              "      <td>brand_name_Google</td>\n",
              "      <td>1.319334e+00</td>\n",
              "    </tr>\n",
              "    <tr>\n",
              "      <th>18</th>\n",
              "      <td>brand_name_HTC</td>\n",
              "      <td>3.399980e+00</td>\n",
              "    </tr>\n",
              "    <tr>\n",
              "      <th>19</th>\n",
              "      <td>brand_name_Honor</td>\n",
              "      <td>3.340354e+00</td>\n",
              "    </tr>\n",
              "    <tr>\n",
              "      <th>20</th>\n",
              "      <td>brand_name_Huawei</td>\n",
              "      <td>5.981046e+00</td>\n",
              "    </tr>\n",
              "    <tr>\n",
              "      <th>21</th>\n",
              "      <td>brand_name_Infinix</td>\n",
              "      <td>1.283526e+00</td>\n",
              "    </tr>\n",
              "    <tr>\n",
              "      <th>22</th>\n",
              "      <td>brand_name_Karbonn</td>\n",
              "      <td>1.573494e+00</td>\n",
              "    </tr>\n",
              "    <tr>\n",
              "      <th>23</th>\n",
              "      <td>brand_name_LG</td>\n",
              "      <td>4.832548e+00</td>\n",
              "    </tr>\n",
              "    <tr>\n",
              "      <th>24</th>\n",
              "      <td>brand_name_Lava</td>\n",
              "      <td>1.711092e+00</td>\n",
              "    </tr>\n",
              "    <tr>\n",
              "      <th>25</th>\n",
              "      <td>brand_name_Lenovo</td>\n",
              "      <td>4.553789e+00</td>\n",
              "    </tr>\n",
              "    <tr>\n",
              "      <th>26</th>\n",
              "      <td>brand_name_Meizu</td>\n",
              "      <td>2.176424e+00</td>\n",
              "    </tr>\n",
              "    <tr>\n",
              "      <th>27</th>\n",
              "      <td>brand_name_Micromax</td>\n",
              "      <td>3.358629e+00</td>\n",
              "    </tr>\n",
              "    <tr>\n",
              "      <th>28</th>\n",
              "      <td>brand_name_Microsoft</td>\n",
              "      <td>1.868243e+00</td>\n",
              "    </tr>\n",
              "    <tr>\n",
              "      <th>29</th>\n",
              "      <td>brand_name_Motorola</td>\n",
              "      <td>3.262356e+00</td>\n",
              "    </tr>\n",
              "    <tr>\n",
              "      <th>30</th>\n",
              "      <td>brand_name_Nokia</td>\n",
              "      <td>3.464643e+00</td>\n",
              "    </tr>\n",
              "    <tr>\n",
              "      <th>31</th>\n",
              "      <td>brand_name_OnePlus</td>\n",
              "      <td>1.437004e+00</td>\n",
              "    </tr>\n",
              "    <tr>\n",
              "      <th>32</th>\n",
              "      <td>brand_name_Oppo</td>\n",
              "      <td>3.965445e+00</td>\n",
              "    </tr>\n",
              "    <tr>\n",
              "      <th>33</th>\n",
              "      <td>brand_name_Others</td>\n",
              "      <td>9.652572e+00</td>\n",
              "    </tr>\n",
              "    <tr>\n",
              "      <th>34</th>\n",
              "      <td>brand_name_Panasonic</td>\n",
              "      <td>2.104853e+00</td>\n",
              "    </tr>\n",
              "    <tr>\n",
              "      <th>35</th>\n",
              "      <td>brand_name_Realme</td>\n",
              "      <td>1.943845e+00</td>\n",
              "    </tr>\n",
              "    <tr>\n",
              "      <th>36</th>\n",
              "      <td>brand_name_Samsung</td>\n",
              "      <td>7.523421e+00</td>\n",
              "    </tr>\n",
              "    <tr>\n",
              "      <th>37</th>\n",
              "      <td>brand_name_Sony</td>\n",
              "      <td>2.937375e+00</td>\n",
              "    </tr>\n",
              "    <tr>\n",
              "      <th>38</th>\n",
              "      <td>brand_name_Spice</td>\n",
              "      <td>1.683302e+00</td>\n",
              "    </tr>\n",
              "    <tr>\n",
              "      <th>39</th>\n",
              "      <td>brand_name_Vivo</td>\n",
              "      <td>3.650625e+00</td>\n",
              "    </tr>\n",
              "    <tr>\n",
              "      <th>40</th>\n",
              "      <td>brand_name_XOLO</td>\n",
              "      <td>2.137844e+00</td>\n",
              "    </tr>\n",
              "    <tr>\n",
              "      <th>41</th>\n",
              "      <td>brand_name_Xiaomi</td>\n",
              "      <td>3.713988e+00</td>\n",
              "    </tr>\n",
              "    <tr>\n",
              "      <th>42</th>\n",
              "      <td>brand_name_ZTE</td>\n",
              "      <td>3.788971e+00</td>\n",
              "    </tr>\n",
              "    <tr>\n",
              "      <th>43</th>\n",
              "      <td>os_Others</td>\n",
              "      <td>1.625212e+00</td>\n",
              "    </tr>\n",
              "    <tr>\n",
              "      <th>44</th>\n",
              "      <td>os_Windows</td>\n",
              "      <td>1.595936e+00</td>\n",
              "    </tr>\n",
              "    <tr>\n",
              "      <th>45</th>\n",
              "      <td>os_iOS</td>\n",
              "      <td>1.167896e+01</td>\n",
              "    </tr>\n",
              "    <tr>\n",
              "      <th>46</th>\n",
              "      <td>4g_yes</td>\n",
              "      <td>2.466915e+00</td>\n",
              "    </tr>\n",
              "    <tr>\n",
              "      <th>47</th>\n",
              "      <td>5g_yes</td>\n",
              "      <td>1.810289e+00</td>\n",
              "    </tr>\n",
              "  </tbody>\n",
              "</table>\n",
              "</div>\n",
              "      <button class=\"colab-df-convert\" onclick=\"convertToInteractive('df-eb5ace56-2684-4e2d-b8b7-1fb4978f40ab')\"\n",
              "              title=\"Convert this dataframe to an interactive table.\"\n",
              "              style=\"display:none;\">\n",
              "        \n",
              "  <svg xmlns=\"http://www.w3.org/2000/svg\" height=\"24px\"viewBox=\"0 0 24 24\"\n",
              "       width=\"24px\">\n",
              "    <path d=\"M0 0h24v24H0V0z\" fill=\"none\"/>\n",
              "    <path d=\"M18.56 5.44l.94 2.06.94-2.06 2.06-.94-2.06-.94-.94-2.06-.94 2.06-2.06.94zm-11 1L8.5 8.5l.94-2.06 2.06-.94-2.06-.94L8.5 2.5l-.94 2.06-2.06.94zm10 10l.94 2.06.94-2.06 2.06-.94-2.06-.94-.94-2.06-.94 2.06-2.06.94z\"/><path d=\"M17.41 7.96l-1.37-1.37c-.4-.4-.92-.59-1.43-.59-.52 0-1.04.2-1.43.59L10.3 9.45l-7.72 7.72c-.78.78-.78 2.05 0 2.83L4 21.41c.39.39.9.59 1.41.59.51 0 1.02-.2 1.41-.59l7.78-7.78 2.81-2.81c.8-.78.8-2.07 0-2.86zM5.41 20L4 18.59l7.72-7.72 1.47 1.35L5.41 20z\"/>\n",
              "  </svg>\n",
              "      </button>\n",
              "      \n",
              "  <style>\n",
              "    .colab-df-container {\n",
              "      display:flex;\n",
              "      flex-wrap:wrap;\n",
              "      gap: 12px;\n",
              "    }\n",
              "\n",
              "    .colab-df-convert {\n",
              "      background-color: #E8F0FE;\n",
              "      border: none;\n",
              "      border-radius: 50%;\n",
              "      cursor: pointer;\n",
              "      display: none;\n",
              "      fill: #1967D2;\n",
              "      height: 32px;\n",
              "      padding: 0 0 0 0;\n",
              "      width: 32px;\n",
              "    }\n",
              "\n",
              "    .colab-df-convert:hover {\n",
              "      background-color: #E2EBFA;\n",
              "      box-shadow: 0px 1px 2px rgba(60, 64, 67, 0.3), 0px 1px 3px 1px rgba(60, 64, 67, 0.15);\n",
              "      fill: #174EA6;\n",
              "    }\n",
              "\n",
              "    [theme=dark] .colab-df-convert {\n",
              "      background-color: #3B4455;\n",
              "      fill: #D2E3FC;\n",
              "    }\n",
              "\n",
              "    [theme=dark] .colab-df-convert:hover {\n",
              "      background-color: #434B5C;\n",
              "      box-shadow: 0px 1px 3px 1px rgba(0, 0, 0, 0.15);\n",
              "      filter: drop-shadow(0px 1px 2px rgba(0, 0, 0, 0.3));\n",
              "      fill: #FFFFFF;\n",
              "    }\n",
              "  </style>\n",
              "\n",
              "      <script>\n",
              "        const buttonEl =\n",
              "          document.querySelector('#df-eb5ace56-2684-4e2d-b8b7-1fb4978f40ab button.colab-df-convert');\n",
              "        buttonEl.style.display =\n",
              "          google.colab.kernel.accessAllowed ? 'block' : 'none';\n",
              "\n",
              "        async function convertToInteractive(key) {\n",
              "          const element = document.querySelector('#df-eb5ace56-2684-4e2d-b8b7-1fb4978f40ab');\n",
              "          const dataTable =\n",
              "            await google.colab.kernel.invokeFunction('convertToInteractive',\n",
              "                                                     [key], {});\n",
              "          if (!dataTable) return;\n",
              "\n",
              "          const docLinkHtml = 'Like what you see? Visit the ' +\n",
              "            '<a target=\"_blank\" href=https://colab.research.google.com/notebooks/data_table.ipynb>data table notebook</a>'\n",
              "            + ' to learn more about interactive tables.';\n",
              "          element.innerHTML = '';\n",
              "          dataTable['output_type'] = 'display_data';\n",
              "          await google.colab.output.renderOutput(dataTable, element);\n",
              "          const docLink = document.createElement('div');\n",
              "          docLink.innerHTML = docLinkHtml;\n",
              "          element.appendChild(docLink);\n",
              "        }\n",
              "      </script>\n",
              "    </div>\n",
              "  </div>\n",
              "  "
            ]
          },
          "metadata": {},
          "execution_count": 220
        }
      ]
    },
    {
      "cell_type": "markdown",
      "source": [
        "After dropping screen size we can see that every one of our variables are less than 5 meaning we dealt with the threat of multicollinearity."
      ],
      "metadata": {
        "id": "5wh5mpxJL-7z"
      }
    },
    {
      "cell_type": "code",
      "source": [
        "# Reprint the olsmodel with our recent changes\n",
        "olsmod1 = sm.OLS(y_train, x_train2).fit()\n",
        "print(olsmod1.summary())"
      ],
      "metadata": {
        "colab": {
          "base_uri": "https://localhost:8080/"
        },
        "id": "I4bfEKs4MNM9",
        "outputId": "c6f28ca4-89f4-422b-cb4c-a77dce50232e"
      },
      "execution_count": null,
      "outputs": [
        {
          "output_type": "stream",
          "name": "stdout",
          "text": [
            "                              OLS Regression Results                             \n",
            "=================================================================================\n",
            "Dep. Variable:     normalized_used_price   R-squared:                       0.842\n",
            "Model:                               OLS   Adj. R-squared:                  0.838\n",
            "Method:                    Least Squares   F-statistic:                     267.7\n",
            "Date:                   Fri, 27 May 2022   Prob (F-statistic):               0.00\n",
            "Time:                           23:06:21   Log-Likelihood:                 97.950\n",
            "No. Observations:                   2417   AIC:                            -99.90\n",
            "Df Residuals:                       2369   BIC:                             178.0\n",
            "Df Model:                             47                                         \n",
            "Covariance Type:               nonrobust                                         \n",
            "=========================================================================================\n",
            "                            coef    std err          t      P>|t|      [0.025      0.975]\n",
            "-----------------------------------------------------------------------------------------\n",
            "const                   -58.5809      9.139     -6.410      0.000     -76.501     -40.661\n",
            "main_camera_mp            0.0212      0.002     13.979      0.000       0.018       0.024\n",
            "selfie_camera_mp          0.0138      0.001     12.128      0.000       0.012       0.016\n",
            "int_memory             9.551e-05   7.04e-05      1.356      0.175   -4.26e-05       0.000\n",
            "ram                       0.0229      0.005      4.397      0.000       0.013       0.033\n",
            "battery               -4.284e-06   7.13e-06     -0.601      0.548   -1.83e-05     9.7e-06\n",
            "weight                    0.0017   9.22e-05     18.376      0.000       0.002       0.002\n",
            "release_year              0.0297      0.005      6.568      0.000       0.021       0.039\n",
            "days_used              2.773e-05   3.11e-05      0.891      0.373   -3.33e-05    8.88e-05\n",
            "normalized_new_price      0.4413      0.012     35.841      0.000       0.417       0.465\n",
            "brand_name_Alcatel        0.0177      0.048      0.368      0.713      -0.077       0.112\n",
            "brand_name_Apple          0.0660      0.148      0.445      0.656      -0.225       0.357\n",
            "brand_name_Asus           0.0013      0.048      0.027      0.978      -0.094       0.096\n",
            "brand_name_BlackBerry    -0.0444      0.071     -0.626      0.531      -0.183       0.095\n",
            "brand_name_Celkon        -0.0518      0.067     -0.773      0.440      -0.183       0.080\n",
            "brand_name_Coolpad        0.0136      0.074      0.185      0.854      -0.131       0.158\n",
            "brand_name_Gionee         0.0154      0.058      0.265      0.791      -0.099       0.130\n",
            "brand_name_Google        -0.0587      0.085     -0.687      0.492      -0.226       0.109\n",
            "brand_name_HTC           -0.0321      0.049     -0.660      0.509      -0.127       0.063\n",
            "brand_name_Honor          0.0352      0.050      0.708      0.479      -0.062       0.133\n",
            "brand_name_Huawei        -0.0089      0.045     -0.199      0.842      -0.097       0.079\n",
            "brand_name_Infinix        0.1511      0.094      1.605      0.109      -0.034       0.336\n",
            "brand_name_Karbonn        0.0998      0.068      1.472      0.141      -0.033       0.233\n",
            "brand_name_LG            -0.0325      0.046     -0.712      0.476      -0.122       0.057\n",
            "brand_name_Lava           0.0276      0.063      0.438      0.661      -0.096       0.151\n",
            "brand_name_Lenovo         0.0345      0.046      0.756      0.450      -0.055       0.124\n",
            "brand_name_Meizu         -0.0282      0.057     -0.498      0.618      -0.139       0.083\n",
            "brand_name_Micromax      -0.0468      0.048     -0.968      0.333      -0.142       0.048\n",
            "brand_name_Microsoft      0.0773      0.089      0.866      0.387      -0.098       0.252\n",
            "brand_name_Motorola      -0.0329      0.050     -0.658      0.511      -0.131       0.065\n",
            "brand_name_Nokia          0.0473      0.052      0.906      0.365      -0.055       0.150\n",
            "brand_name_OnePlus        0.0684      0.078      0.874      0.382      -0.085       0.222\n",
            "brand_name_Oppo          -0.0006      0.048     -0.012      0.991      -0.095       0.094\n",
            "brand_name_Others        -0.0314      0.042     -0.741      0.459      -0.115       0.052\n",
            "brand_name_Panasonic      0.0482      0.056      0.855      0.393      -0.062       0.159\n",
            "brand_name_Realme         0.0147      0.062      0.236      0.813      -0.107       0.137\n",
            "brand_name_Samsung       -0.0458      0.044     -1.049      0.294      -0.131       0.040\n",
            "brand_name_Sony          -0.0776      0.051     -1.523      0.128      -0.178       0.022\n",
            "brand_name_Spice         -0.0407      0.064     -0.638      0.524      -0.166       0.084\n",
            "brand_name_Vivo          -0.0206      0.049     -0.421      0.674      -0.117       0.075\n",
            "brand_name_XOLO           0.0111      0.055      0.201      0.841      -0.097       0.120\n",
            "brand_name_Xiaomi         0.0734      0.049      1.511      0.131      -0.022       0.169\n",
            "brand_name_ZTE           -0.0219      0.048     -0.457      0.647      -0.116       0.072\n",
            "os_Others                -0.1345      0.031     -4.339      0.000      -0.195      -0.074\n",
            "os_Windows               -0.0182      0.046     -0.399      0.690      -0.108       0.071\n",
            "os_iOS                   -0.1657      0.147     -1.125      0.261      -0.455       0.123\n",
            "4g_yes                    0.0508      0.016      3.167      0.002       0.019       0.082\n",
            "5g_yes                   -0.0815      0.032     -2.563      0.010      -0.144      -0.019\n",
            "==============================================================================\n",
            "Omnibus:                      234.761   Durbin-Watson:                   1.907\n",
            "Prob(Omnibus):                  0.000   Jarque-Bera (JB):              440.912\n",
            "Skew:                          -0.647   Prob(JB):                     1.81e-96\n",
            "Kurtosis:                       4.644   Cond. No.                     7.57e+06\n",
            "==============================================================================\n",
            "\n",
            "Warnings:\n",
            "[1] Standard Errors assume that the covariance matrix of the errors is correctly specified.\n",
            "[2] The condition number is large, 7.57e+06. This might indicate that there are\n",
            "strong multicollinearity or other numerical problems.\n"
          ]
        }
      ]
    },
    {
      "cell_type": "markdown",
      "source": [
        "### Dealing with high p-value variable"
      ],
      "metadata": {
        "id": "0L6su3EUyDBi"
      }
    },
    {
      "cell_type": "code",
      "source": [
        "# initial list of columns\n",
        "# Use this to determine which variables surpass the p-value threshold\n",
        "predictors = x_train2.copy()\n",
        "cols = predictors.columns.tolist()\n",
        "\n",
        "# setting an initial max p-value\n",
        "max_p_value = 1\n",
        "\n",
        "while len(cols) > 0:\n",
        "    # defining the train set\n",
        "    x_train_aux = predictors[cols]\n",
        "\n",
        "    # fitting the model\n",
        "    model = sm.OLS(y_train, x_train_aux).fit()\n",
        "\n",
        "    # getting the p-values and the maximum p-value\n",
        "    p_values = model.pvalues\n",
        "    max_p_value = max(p_values)\n",
        "\n",
        "    # name of the variable with maximum p-value\n",
        "    feature_with_p_max = p_values.idxmax()\n",
        "\n",
        "    if max_p_value > 0.05:\n",
        "        cols.remove(feature_with_p_max)\n",
        "    else:\n",
        "        break\n",
        "\n",
        "selected_features = cols\n",
        "print(selected_features)\n",
        "# Those variables featured in the list below are good to keep"
      ],
      "metadata": {
        "colab": {
          "base_uri": "https://localhost:8080/"
        },
        "id": "XMsPH-8kMxhr",
        "outputId": "82c9dddd-f4de-4e98-e694-bf0973626f7f"
      },
      "execution_count": null,
      "outputs": [
        {
          "output_type": "stream",
          "name": "stdout",
          "text": [
            "['const', 'main_camera_mp', 'selfie_camera_mp', 'ram', 'weight', 'release_year', 'normalized_new_price', 'brand_name_Karbonn', 'brand_name_Samsung', 'brand_name_Sony', 'brand_name_Xiaomi', 'os_Others', 'os_iOS', '4g_yes', '5g_yes']\n"
          ]
        }
      ]
    },
    {
      "cell_type": "code",
      "source": [
        "x_train3 = x_train2[selected_features]\n",
        "x_test3 = x_test2[selected_features]"
      ],
      "metadata": {
        "id": "NGD_fMlSM1MG"
      },
      "execution_count": null,
      "outputs": []
    },
    {
      "cell_type": "code",
      "source": [
        "olsmod2 = sm.OLS(y_train, x_train3).fit()\n",
        "print(olsmod2.summary())"
      ],
      "metadata": {
        "colab": {
          "base_uri": "https://localhost:8080/"
        },
        "id": "NDt_5rV_NNkA",
        "outputId": "f364d519-121d-47f5-a269-3c78c86d7dd1"
      },
      "execution_count": null,
      "outputs": [
        {
          "output_type": "stream",
          "name": "stdout",
          "text": [
            "                              OLS Regression Results                             \n",
            "=================================================================================\n",
            "Dep. Variable:     normalized_used_price   R-squared:                       0.839\n",
            "Model:                               OLS   Adj. R-squared:                  0.838\n",
            "Method:                    Least Squares   F-statistic:                     895.7\n",
            "Date:                   Fri, 27 May 2022   Prob (F-statistic):               0.00\n",
            "Time:                           23:06:36   Log-Likelihood:                 80.645\n",
            "No. Observations:                   2417   AIC:                            -131.3\n",
            "Df Residuals:                       2402   BIC:                            -44.44\n",
            "Df Model:                             14                                         \n",
            "Covariance Type:               nonrobust                                         \n",
            "========================================================================================\n",
            "                           coef    std err          t      P>|t|      [0.025      0.975]\n",
            "----------------------------------------------------------------------------------------\n",
            "const                  -57.4521      6.850     -8.387      0.000     -70.885     -44.019\n",
            "main_camera_mp           0.0210      0.001     14.714      0.000       0.018       0.024\n",
            "selfie_camera_mp         0.0138      0.001     12.858      0.000       0.012       0.016\n",
            "ram                      0.0207      0.005      4.151      0.000       0.011       0.030\n",
            "weight                   0.0017      6e-05     27.672      0.000       0.002       0.002\n",
            "release_year             0.0292      0.003      8.589      0.000       0.023       0.036\n",
            "normalized_new_price     0.4415      0.011     39.337      0.000       0.419       0.463\n",
            "brand_name_Karbonn       0.1156      0.055      2.111      0.035       0.008       0.223\n",
            "brand_name_Samsung      -0.0374      0.016     -2.270      0.023      -0.070      -0.005\n",
            "brand_name_Sony         -0.0670      0.030     -2.197      0.028      -0.127      -0.007\n",
            "brand_name_Xiaomi        0.0801      0.026      3.114      0.002       0.030       0.130\n",
            "os_Others               -0.1276      0.027     -4.667      0.000      -0.181      -0.074\n",
            "os_iOS                  -0.0900      0.045     -1.994      0.046      -0.179      -0.002\n",
            "4g_yes                   0.0502      0.015      3.326      0.001       0.021       0.080\n",
            "5g_yes                  -0.0673      0.031     -2.194      0.028      -0.127      -0.007\n",
            "==============================================================================\n",
            "Omnibus:                      246.183   Durbin-Watson:                   1.902\n",
            "Prob(Omnibus):                  0.000   Jarque-Bera (JB):              483.879\n",
            "Skew:                          -0.658   Prob(JB):                    8.45e-106\n",
            "Kurtosis:                       4.753   Cond. No.                     2.90e+06\n",
            "==============================================================================\n",
            "\n",
            "Warnings:\n",
            "[1] Standard Errors assume that the covariance matrix of the errors is correctly specified.\n",
            "[2] The condition number is large, 2.9e+06. This might indicate that there are\n",
            "strong multicollinearity or other numerical problems.\n"
          ]
        }
      ]
    },
    {
      "cell_type": "code",
      "source": [
        "# Again checking model performance on training set after out changes\n",
        "print(\"Training Performance\\n\")\n",
        "olsmod2_train_perf = model_performance_regression(olsmod2, x_train3, y_train)\n",
        "olsmod2_train_perf"
      ],
      "metadata": {
        "colab": {
          "base_uri": "https://localhost:8080/",
          "height": 118
        },
        "id": "jAg1ndT1NTOW",
        "outputId": "0f4638bb-fe99-47a7-ac30-7a23b8b2b43b"
      },
      "execution_count": null,
      "outputs": [
        {
          "output_type": "stream",
          "name": "stdout",
          "text": [
            "Training Performance\n",
            "\n"
          ]
        },
        {
          "output_type": "execute_result",
          "data": {
            "text/plain": [
              "      RMSE       MAE  R-squared  Adj. R-squared      MAPE\n",
              "0  0.23403  0.182751    0.83924        0.838235  4.395407"
            ],
            "text/html": [
              "\n",
              "  <div id=\"df-ec871168-3c10-43b3-a8bd-ce6f0735a675\">\n",
              "    <div class=\"colab-df-container\">\n",
              "      <div>\n",
              "<style scoped>\n",
              "    .dataframe tbody tr th:only-of-type {\n",
              "        vertical-align: middle;\n",
              "    }\n",
              "\n",
              "    .dataframe tbody tr th {\n",
              "        vertical-align: top;\n",
              "    }\n",
              "\n",
              "    .dataframe thead th {\n",
              "        text-align: right;\n",
              "    }\n",
              "</style>\n",
              "<table border=\"1\" class=\"dataframe\">\n",
              "  <thead>\n",
              "    <tr style=\"text-align: right;\">\n",
              "      <th></th>\n",
              "      <th>RMSE</th>\n",
              "      <th>MAE</th>\n",
              "      <th>R-squared</th>\n",
              "      <th>Adj. R-squared</th>\n",
              "      <th>MAPE</th>\n",
              "    </tr>\n",
              "  </thead>\n",
              "  <tbody>\n",
              "    <tr>\n",
              "      <th>0</th>\n",
              "      <td>0.23403</td>\n",
              "      <td>0.182751</td>\n",
              "      <td>0.83924</td>\n",
              "      <td>0.838235</td>\n",
              "      <td>4.395407</td>\n",
              "    </tr>\n",
              "  </tbody>\n",
              "</table>\n",
              "</div>\n",
              "      <button class=\"colab-df-convert\" onclick=\"convertToInteractive('df-ec871168-3c10-43b3-a8bd-ce6f0735a675')\"\n",
              "              title=\"Convert this dataframe to an interactive table.\"\n",
              "              style=\"display:none;\">\n",
              "        \n",
              "  <svg xmlns=\"http://www.w3.org/2000/svg\" height=\"24px\"viewBox=\"0 0 24 24\"\n",
              "       width=\"24px\">\n",
              "    <path d=\"M0 0h24v24H0V0z\" fill=\"none\"/>\n",
              "    <path d=\"M18.56 5.44l.94 2.06.94-2.06 2.06-.94-2.06-.94-.94-2.06-.94 2.06-2.06.94zm-11 1L8.5 8.5l.94-2.06 2.06-.94-2.06-.94L8.5 2.5l-.94 2.06-2.06.94zm10 10l.94 2.06.94-2.06 2.06-.94-2.06-.94-.94-2.06-.94 2.06-2.06.94z\"/><path d=\"M17.41 7.96l-1.37-1.37c-.4-.4-.92-.59-1.43-.59-.52 0-1.04.2-1.43.59L10.3 9.45l-7.72 7.72c-.78.78-.78 2.05 0 2.83L4 21.41c.39.39.9.59 1.41.59.51 0 1.02-.2 1.41-.59l7.78-7.78 2.81-2.81c.8-.78.8-2.07 0-2.86zM5.41 20L4 18.59l7.72-7.72 1.47 1.35L5.41 20z\"/>\n",
              "  </svg>\n",
              "      </button>\n",
              "      \n",
              "  <style>\n",
              "    .colab-df-container {\n",
              "      display:flex;\n",
              "      flex-wrap:wrap;\n",
              "      gap: 12px;\n",
              "    }\n",
              "\n",
              "    .colab-df-convert {\n",
              "      background-color: #E8F0FE;\n",
              "      border: none;\n",
              "      border-radius: 50%;\n",
              "      cursor: pointer;\n",
              "      display: none;\n",
              "      fill: #1967D2;\n",
              "      height: 32px;\n",
              "      padding: 0 0 0 0;\n",
              "      width: 32px;\n",
              "    }\n",
              "\n",
              "    .colab-df-convert:hover {\n",
              "      background-color: #E2EBFA;\n",
              "      box-shadow: 0px 1px 2px rgba(60, 64, 67, 0.3), 0px 1px 3px 1px rgba(60, 64, 67, 0.15);\n",
              "      fill: #174EA6;\n",
              "    }\n",
              "\n",
              "    [theme=dark] .colab-df-convert {\n",
              "      background-color: #3B4455;\n",
              "      fill: #D2E3FC;\n",
              "    }\n",
              "\n",
              "    [theme=dark] .colab-df-convert:hover {\n",
              "      background-color: #434B5C;\n",
              "      box-shadow: 0px 1px 3px 1px rgba(0, 0, 0, 0.15);\n",
              "      filter: drop-shadow(0px 1px 2px rgba(0, 0, 0, 0.3));\n",
              "      fill: #FFFFFF;\n",
              "    }\n",
              "  </style>\n",
              "\n",
              "      <script>\n",
              "        const buttonEl =\n",
              "          document.querySelector('#df-ec871168-3c10-43b3-a8bd-ce6f0735a675 button.colab-df-convert');\n",
              "        buttonEl.style.display =\n",
              "          google.colab.kernel.accessAllowed ? 'block' : 'none';\n",
              "\n",
              "        async function convertToInteractive(key) {\n",
              "          const element = document.querySelector('#df-ec871168-3c10-43b3-a8bd-ce6f0735a675');\n",
              "          const dataTable =\n",
              "            await google.colab.kernel.invokeFunction('convertToInteractive',\n",
              "                                                     [key], {});\n",
              "          if (!dataTable) return;\n",
              "\n",
              "          const docLinkHtml = 'Like what you see? Visit the ' +\n",
              "            '<a target=\"_blank\" href=https://colab.research.google.com/notebooks/data_table.ipynb>data table notebook</a>'\n",
              "            + ' to learn more about interactive tables.';\n",
              "          element.innerHTML = '';\n",
              "          dataTable['output_type'] = 'display_data';\n",
              "          await google.colab.output.renderOutput(dataTable, element);\n",
              "          const docLink = document.createElement('div');\n",
              "          docLink.innerHTML = docLinkHtml;\n",
              "          element.appendChild(docLink);\n",
              "        }\n",
              "      </script>\n",
              "    </div>\n",
              "  </div>\n",
              "  "
            ]
          },
          "metadata": {},
          "execution_count": 225
        }
      ]
    },
    {
      "cell_type": "code",
      "source": [
        "# Again checking model performance on test set after out changes\n",
        "print(\"Test Performance\\n\")\n",
        "olsmod2_test_perf = model_performance_regression(olsmod2, x_test3, y_test)\n",
        "olsmod2_test_perf"
      ],
      "metadata": {
        "colab": {
          "base_uri": "https://localhost:8080/",
          "height": 118
        },
        "id": "htfSde4mNTQd",
        "outputId": "1798a20b-14b4-44d5-e7b1-9fc5c11170d8"
      },
      "execution_count": null,
      "outputs": [
        {
          "output_type": "stream",
          "name": "stdout",
          "text": [
            "Test Performance\n",
            "\n"
          ]
        },
        {
          "output_type": "execute_result",
          "data": {
            "text/plain": [
              "       RMSE       MAE  R-squared  Adj. R-squared      MAPE\n",
              "0  0.241434  0.186649   0.838387        0.836013  4.556349"
            ],
            "text/html": [
              "\n",
              "  <div id=\"df-87976d02-bd46-45cf-a6e2-0d13052bad0e\">\n",
              "    <div class=\"colab-df-container\">\n",
              "      <div>\n",
              "<style scoped>\n",
              "    .dataframe tbody tr th:only-of-type {\n",
              "        vertical-align: middle;\n",
              "    }\n",
              "\n",
              "    .dataframe tbody tr th {\n",
              "        vertical-align: top;\n",
              "    }\n",
              "\n",
              "    .dataframe thead th {\n",
              "        text-align: right;\n",
              "    }\n",
              "</style>\n",
              "<table border=\"1\" class=\"dataframe\">\n",
              "  <thead>\n",
              "    <tr style=\"text-align: right;\">\n",
              "      <th></th>\n",
              "      <th>RMSE</th>\n",
              "      <th>MAE</th>\n",
              "      <th>R-squared</th>\n",
              "      <th>Adj. R-squared</th>\n",
              "      <th>MAPE</th>\n",
              "    </tr>\n",
              "  </thead>\n",
              "  <tbody>\n",
              "    <tr>\n",
              "      <th>0</th>\n",
              "      <td>0.241434</td>\n",
              "      <td>0.186649</td>\n",
              "      <td>0.838387</td>\n",
              "      <td>0.836013</td>\n",
              "      <td>4.556349</td>\n",
              "    </tr>\n",
              "  </tbody>\n",
              "</table>\n",
              "</div>\n",
              "      <button class=\"colab-df-convert\" onclick=\"convertToInteractive('df-87976d02-bd46-45cf-a6e2-0d13052bad0e')\"\n",
              "              title=\"Convert this dataframe to an interactive table.\"\n",
              "              style=\"display:none;\">\n",
              "        \n",
              "  <svg xmlns=\"http://www.w3.org/2000/svg\" height=\"24px\"viewBox=\"0 0 24 24\"\n",
              "       width=\"24px\">\n",
              "    <path d=\"M0 0h24v24H0V0z\" fill=\"none\"/>\n",
              "    <path d=\"M18.56 5.44l.94 2.06.94-2.06 2.06-.94-2.06-.94-.94-2.06-.94 2.06-2.06.94zm-11 1L8.5 8.5l.94-2.06 2.06-.94-2.06-.94L8.5 2.5l-.94 2.06-2.06.94zm10 10l.94 2.06.94-2.06 2.06-.94-2.06-.94-.94-2.06-.94 2.06-2.06.94z\"/><path d=\"M17.41 7.96l-1.37-1.37c-.4-.4-.92-.59-1.43-.59-.52 0-1.04.2-1.43.59L10.3 9.45l-7.72 7.72c-.78.78-.78 2.05 0 2.83L4 21.41c.39.39.9.59 1.41.59.51 0 1.02-.2 1.41-.59l7.78-7.78 2.81-2.81c.8-.78.8-2.07 0-2.86zM5.41 20L4 18.59l7.72-7.72 1.47 1.35L5.41 20z\"/>\n",
              "  </svg>\n",
              "      </button>\n",
              "      \n",
              "  <style>\n",
              "    .colab-df-container {\n",
              "      display:flex;\n",
              "      flex-wrap:wrap;\n",
              "      gap: 12px;\n",
              "    }\n",
              "\n",
              "    .colab-df-convert {\n",
              "      background-color: #E8F0FE;\n",
              "      border: none;\n",
              "      border-radius: 50%;\n",
              "      cursor: pointer;\n",
              "      display: none;\n",
              "      fill: #1967D2;\n",
              "      height: 32px;\n",
              "      padding: 0 0 0 0;\n",
              "      width: 32px;\n",
              "    }\n",
              "\n",
              "    .colab-df-convert:hover {\n",
              "      background-color: #E2EBFA;\n",
              "      box-shadow: 0px 1px 2px rgba(60, 64, 67, 0.3), 0px 1px 3px 1px rgba(60, 64, 67, 0.15);\n",
              "      fill: #174EA6;\n",
              "    }\n",
              "\n",
              "    [theme=dark] .colab-df-convert {\n",
              "      background-color: #3B4455;\n",
              "      fill: #D2E3FC;\n",
              "    }\n",
              "\n",
              "    [theme=dark] .colab-df-convert:hover {\n",
              "      background-color: #434B5C;\n",
              "      box-shadow: 0px 1px 3px 1px rgba(0, 0, 0, 0.15);\n",
              "      filter: drop-shadow(0px 1px 2px rgba(0, 0, 0, 0.3));\n",
              "      fill: #FFFFFF;\n",
              "    }\n",
              "  </style>\n",
              "\n",
              "      <script>\n",
              "        const buttonEl =\n",
              "          document.querySelector('#df-87976d02-bd46-45cf-a6e2-0d13052bad0e button.colab-df-convert');\n",
              "        buttonEl.style.display =\n",
              "          google.colab.kernel.accessAllowed ? 'block' : 'none';\n",
              "\n",
              "        async function convertToInteractive(key) {\n",
              "          const element = document.querySelector('#df-87976d02-bd46-45cf-a6e2-0d13052bad0e');\n",
              "          const dataTable =\n",
              "            await google.colab.kernel.invokeFunction('convertToInteractive',\n",
              "                                                     [key], {});\n",
              "          if (!dataTable) return;\n",
              "\n",
              "          const docLinkHtml = 'Like what you see? Visit the ' +\n",
              "            '<a target=\"_blank\" href=https://colab.research.google.com/notebooks/data_table.ipynb>data table notebook</a>'\n",
              "            + ' to learn more about interactive tables.';\n",
              "          element.innerHTML = '';\n",
              "          dataTable['output_type'] = 'display_data';\n",
              "          await google.colab.output.renderOutput(dataTable, element);\n",
              "          const docLink = document.createElement('div');\n",
              "          docLink.innerHTML = docLinkHtml;\n",
              "          element.appendChild(docLink);\n",
              "        }\n",
              "      </script>\n",
              "    </div>\n",
              "  </div>\n",
              "  "
            ]
          },
          "metadata": {},
          "execution_count": 229
        }
      ]
    },
    {
      "cell_type": "code",
      "source": [
        "# By creating a new data frame of the actual values, the fitted values, and the residuals,\n",
        "# It will help us determine linearity, independence, and normality\n",
        "df_pred = pd.DataFrame()\n",
        "\n",
        "df_pred[\"Actual Values\"] = y_train \n",
        "df_pred[\"Fitted Values\"] = olsmod2.fittedvalues  \n",
        "df_pred[\"Residuals\"] = olsmod2.resid  \n",
        "\n",
        "df_pred.head()"
      ],
      "metadata": {
        "colab": {
          "base_uri": "https://localhost:8080/",
          "height": 206
        },
        "id": "CvrXmXdpamkx",
        "outputId": "ce73a25e-7145-42fc-9662-eb8c98218018"
      },
      "execution_count": null,
      "outputs": [
        {
          "output_type": "execute_result",
          "data": {
            "text/plain": [
              "      Actual Values  Fitted Values  Residuals\n",
              "3026       4.087488       3.867319   0.220169\n",
              "1525       4.448399       4.602001  -0.153602\n",
              "1128       4.315353       4.286957   0.028395\n",
              "3003       4.282068       4.195169   0.086899\n",
              "2907       4.456438       4.490563  -0.034125"
            ],
            "text/html": [
              "\n",
              "  <div id=\"df-ff621dfb-a8db-4592-a009-54209bffd890\">\n",
              "    <div class=\"colab-df-container\">\n",
              "      <div>\n",
              "<style scoped>\n",
              "    .dataframe tbody tr th:only-of-type {\n",
              "        vertical-align: middle;\n",
              "    }\n",
              "\n",
              "    .dataframe tbody tr th {\n",
              "        vertical-align: top;\n",
              "    }\n",
              "\n",
              "    .dataframe thead th {\n",
              "        text-align: right;\n",
              "    }\n",
              "</style>\n",
              "<table border=\"1\" class=\"dataframe\">\n",
              "  <thead>\n",
              "    <tr style=\"text-align: right;\">\n",
              "      <th></th>\n",
              "      <th>Actual Values</th>\n",
              "      <th>Fitted Values</th>\n",
              "      <th>Residuals</th>\n",
              "    </tr>\n",
              "  </thead>\n",
              "  <tbody>\n",
              "    <tr>\n",
              "      <th>3026</th>\n",
              "      <td>4.087488</td>\n",
              "      <td>3.867319</td>\n",
              "      <td>0.220169</td>\n",
              "    </tr>\n",
              "    <tr>\n",
              "      <th>1525</th>\n",
              "      <td>4.448399</td>\n",
              "      <td>4.602001</td>\n",
              "      <td>-0.153602</td>\n",
              "    </tr>\n",
              "    <tr>\n",
              "      <th>1128</th>\n",
              "      <td>4.315353</td>\n",
              "      <td>4.286957</td>\n",
              "      <td>0.028395</td>\n",
              "    </tr>\n",
              "    <tr>\n",
              "      <th>3003</th>\n",
              "      <td>4.282068</td>\n",
              "      <td>4.195169</td>\n",
              "      <td>0.086899</td>\n",
              "    </tr>\n",
              "    <tr>\n",
              "      <th>2907</th>\n",
              "      <td>4.456438</td>\n",
              "      <td>4.490563</td>\n",
              "      <td>-0.034125</td>\n",
              "    </tr>\n",
              "  </tbody>\n",
              "</table>\n",
              "</div>\n",
              "      <button class=\"colab-df-convert\" onclick=\"convertToInteractive('df-ff621dfb-a8db-4592-a009-54209bffd890')\"\n",
              "              title=\"Convert this dataframe to an interactive table.\"\n",
              "              style=\"display:none;\">\n",
              "        \n",
              "  <svg xmlns=\"http://www.w3.org/2000/svg\" height=\"24px\"viewBox=\"0 0 24 24\"\n",
              "       width=\"24px\">\n",
              "    <path d=\"M0 0h24v24H0V0z\" fill=\"none\"/>\n",
              "    <path d=\"M18.56 5.44l.94 2.06.94-2.06 2.06-.94-2.06-.94-.94-2.06-.94 2.06-2.06.94zm-11 1L8.5 8.5l.94-2.06 2.06-.94-2.06-.94L8.5 2.5l-.94 2.06-2.06.94zm10 10l.94 2.06.94-2.06 2.06-.94-2.06-.94-.94-2.06-.94 2.06-2.06.94z\"/><path d=\"M17.41 7.96l-1.37-1.37c-.4-.4-.92-.59-1.43-.59-.52 0-1.04.2-1.43.59L10.3 9.45l-7.72 7.72c-.78.78-.78 2.05 0 2.83L4 21.41c.39.39.9.59 1.41.59.51 0 1.02-.2 1.41-.59l7.78-7.78 2.81-2.81c.8-.78.8-2.07 0-2.86zM5.41 20L4 18.59l7.72-7.72 1.47 1.35L5.41 20z\"/>\n",
              "  </svg>\n",
              "      </button>\n",
              "      \n",
              "  <style>\n",
              "    .colab-df-container {\n",
              "      display:flex;\n",
              "      flex-wrap:wrap;\n",
              "      gap: 12px;\n",
              "    }\n",
              "\n",
              "    .colab-df-convert {\n",
              "      background-color: #E8F0FE;\n",
              "      border: none;\n",
              "      border-radius: 50%;\n",
              "      cursor: pointer;\n",
              "      display: none;\n",
              "      fill: #1967D2;\n",
              "      height: 32px;\n",
              "      padding: 0 0 0 0;\n",
              "      width: 32px;\n",
              "    }\n",
              "\n",
              "    .colab-df-convert:hover {\n",
              "      background-color: #E2EBFA;\n",
              "      box-shadow: 0px 1px 2px rgba(60, 64, 67, 0.3), 0px 1px 3px 1px rgba(60, 64, 67, 0.15);\n",
              "      fill: #174EA6;\n",
              "    }\n",
              "\n",
              "    [theme=dark] .colab-df-convert {\n",
              "      background-color: #3B4455;\n",
              "      fill: #D2E3FC;\n",
              "    }\n",
              "\n",
              "    [theme=dark] .colab-df-convert:hover {\n",
              "      background-color: #434B5C;\n",
              "      box-shadow: 0px 1px 3px 1px rgba(0, 0, 0, 0.15);\n",
              "      filter: drop-shadow(0px 1px 2px rgba(0, 0, 0, 0.3));\n",
              "      fill: #FFFFFF;\n",
              "    }\n",
              "  </style>\n",
              "\n",
              "      <script>\n",
              "        const buttonEl =\n",
              "          document.querySelector('#df-ff621dfb-a8db-4592-a009-54209bffd890 button.colab-df-convert');\n",
              "        buttonEl.style.display =\n",
              "          google.colab.kernel.accessAllowed ? 'block' : 'none';\n",
              "\n",
              "        async function convertToInteractive(key) {\n",
              "          const element = document.querySelector('#df-ff621dfb-a8db-4592-a009-54209bffd890');\n",
              "          const dataTable =\n",
              "            await google.colab.kernel.invokeFunction('convertToInteractive',\n",
              "                                                     [key], {});\n",
              "          if (!dataTable) return;\n",
              "\n",
              "          const docLinkHtml = 'Like what you see? Visit the ' +\n",
              "            '<a target=\"_blank\" href=https://colab.research.google.com/notebooks/data_table.ipynb>data table notebook</a>'\n",
              "            + ' to learn more about interactive tables.';\n",
              "          element.innerHTML = '';\n",
              "          dataTable['output_type'] = 'display_data';\n",
              "          await google.colab.output.renderOutput(dataTable, element);\n",
              "          const docLink = document.createElement('div');\n",
              "          docLink.innerHTML = docLinkHtml;\n",
              "          element.appendChild(docLink);\n",
              "        }\n",
              "      </script>\n",
              "    </div>\n",
              "  </div>\n",
              "  "
            ]
          },
          "metadata": {},
          "execution_count": 228
        }
      ]
    },
    {
      "cell_type": "code",
      "source": [
        "# We can plot the fitted versus residual plot to gather some infomation\n",
        "sns.residplot(\n",
        "    data=df_pred, x=\"Fitted Values\", y=\"Residuals\", color=\"purple\", lowess=True)\n",
        "\n",
        "plt.xlabel(\"Fitted Values\")\n",
        "plt.ylabel(\"Residuals\")\n",
        "plt.show()"
      ],
      "metadata": {
        "colab": {
          "base_uri": "https://localhost:8080/",
          "height": 280
        },
        "id": "1Nbjlzffbapn",
        "outputId": "a63866b2-7d5c-4cbd-9cc9-5d4131bfd8a8"
      },
      "execution_count": null,
      "outputs": [
        {
          "output_type": "display_data",
          "data": {
            "text/plain": [
              "<Figure size 432x288 with 1 Axes>"
            ],
            "image/png": "[encoded data removed]"
          },
          "metadata": {
            "needs_background": "light"
          }
        }
      ]
    },
    {
      "cell_type": "code",
      "source": [
        "# We can plot a histgram to see an intial idea about its normality\n",
        "sns.histplot(data=df_pred, x=\"Residuals\", kde=True)\n",
        "plt.title(\"Normality of residuals\")\n",
        "plt.show()\n",
        "# After plotting the graph we can see that under a certain lens it can be seen as normal."
      ],
      "metadata": {
        "colab": {
          "base_uri": "https://localhost:8080/",
          "height": 295
        },
        "id": "tcdl2uAMbkdF",
        "outputId": "92d0e7e7-fa17-48b1-9c1c-ac55777cc49e"
      },
      "execution_count": null,
      "outputs": [
        {
          "output_type": "display_data",
          "data": {
            "text/plain": [
              "<Figure size 432x288 with 1 Axes>"
            ],
            "image/png": "[encoded data removed]"
          },
          "metadata": {
            "needs_background": "light"
          }
        }
      ]
    },
    {
      "cell_type": "code",
      "source": [
        "# Import and untilize the proper libraries in order to check the Q-Q plot\n",
        "import pylab\n",
        "import scipy.stats as stats\n",
        "\n",
        "stats.probplot(df_pred[\"Residuals\"], dist=\"norm\", plot=pylab)\n",
        "plt.show()\n",
        "# The graph stays pretty normal up until the last portion just like in the graph above."
      ],
      "metadata": {
        "colab": {
          "base_uri": "https://localhost:8080/",
          "height": 295
        },
        "id": "R7GAvhx-bpHO",
        "outputId": "1dde3ce1-cb20-497d-ca21-1fb8866047ca"
      },
      "execution_count": null,
      "outputs": [
        {
          "output_type": "display_data",
          "data": {
            "text/plain": [
              "<Figure size 432x288 with 1 Axes>"
            ],
            "image/png": "[encoded data removed]"
          },
          "metadata": {
            "needs_background": "light"
          }
        }
      ]
    },
    {
      "cell_type": "code",
      "source": [
        "stats.shapiro(df_pred[\"Residuals\"])\n",
        "# By the Shapiro-Wilk test we can say that the residuals are not normal.\n",
        "# However as an approximation the distribution is close to normal."
      ],
      "metadata": {
        "colab": {
          "base_uri": "https://localhost:8080/"
        },
        "id": "EcRXebmebrG3",
        "outputId": "0f84f4d9-ac42-48f4-b2aa-8ffbf36c244d"
      },
      "execution_count": null,
      "outputs": [
        {
          "output_type": "execute_result",
          "data": {
            "text/plain": [
              "(0.9676972031593323, 6.995328206686811e-23)"
            ]
          },
          "metadata": {},
          "execution_count": 233
        }
      ]
    },
    {
      "cell_type": "code",
      "source": [
        "# Import in the proper libraries to test for homoscedasticity and run the test\n",
        "import statsmodels.stats.api as sms\n",
        "from statsmodels.compat import lzip\n",
        "\n",
        "name = [\"F statistic\", \"p-value\"]\n",
        "test = sms.het_goldfeldquandt(df_pred[\"Residuals\"], x_train3)\n",
        "lzip(name, test)\n",
        "# Since the p-value is greater than 0.05 we can say that the residuals are homoscedastic."
      ],
      "metadata": {
        "colab": {
          "base_uri": "https://localhost:8080/"
        },
        "id": "YLfv6kMVcMfH",
        "outputId": "e36affea-f780-4a8f-b48c-37e1838e3c72"
      },
      "execution_count": null,
      "outputs": [
        {
          "output_type": "execute_result",
          "data": {
            "text/plain": [
              "[('F statistic', 1.008750419910675), ('p-value', 0.44019706506678935)]"
            ]
          },
          "metadata": {},
          "execution_count": 234
        }
      ]
    },
    {
      "cell_type": "code",
      "source": [
        "# Finally we can check our predictions on the test set\n",
        "pred = olsmod2.predict(x_test3)\n",
        "\n",
        "df_pred_test = pd.DataFrame({\"Actual\": y_test, \"Predicted\": pred})\n",
        "df_pred_test.sample(10, random_state=1)\n",
        "# Looks good they are really comparable"
      ],
      "metadata": {
        "colab": {
          "base_uri": "https://localhost:8080/",
          "height": 363
        },
        "id": "JCGkOCTYltW0",
        "outputId": "639be4a4-6b4b-4041-aec9-0ff7eeae14e2"
      },
      "execution_count": null,
      "outputs": [
        {
          "output_type": "execute_result",
          "data": {
            "text/plain": [
              "        Actual  Predicted\n",
              "1995  4.566741   4.385671\n",
              "2341  3.696103   4.003934\n",
              "1913  3.592093   3.643812\n",
              "688   4.306495   4.103463\n",
              "650   4.522115   5.113026\n",
              "2291  4.259294   4.398406\n",
              "40    4.997685   5.459871\n",
              "1884  3.875359   4.053143\n",
              "2538  4.206631   4.035868\n",
              "45    5.380450   5.227899"
            ],
            "text/html": [
              "\n",
              "  <div id=\"df-c6071796-bad7-4716-8604-935f6a29a2f3\">\n",
              "    <div class=\"colab-df-container\">\n",
              "      <div>\n",
              "<style scoped>\n",
              "    .dataframe tbody tr th:only-of-type {\n",
              "        vertical-align: middle;\n",
              "    }\n",
              "\n",
              "    .dataframe tbody tr th {\n",
              "        vertical-align: top;\n",
              "    }\n",
              "\n",
              "    .dataframe thead th {\n",
              "        text-align: right;\n",
              "    }\n",
              "</style>\n",
              "<table border=\"1\" class=\"dataframe\">\n",
              "  <thead>\n",
              "    <tr style=\"text-align: right;\">\n",
              "      <th></th>\n",
              "      <th>Actual</th>\n",
              "      <th>Predicted</th>\n",
              "    </tr>\n",
              "  </thead>\n",
              "  <tbody>\n",
              "    <tr>\n",
              "      <th>1995</th>\n",
              "      <td>4.566741</td>\n",
              "      <td>4.385671</td>\n",
              "    </tr>\n",
              "    <tr>\n",
              "      <th>2341</th>\n",
              "      <td>3.696103</td>\n",
              "      <td>4.003934</td>\n",
              "    </tr>\n",
              "    <tr>\n",
              "      <th>1913</th>\n",
              "      <td>3.592093</td>\n",
              "      <td>3.643812</td>\n",
              "    </tr>\n",
              "    <tr>\n",
              "      <th>688</th>\n",
              "      <td>4.306495</td>\n",
              "      <td>4.103463</td>\n",
              "    </tr>\n",
              "    <tr>\n",
              "      <th>650</th>\n",
              "      <td>4.522115</td>\n",
              "      <td>5.113026</td>\n",
              "    </tr>\n",
              "    <tr>\n",
              "      <th>2291</th>\n",
              "      <td>4.259294</td>\n",
              "      <td>4.398406</td>\n",
              "    </tr>\n",
              "    <tr>\n",
              "      <th>40</th>\n",
              "      <td>4.997685</td>\n",
              "      <td>5.459871</td>\n",
              "    </tr>\n",
              "    <tr>\n",
              "      <th>1884</th>\n",
              "      <td>3.875359</td>\n",
              "      <td>4.053143</td>\n",
              "    </tr>\n",
              "    <tr>\n",
              "      <th>2538</th>\n",
              "      <td>4.206631</td>\n",
              "      <td>4.035868</td>\n",
              "    </tr>\n",
              "    <tr>\n",
              "      <th>45</th>\n",
              "      <td>5.380450</td>\n",
              "      <td>5.227899</td>\n",
              "    </tr>\n",
              "  </tbody>\n",
              "</table>\n",
              "</div>\n",
              "      <button class=\"colab-df-convert\" onclick=\"convertToInteractive('df-c6071796-bad7-4716-8604-935f6a29a2f3')\"\n",
              "              title=\"Convert this dataframe to an interactive table.\"\n",
              "              style=\"display:none;\">\n",
              "        \n",
              "  <svg xmlns=\"http://www.w3.org/2000/svg\" height=\"24px\"viewBox=\"0 0 24 24\"\n",
              "       width=\"24px\">\n",
              "    <path d=\"M0 0h24v24H0V0z\" fill=\"none\"/>\n",
              "    <path d=\"M18.56 5.44l.94 2.06.94-2.06 2.06-.94-2.06-.94-.94-2.06-.94 2.06-2.06.94zm-11 1L8.5 8.5l.94-2.06 2.06-.94-2.06-.94L8.5 2.5l-.94 2.06-2.06.94zm10 10l.94 2.06.94-2.06 2.06-.94-2.06-.94-.94-2.06-.94 2.06-2.06.94z\"/><path d=\"M17.41 7.96l-1.37-1.37c-.4-.4-.92-.59-1.43-.59-.52 0-1.04.2-1.43.59L10.3 9.45l-7.72 7.72c-.78.78-.78 2.05 0 2.83L4 21.41c.39.39.9.59 1.41.59.51 0 1.02-.2 1.41-.59l7.78-7.78 2.81-2.81c.8-.78.8-2.07 0-2.86zM5.41 20L4 18.59l7.72-7.72 1.47 1.35L5.41 20z\"/>\n",
              "  </svg>\n",
              "      </button>\n",
              "      \n",
              "  <style>\n",
              "    .colab-df-container {\n",
              "      display:flex;\n",
              "      flex-wrap:wrap;\n",
              "      gap: 12px;\n",
              "    }\n",
              "\n",
              "    .colab-df-convert {\n",
              "      background-color: #E8F0FE;\n",
              "      border: none;\n",
              "      border-radius: 50%;\n",
              "      cursor: pointer;\n",
              "      display: none;\n",
              "      fill: #1967D2;\n",
              "      height: 32px;\n",
              "      padding: 0 0 0 0;\n",
              "      width: 32px;\n",
              "    }\n",
              "\n",
              "    .colab-df-convert:hover {\n",
              "      background-color: #E2EBFA;\n",
              "      box-shadow: 0px 1px 2px rgba(60, 64, 67, 0.3), 0px 1px 3px 1px rgba(60, 64, 67, 0.15);\n",
              "      fill: #174EA6;\n",
              "    }\n",
              "\n",
              "    [theme=dark] .colab-df-convert {\n",
              "      background-color: #3B4455;\n",
              "      fill: #D2E3FC;\n",
              "    }\n",
              "\n",
              "    [theme=dark] .colab-df-convert:hover {\n",
              "      background-color: #434B5C;\n",
              "      box-shadow: 0px 1px 3px 1px rgba(0, 0, 0, 0.15);\n",
              "      filter: drop-shadow(0px 1px 2px rgba(0, 0, 0, 0.3));\n",
              "      fill: #FFFFFF;\n",
              "    }\n",
              "  </style>\n",
              "\n",
              "      <script>\n",
              "        const buttonEl =\n",
              "          document.querySelector('#df-c6071796-bad7-4716-8604-935f6a29a2f3 button.colab-df-convert');\n",
              "        buttonEl.style.display =\n",
              "          google.colab.kernel.accessAllowed ? 'block' : 'none';\n",
              "\n",
              "        async function convertToInteractive(key) {\n",
              "          const element = document.querySelector('#df-c6071796-bad7-4716-8604-935f6a29a2f3');\n",
              "          const dataTable =\n",
              "            await google.colab.kernel.invokeFunction('convertToInteractive',\n",
              "                                                     [key], {});\n",
              "          if (!dataTable) return;\n",
              "\n",
              "          const docLinkHtml = 'Like what you see? Visit the ' +\n",
              "            '<a target=\"_blank\" href=https://colab.research.google.com/notebooks/data_table.ipynb>data table notebook</a>'\n",
              "            + ' to learn more about interactive tables.';\n",
              "          element.innerHTML = '';\n",
              "          dataTable['output_type'] = 'display_data';\n",
              "          await google.colab.output.renderOutput(dataTable, element);\n",
              "          const docLink = document.createElement('div');\n",
              "          docLink.innerHTML = docLinkHtml;\n",
              "          element.appendChild(docLink);\n",
              "        }\n",
              "      </script>\n",
              "    </div>\n",
              "  </div>\n",
              "  "
            ]
          },
          "metadata": {},
          "execution_count": 236
        }
      ]
    },
    {
      "cell_type": "markdown",
      "metadata": {
        "id": "jRYSDgFZMKtm"
      },
      "source": [
        "## Final Model"
      ]
    },
    {
      "cell_type": "code",
      "execution_count": null,
      "metadata": {
        "id": "x_Sqvs4TMKtn",
        "colab": {
          "base_uri": "https://localhost:8080/"
        },
        "outputId": "36ca4dce-01f2-4ee8-fbc3-f60a162b576e"
      },
      "outputs": [
        {
          "output_type": "stream",
          "name": "stdout",
          "text": [
            "                              OLS Regression Results                             \n",
            "=================================================================================\n",
            "Dep. Variable:     normalized_used_price   R-squared:                       0.839\n",
            "Model:                               OLS   Adj. R-squared:                  0.838\n",
            "Method:                    Least Squares   F-statistic:                     895.7\n",
            "Date:                   Fri, 27 May 2022   Prob (F-statistic):               0.00\n",
            "Time:                           23:08:42   Log-Likelihood:                 80.645\n",
            "No. Observations:                   2417   AIC:                            -131.3\n",
            "Df Residuals:                       2402   BIC:                            -44.44\n",
            "Df Model:                             14                                         \n",
            "Covariance Type:               nonrobust                                         \n",
            "========================================================================================\n",
            "                           coef    std err          t      P>|t|      [0.025      0.975]\n",
            "----------------------------------------------------------------------------------------\n",
            "const                  -57.4521      6.850     -8.387      0.000     -70.885     -44.019\n",
            "main_camera_mp           0.0210      0.001     14.714      0.000       0.018       0.024\n",
            "selfie_camera_mp         0.0138      0.001     12.858      0.000       0.012       0.016\n",
            "ram                      0.0207      0.005      4.151      0.000       0.011       0.030\n",
            "weight                   0.0017      6e-05     27.672      0.000       0.002       0.002\n",
            "release_year             0.0292      0.003      8.589      0.000       0.023       0.036\n",
            "normalized_new_price     0.4415      0.011     39.337      0.000       0.419       0.463\n",
            "brand_name_Karbonn       0.1156      0.055      2.111      0.035       0.008       0.223\n",
            "brand_name_Samsung      -0.0374      0.016     -2.270      0.023      -0.070      -0.005\n",
            "brand_name_Sony         -0.0670      0.030     -2.197      0.028      -0.127      -0.007\n",
            "brand_name_Xiaomi        0.0801      0.026      3.114      0.002       0.030       0.130\n",
            "os_Others               -0.1276      0.027     -4.667      0.000      -0.181      -0.074\n",
            "os_iOS                  -0.0900      0.045     -1.994      0.046      -0.179      -0.002\n",
            "4g_yes                   0.0502      0.015      3.326      0.001       0.021       0.080\n",
            "5g_yes                  -0.0673      0.031     -2.194      0.028      -0.127      -0.007\n",
            "==============================================================================\n",
            "Omnibus:                      246.183   Durbin-Watson:                   1.902\n",
            "Prob(Omnibus):                  0.000   Jarque-Bera (JB):              483.879\n",
            "Skew:                          -0.658   Prob(JB):                    8.45e-106\n",
            "Kurtosis:                       4.753   Cond. No.                     2.90e+06\n",
            "==============================================================================\n",
            "\n",
            "Warnings:\n",
            "[1] Standard Errors assume that the covariance matrix of the errors is correctly specified.\n",
            "[2] The condition number is large, 2.9e+06. This might indicate that there are\n",
            "strong multicollinearity or other numerical problems.\n"
          ]
        }
      ],
      "source": [
        "#Print out the final model\n",
        "olsmod_final = sm.OLS(y_train, x_train3).fit()\n",
        "print(olsmod_final.summary())"
      ]
    },
    {
      "cell_type": "code",
      "source": [
        "# Print out the final model proformance on the training set.\n",
        "print(\"Training Performance\\n\")\n",
        "olsmod2_train_perf = model_performance_regression(olsmod_final, x_train3, y_train)\n",
        "olsmod2_train_perf"
      ],
      "metadata": {
        "colab": {
          "base_uri": "https://localhost:8080/",
          "height": 118
        },
        "id": "oiD7aWCudpFK",
        "outputId": "404c65cc-fb5c-4f51-a3bf-3a6724c0ec13"
      },
      "execution_count": null,
      "outputs": [
        {
          "output_type": "stream",
          "name": "stdout",
          "text": [
            "Training Performance\n",
            "\n"
          ]
        },
        {
          "output_type": "execute_result",
          "data": {
            "text/plain": [
              "      RMSE       MAE  R-squared  Adj. R-squared      MAPE\n",
              "0  0.23403  0.182751    0.83924        0.838235  4.395407"
            ],
            "text/html": [
              "\n",
              "  <div id=\"df-aa0ae39d-f398-485b-b32e-3099bce844a8\">\n",
              "    <div class=\"colab-df-container\">\n",
              "      <div>\n",
              "<style scoped>\n",
              "    .dataframe tbody tr th:only-of-type {\n",
              "        vertical-align: middle;\n",
              "    }\n",
              "\n",
              "    .dataframe tbody tr th {\n",
              "        vertical-align: top;\n",
              "    }\n",
              "\n",
              "    .dataframe thead th {\n",
              "        text-align: right;\n",
              "    }\n",
              "</style>\n",
              "<table border=\"1\" class=\"dataframe\">\n",
              "  <thead>\n",
              "    <tr style=\"text-align: right;\">\n",
              "      <th></th>\n",
              "      <th>RMSE</th>\n",
              "      <th>MAE</th>\n",
              "      <th>R-squared</th>\n",
              "      <th>Adj. R-squared</th>\n",
              "      <th>MAPE</th>\n",
              "    </tr>\n",
              "  </thead>\n",
              "  <tbody>\n",
              "    <tr>\n",
              "      <th>0</th>\n",
              "      <td>0.23403</td>\n",
              "      <td>0.182751</td>\n",
              "      <td>0.83924</td>\n",
              "      <td>0.838235</td>\n",
              "      <td>4.395407</td>\n",
              "    </tr>\n",
              "  </tbody>\n",
              "</table>\n",
              "</div>\n",
              "      <button class=\"colab-df-convert\" onclick=\"convertToInteractive('df-aa0ae39d-f398-485b-b32e-3099bce844a8')\"\n",
              "              title=\"Convert this dataframe to an interactive table.\"\n",
              "              style=\"display:none;\">\n",
              "        \n",
              "  <svg xmlns=\"http://www.w3.org/2000/svg\" height=\"24px\"viewBox=\"0 0 24 24\"\n",
              "       width=\"24px\">\n",
              "    <path d=\"M0 0h24v24H0V0z\" fill=\"none\"/>\n",
              "    <path d=\"M18.56 5.44l.94 2.06.94-2.06 2.06-.94-2.06-.94-.94-2.06-.94 2.06-2.06.94zm-11 1L8.5 8.5l.94-2.06 2.06-.94-2.06-.94L8.5 2.5l-.94 2.06-2.06.94zm10 10l.94 2.06.94-2.06 2.06-.94-2.06-.94-.94-2.06-.94 2.06-2.06.94z\"/><path d=\"M17.41 7.96l-1.37-1.37c-.4-.4-.92-.59-1.43-.59-.52 0-1.04.2-1.43.59L10.3 9.45l-7.72 7.72c-.78.78-.78 2.05 0 2.83L4 21.41c.39.39.9.59 1.41.59.51 0 1.02-.2 1.41-.59l7.78-7.78 2.81-2.81c.8-.78.8-2.07 0-2.86zM5.41 20L4 18.59l7.72-7.72 1.47 1.35L5.41 20z\"/>\n",
              "  </svg>\n",
              "      </button>\n",
              "      \n",
              "  <style>\n",
              "    .colab-df-container {\n",
              "      display:flex;\n",
              "      flex-wrap:wrap;\n",
              "      gap: 12px;\n",
              "    }\n",
              "\n",
              "    .colab-df-convert {\n",
              "      background-color: #E8F0FE;\n",
              "      border: none;\n",
              "      border-radius: 50%;\n",
              "      cursor: pointer;\n",
              "      display: none;\n",
              "      fill: #1967D2;\n",
              "      height: 32px;\n",
              "      padding: 0 0 0 0;\n",
              "      width: 32px;\n",
              "    }\n",
              "\n",
              "    .colab-df-convert:hover {\n",
              "      background-color: #E2EBFA;\n",
              "      box-shadow: 0px 1px 2px rgba(60, 64, 67, 0.3), 0px 1px 3px 1px rgba(60, 64, 67, 0.15);\n",
              "      fill: #174EA6;\n",
              "    }\n",
              "\n",
              "    [theme=dark] .colab-df-convert {\n",
              "      background-color: #3B4455;\n",
              "      fill: #D2E3FC;\n",
              "    }\n",
              "\n",
              "    [theme=dark] .colab-df-convert:hover {\n",
              "      background-color: #434B5C;\n",
              "      box-shadow: 0px 1px 3px 1px rgba(0, 0, 0, 0.15);\n",
              "      filter: drop-shadow(0px 1px 2px rgba(0, 0, 0, 0.3));\n",
              "      fill: #FFFFFF;\n",
              "    }\n",
              "  </style>\n",
              "\n",
              "      <script>\n",
              "        const buttonEl =\n",
              "          document.querySelector('#df-aa0ae39d-f398-485b-b32e-3099bce844a8 button.colab-df-convert');\n",
              "        buttonEl.style.display =\n",
              "          google.colab.kernel.accessAllowed ? 'block' : 'none';\n",
              "\n",
              "        async function convertToInteractive(key) {\n",
              "          const element = document.querySelector('#df-aa0ae39d-f398-485b-b32e-3099bce844a8');\n",
              "          const dataTable =\n",
              "            await google.colab.kernel.invokeFunction('convertToInteractive',\n",
              "                                                     [key], {});\n",
              "          if (!dataTable) return;\n",
              "\n",
              "          const docLinkHtml = 'Like what you see? Visit the ' +\n",
              "            '<a target=\"_blank\" href=https://colab.research.google.com/notebooks/data_table.ipynb>data table notebook</a>'\n",
              "            + ' to learn more about interactive tables.';\n",
              "          element.innerHTML = '';\n",
              "          dataTable['output_type'] = 'display_data';\n",
              "          await google.colab.output.renderOutput(dataTable, element);\n",
              "          const docLink = document.createElement('div');\n",
              "          docLink.innerHTML = docLinkHtml;\n",
              "          element.appendChild(docLink);\n",
              "        }\n",
              "      </script>\n",
              "    </div>\n",
              "  </div>\n",
              "  "
            ]
          },
          "metadata": {},
          "execution_count": 238
        }
      ]
    },
    {
      "cell_type": "code",
      "source": [
        "# Print out the final model proformance on the test set.\n",
        "print(\"Test Performance\\n\")\n",
        "olsmod2_test_perf = model_performance_regression(olsmod2, x_test3, y_test)\n",
        "olsmod2_test_perf"
      ],
      "metadata": {
        "colab": {
          "base_uri": "https://localhost:8080/",
          "height": 118
        },
        "id": "EcpauhU1d0Mj",
        "outputId": "7b449b48-ef49-4a0d-f5f9-48e561e471a4"
      },
      "execution_count": null,
      "outputs": [
        {
          "output_type": "stream",
          "name": "stdout",
          "text": [
            "Test Performance\n",
            "\n"
          ]
        },
        {
          "output_type": "execute_result",
          "data": {
            "text/plain": [
              "       RMSE       MAE  R-squared  Adj. R-squared      MAPE\n",
              "0  0.241434  0.186649   0.838387        0.836013  4.556349"
            ],
            "text/html": [
              "\n",
              "  <div id=\"df-a8bd336a-a3b4-4c62-9913-b293bf9c3308\">\n",
              "    <div class=\"colab-df-container\">\n",
              "      <div>\n",
              "<style scoped>\n",
              "    .dataframe tbody tr th:only-of-type {\n",
              "        vertical-align: middle;\n",
              "    }\n",
              "\n",
              "    .dataframe tbody tr th {\n",
              "        vertical-align: top;\n",
              "    }\n",
              "\n",
              "    .dataframe thead th {\n",
              "        text-align: right;\n",
              "    }\n",
              "</style>\n",
              "<table border=\"1\" class=\"dataframe\">\n",
              "  <thead>\n",
              "    <tr style=\"text-align: right;\">\n",
              "      <th></th>\n",
              "      <th>RMSE</th>\n",
              "      <th>MAE</th>\n",
              "      <th>R-squared</th>\n",
              "      <th>Adj. R-squared</th>\n",
              "      <th>MAPE</th>\n",
              "    </tr>\n",
              "  </thead>\n",
              "  <tbody>\n",
              "    <tr>\n",
              "      <th>0</th>\n",
              "      <td>0.241434</td>\n",
              "      <td>0.186649</td>\n",
              "      <td>0.838387</td>\n",
              "      <td>0.836013</td>\n",
              "      <td>4.556349</td>\n",
              "    </tr>\n",
              "  </tbody>\n",
              "</table>\n",
              "</div>\n",
              "      <button class=\"colab-df-convert\" onclick=\"convertToInteractive('df-a8bd336a-a3b4-4c62-9913-b293bf9c3308')\"\n",
              "              title=\"Convert this dataframe to an interactive table.\"\n",
              "              style=\"display:none;\">\n",
              "        \n",
              "  <svg xmlns=\"http://www.w3.org/2000/svg\" height=\"24px\"viewBox=\"0 0 24 24\"\n",
              "       width=\"24px\">\n",
              "    <path d=\"M0 0h24v24H0V0z\" fill=\"none\"/>\n",
              "    <path d=\"M18.56 5.44l.94 2.06.94-2.06 2.06-.94-2.06-.94-.94-2.06-.94 2.06-2.06.94zm-11 1L8.5 8.5l.94-2.06 2.06-.94-2.06-.94L8.5 2.5l-.94 2.06-2.06.94zm10 10l.94 2.06.94-2.06 2.06-.94-2.06-.94-.94-2.06-.94 2.06-2.06.94z\"/><path d=\"M17.41 7.96l-1.37-1.37c-.4-.4-.92-.59-1.43-.59-.52 0-1.04.2-1.43.59L10.3 9.45l-7.72 7.72c-.78.78-.78 2.05 0 2.83L4 21.41c.39.39.9.59 1.41.59.51 0 1.02-.2 1.41-.59l7.78-7.78 2.81-2.81c.8-.78.8-2.07 0-2.86zM5.41 20L4 18.59l7.72-7.72 1.47 1.35L5.41 20z\"/>\n",
              "  </svg>\n",
              "      </button>\n",
              "      \n",
              "  <style>\n",
              "    .colab-df-container {\n",
              "      display:flex;\n",
              "      flex-wrap:wrap;\n",
              "      gap: 12px;\n",
              "    }\n",
              "\n",
              "    .colab-df-convert {\n",
              "      background-color: #E8F0FE;\n",
              "      border: none;\n",
              "      border-radius: 50%;\n",
              "      cursor: pointer;\n",
              "      display: none;\n",
              "      fill: #1967D2;\n",
              "      height: 32px;\n",
              "      padding: 0 0 0 0;\n",
              "      width: 32px;\n",
              "    }\n",
              "\n",
              "    .colab-df-convert:hover {\n",
              "      background-color: #E2EBFA;\n",
              "      box-shadow: 0px 1px 2px rgba(60, 64, 67, 0.3), 0px 1px 3px 1px rgba(60, 64, 67, 0.15);\n",
              "      fill: #174EA6;\n",
              "    }\n",
              "\n",
              "    [theme=dark] .colab-df-convert {\n",
              "      background-color: #3B4455;\n",
              "      fill: #D2E3FC;\n",
              "    }\n",
              "\n",
              "    [theme=dark] .colab-df-convert:hover {\n",
              "      background-color: #434B5C;\n",
              "      box-shadow: 0px 1px 3px 1px rgba(0, 0, 0, 0.15);\n",
              "      filter: drop-shadow(0px 1px 2px rgba(0, 0, 0, 0.3));\n",
              "      fill: #FFFFFF;\n",
              "    }\n",
              "  </style>\n",
              "\n",
              "      <script>\n",
              "        const buttonEl =\n",
              "          document.querySelector('#df-a8bd336a-a3b4-4c62-9913-b293bf9c3308 button.colab-df-convert');\n",
              "        buttonEl.style.display =\n",
              "          google.colab.kernel.accessAllowed ? 'block' : 'none';\n",
              "\n",
              "        async function convertToInteractive(key) {\n",
              "          const element = document.querySelector('#df-a8bd336a-a3b4-4c62-9913-b293bf9c3308');\n",
              "          const dataTable =\n",
              "            await google.colab.kernel.invokeFunction('convertToInteractive',\n",
              "                                                     [key], {});\n",
              "          if (!dataTable) return;\n",
              "\n",
              "          const docLinkHtml = 'Like what you see? Visit the ' +\n",
              "            '<a target=\"_blank\" href=https://colab.research.google.com/notebooks/data_table.ipynb>data table notebook</a>'\n",
              "            + ' to learn more about interactive tables.';\n",
              "          element.innerHTML = '';\n",
              "          dataTable['output_type'] = 'display_data';\n",
              "          await google.colab.output.renderOutput(dataTable, element);\n",
              "          const docLink = document.createElement('div');\n",
              "          docLink.innerHTML = docLinkHtml;\n",
              "          element.appendChild(docLink);\n",
              "        }\n",
              "      </script>\n",
              "    </div>\n",
              "  </div>\n",
              "  "
            ]
          },
          "metadata": {},
          "execution_count": 239
        }
      ]
    },
    {
      "cell_type": "markdown",
      "metadata": {
        "id": "2BkZh6eHluZK"
      },
      "source": [
        "## Actionable Insights and Recommendations "
      ]
    },
    {
      "cell_type": "markdown",
      "metadata": {
        "id": "Mh_zkgqs4rqN"
      },
      "source": [
        "- This final model is able to explain ~84% of the variation in the data and with 4.6% of the normalized used price on the test data.\n",
        "-The main camera mp, selfie camera mp, and ram are all influenctial when it comes to determining the price. If you increase their unit by 1 then the used price increases by 0.0210, 0.0138, and 0.0207 respectively.\n",
        "-But by far we can see that biggest influence to the normalized used price is the release year. If we increase the release year by one unit the used price will go up by 0.0292 units.\n",
        "- Along with this, the company should look for the newest phones not only because of the above point, but because most newer phones have all better qualities; thus, increasing the price all along the board.\n",
        "-We can see that 5g is 0.0673 units less while 4g is 0.0502 more. Which tells the company that they might want to put less focus into getting 5g.\n",
        "-With the OLS model we can also see what brands do better or worse. For example, Xiaomi and Karbonn do great while Samsung and Sony are on the negative ends.\n",
        "- I think this a really good summary of the things ideal qualities to insure a high resell price while also acknowledging some categorical bias.\n"
      ]
    },
    {
      "cell_type": "markdown",
      "metadata": {
        "id": "bWXXovuh4rqN"
      },
      "source": [
        "___"
      ]
    }
  ],
  "metadata": {
    "colab": {
      "collapsed_sections": [
        "3SntBY974rqJ",
        "v_-uuGqH-qTt",
        "xxhpZv9y-qTw",
        "UvpMDcaaMKtI",
        "TS1NGy4TcZPz",
        "c2x1S2w-ciP8",
        "pVn5toJ7MKte",
        "u6aiqQxNF1TD",
        "KNzFis7eEaXj",
        "bFKpO5knV5ak",
        "HeUzI1OB4rqM",
        "jvoU3F6oMKti",
        "a9GxSQf-qH8e",
        "5yMIUcZSx6Uo",
        "0L6su3EUyDBi",
        "jRYSDgFZMKtm",
        "2BkZh6eHluZK"
      ],
      "name": "Garret_Kelley_Project_3.ipynb",
      "provenance": []
    },
    "kernelspec": {
      "display_name": "Python 3 (ipykernel)",
      "language": "python",
      "name": "python3"
    },
    "language_info": {
      "codemirror_mode": {
        "name": "ipython",
        "version": 3
      },
      "file_extension": ".py",
      "mimetype": "text/x-python",
      "name": "python",
      "nbconvert_exporter": "python",
      "pygments_lexer": "ipython3",
      "version": "3.8.12"
    }
  },
  "nbformat": 4,
  "nbformat_minor": 0
}